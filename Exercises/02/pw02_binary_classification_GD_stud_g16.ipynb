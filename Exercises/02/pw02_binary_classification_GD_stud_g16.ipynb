{
 "cells": [
  {
   "cell_type": "code",
   "execution_count": 1,
   "metadata": {},
   "outputs": [],
   "source": [
    "import torch\n",
    "import numpy as np\n",
    "import matplotlib.pyplot as plt"
   ]
  },
  {
   "cell_type": "markdown",
   "metadata": {
    "tags": []
   },
   "source": [
    "## Binary Classification\n",
    "\n",
    "Here, we use a tabular dataset from kaggle (https://www.kaggle.com/sammy123/lower-back-pain-symptoms-dataset) with features on patients physical spine details possibly suited for classifying whether the person is 'abnormal' or 'normal' - possibly suffers back pain or not.   \n",
    "\n",
    "We here just want to see how the training works with logistic regression (binary case). We set aside a proper handling of the learning experiment by splitting the data into a train and test partition (in general we would even have a validation partition). We focus here on making the system learn something. \n",
    "\n",
    "### Load Data"
   ]
  },
  {
   "cell_type": "code",
   "execution_count": 2,
   "metadata": {},
   "outputs": [
    {
     "data": {
      "text/html": [
       "<div>\n",
       "<style scoped>\n",
       "    .dataframe tbody tr th:only-of-type {\n",
       "        vertical-align: middle;\n",
       "    }\n",
       "\n",
       "    .dataframe tbody tr th {\n",
       "        vertical-align: top;\n",
       "    }\n",
       "\n",
       "    .dataframe thead th {\n",
       "        text-align: right;\n",
       "    }\n",
       "</style>\n",
       "<table border=\"1\" class=\"dataframe\">\n",
       "  <thead>\n",
       "    <tr style=\"text-align: right;\">\n",
       "      <th></th>\n",
       "      <th>Col1</th>\n",
       "      <th>Col2</th>\n",
       "      <th>Col3</th>\n",
       "      <th>Col4</th>\n",
       "      <th>Col5</th>\n",
       "      <th>Col6</th>\n",
       "      <th>Col7</th>\n",
       "      <th>Col8</th>\n",
       "      <th>Col9</th>\n",
       "      <th>Col10</th>\n",
       "      <th>Col11</th>\n",
       "      <th>Col12</th>\n",
       "      <th>Class_att</th>\n",
       "    </tr>\n",
       "  </thead>\n",
       "  <tbody>\n",
       "    <tr>\n",
       "      <th>0</th>\n",
       "      <td>63.027818</td>\n",
       "      <td>22.552586</td>\n",
       "      <td>39.609117</td>\n",
       "      <td>40.475232</td>\n",
       "      <td>98.672917</td>\n",
       "      <td>-0.254400</td>\n",
       "      <td>0.744503</td>\n",
       "      <td>12.5661</td>\n",
       "      <td>14.5386</td>\n",
       "      <td>15.30468</td>\n",
       "      <td>-28.658501</td>\n",
       "      <td>43.5123</td>\n",
       "      <td>Abnormal</td>\n",
       "    </tr>\n",
       "    <tr>\n",
       "      <th>1</th>\n",
       "      <td>39.056951</td>\n",
       "      <td>10.060991</td>\n",
       "      <td>25.015378</td>\n",
       "      <td>28.995960</td>\n",
       "      <td>114.405425</td>\n",
       "      <td>4.564259</td>\n",
       "      <td>0.415186</td>\n",
       "      <td>12.8874</td>\n",
       "      <td>17.5323</td>\n",
       "      <td>16.78486</td>\n",
       "      <td>-25.530607</td>\n",
       "      <td>16.1102</td>\n",
       "      <td>Abnormal</td>\n",
       "    </tr>\n",
       "    <tr>\n",
       "      <th>2</th>\n",
       "      <td>68.832021</td>\n",
       "      <td>22.218482</td>\n",
       "      <td>50.092194</td>\n",
       "      <td>46.613539</td>\n",
       "      <td>105.985135</td>\n",
       "      <td>-3.530317</td>\n",
       "      <td>0.474889</td>\n",
       "      <td>26.8343</td>\n",
       "      <td>17.4861</td>\n",
       "      <td>16.65897</td>\n",
       "      <td>-29.031888</td>\n",
       "      <td>19.2221</td>\n",
       "      <td>Abnormal</td>\n",
       "    </tr>\n",
       "    <tr>\n",
       "      <th>3</th>\n",
       "      <td>69.297008</td>\n",
       "      <td>24.652878</td>\n",
       "      <td>44.311238</td>\n",
       "      <td>44.644130</td>\n",
       "      <td>101.868495</td>\n",
       "      <td>11.211523</td>\n",
       "      <td>0.369345</td>\n",
       "      <td>23.5603</td>\n",
       "      <td>12.7074</td>\n",
       "      <td>11.42447</td>\n",
       "      <td>-30.470246</td>\n",
       "      <td>18.8329</td>\n",
       "      <td>Abnormal</td>\n",
       "    </tr>\n",
       "    <tr>\n",
       "      <th>4</th>\n",
       "      <td>49.712859</td>\n",
       "      <td>9.652075</td>\n",
       "      <td>28.317406</td>\n",
       "      <td>40.060784</td>\n",
       "      <td>108.168725</td>\n",
       "      <td>7.918501</td>\n",
       "      <td>0.543360</td>\n",
       "      <td>35.4940</td>\n",
       "      <td>15.9546</td>\n",
       "      <td>8.87237</td>\n",
       "      <td>-16.378376</td>\n",
       "      <td>24.9171</td>\n",
       "      <td>Abnormal</td>\n",
       "    </tr>\n",
       "  </tbody>\n",
       "</table>\n",
       "</div>"
      ],
      "text/plain": [
       "        Col1       Col2       Col3       Col4        Col5       Col6  \\\n",
       "0  63.027818  22.552586  39.609117  40.475232   98.672917  -0.254400   \n",
       "1  39.056951  10.060991  25.015378  28.995960  114.405425   4.564259   \n",
       "2  68.832021  22.218482  50.092194  46.613539  105.985135  -3.530317   \n",
       "3  69.297008  24.652878  44.311238  44.644130  101.868495  11.211523   \n",
       "4  49.712859   9.652075  28.317406  40.060784  108.168725   7.918501   \n",
       "\n",
       "       Col7     Col8     Col9     Col10      Col11    Col12 Class_att  \n",
       "0  0.744503  12.5661  14.5386  15.30468 -28.658501  43.5123  Abnormal  \n",
       "1  0.415186  12.8874  17.5323  16.78486 -25.530607  16.1102  Abnormal  \n",
       "2  0.474889  26.8343  17.4861  16.65897 -29.031888  19.2221  Abnormal  \n",
       "3  0.369345  23.5603  12.7074  11.42447 -30.470246  18.8329  Abnormal  \n",
       "4  0.543360  35.4940  15.9546   8.87237 -16.378376  24.9171  Abnormal  "
      ]
     },
     "execution_count": 2,
     "metadata": {},
     "output_type": "execute_result"
    }
   ],
   "source": [
    "import pandas as pd\n",
    "df = pd.read_csv(\"./Dataset_spine.csv\") # possibly modify!\n",
    "df = df.drop(columns=['Unnamed: 13'])\n",
    "N  = df.shape[0]\n",
    "df.head()"
   ]
  },
  {
   "cell_type": "markdown",
   "metadata": {},
   "source": [
    "### Normalization and Turning into Torch Tensors"
   ]
  },
  {
   "cell_type": "code",
   "execution_count": 3,
   "metadata": {},
   "outputs": [
    {
     "name": "stdout",
     "output_type": "stream",
     "text": [
      "torch.Size([310, 12]) torch.Size([310, 1])\n"
     ]
    }
   ],
   "source": [
    "x0 = torch.from_numpy(df.values[:,0:-1].astype(np.float64))\n",
    "X = (x0-torch.mean(x0, dim=0))/torch.std(x0,dim=0)\n",
    "Y = torch.tensor(('Abnormal'==df.values[:,-1])).int().reshape(-1,1)\n",
    "print(X.shape, Y.shape)"
   ]
  },
  {
   "cell_type": "markdown",
   "metadata": {
    "tags": []
   },
   "source": [
    "### (Binary) Logistic Regression\n",
    "\n",
    "Data:  $\\,\\qquad X = \\left(\\begin{array}{cccc} 1 & X_{11} & \\dots & X_{1n} \\\\ \\vdots & \\vdots & \\vdots & \\vdots \\\\ 1 & X_{N1} & \\dots & X_{Nn}\\end{array}\\right)\\qquad$ and $\\qquad Y = \\left(\\begin{array}{c} Y_{1} \\\\ \\vdots \\\\ Y_{N} \\end{array}\\right)$\n",
    "\n",
    "Model: $\\qquad\\hat{Y}(X;W) = \\sigma\\left(X W^\\intercal\\right) \\qquad$ where $\\qquad W = \\left(\\begin{array}{c} W_0 \\\\ W_1 \\\\ \\vdots \\\\ W_n \\end{array}\\right)$\n",
    "\n",
    "The model outputs the probability of observing in a sample $x$ a '1' (Abnormal).\n",
    "\n",
    "Cost:  $\\,\\qquad C(W) = -\\frac{1}{N}\\sum_j \\left(Y_j\\log(\\hat{Y}_j(X;W)) + (1-Y_j)\\log(1-\\hat{Y}_j(X;W))\\right)$\n",
    "\n",
    "__Remark:__ Note that the logarithm diverges at arguments approaching 0. Make sure that you don't run into numerical issues."
   ]
  },
  {
   "cell_type": "code",
   "execution_count": 4,
   "metadata": {
    "tags": []
   },
   "outputs": [],
   "source": [
    "# compose torch tensors X of shape (N,13) by inserting a column with 1's as first column  \n",
    "X = torch.cat((torch.ones(N,1),X), dim=1)"
   ]
  },
  {
   "cell_type": "code",
   "execution_count": 5,
   "metadata": {},
   "outputs": [
    {
     "data": {
      "text/plain": [
       "tensor([[ 1.0000,  0.1468,  0.5006,  ...,  1.1652, -1.1947,  1.7096],\n",
       "        [ 1.0000, -1.2439, -0.7476,  ...,  1.6768, -0.9388, -0.9125],\n",
       "        [ 1.0000,  0.4836,  0.4672,  ...,  1.6333, -1.2252, -0.6147],\n",
       "        ...,\n",
       "        [ 1.0000,  0.0551,  0.5148,  ..., -1.0499,  1.4410, -0.6919],\n",
       "        [ 1.0000, -0.8844, -0.8842,  ..., -0.7514,  1.6212,  0.7725],\n",
       "        [ 1.0000, -1.5464, -1.2458,  ...,  0.6207,  1.2953,  1.4314]],\n",
       "       dtype=torch.float64)"
      ]
     },
     "execution_count": 5,
     "metadata": {},
     "output_type": "execute_result"
    }
   ],
   "source": [
    "X"
   ]
  },
  {
   "cell_type": "code",
   "execution_count": 6,
   "metadata": {},
   "outputs": [
    {
     "data": {
      "text/plain": [
       "torch.Size([310, 13])"
      ]
     },
     "execution_count": 6,
     "metadata": {},
     "output_type": "execute_result"
    }
   ],
   "source": [
    "X.shape"
   ]
  },
  {
   "cell_type": "code",
   "execution_count": 7,
   "metadata": {},
   "outputs": [
    {
     "data": {
      "text/plain": [
       "torch.Size([310, 1])"
      ]
     },
     "execution_count": 7,
     "metadata": {},
     "output_type": "execute_result"
    }
   ],
   "source": [
    "Y.shape"
   ]
  },
  {
   "cell_type": "markdown",
   "metadata": {},
   "source": [
    "**Sigmoid function:**"
   ]
  },
  {
   "cell_type": "code",
   "execution_count": 8,
   "metadata": {},
   "outputs": [
    {
     "data": {
      "image/png": "[encoded data removed]",
      "text/plain": [
       "<Figure size 432x288 with 1 Axes>"
      ]
     },
     "metadata": {
      "needs_background": "light"
     },
     "output_type": "display_data"
    }
   ],
   "source": [
    "x = np.linspace(-10, 10, 100)\n",
    "z = 1/(1 + np.exp(-x))\n",
    "  \n",
    "plt.plot(x, z)\n",
    "plt.xlabel(\"x\")\n",
    "plt.ylabel(\"Sigmoid(x)\")\n",
    "plt.grid()\n",
    "\n",
    "plt.show()"
   ]
  },
  {
   "cell_type": "markdown",
   "metadata": {},
   "source": [
    "$$C(W) = -\\frac{1}{N}\\left(Y^T\\log(\\hat{Y}) + (1-Y)^T\\log(1-\\hat{Y})\\right)$$"
   ]
  },
  {
   "cell_type": "code",
   "execution_count": 9,
   "metadata": {},
   "outputs": [],
   "source": [
    "# implement methods for predicting the probability of having label 0 or 1 (W with shape (1,13))\n",
    "def predict(X,W):\n",
    "    # YOUR CODE (START)\n",
    "    return torch.sigmoid(X @ W.reshape(-1, 1))\n",
    "    # YOUR CODE (END)\n",
    "\n",
    "def cost(X,Y,W):\n",
    "    # YOUR CODE (START)\n",
    "    N = Y.shape[0]\n",
    "    Yhat = predict(X, W)\n",
    "    Y = Y.type(torch.float64)\n",
    "    eps = torch.empty_like(Yhat).fill_(1e-9) # to avoid log(0)\n",
    "    return -1/N * (Y.T @ torch.log(torch.max(Yhat, eps)) + (1-Y).T @ torch.log(torch.max(1 - Yhat, eps)))\n",
    "    # YOUR CODE (END)"
   ]
  },
  {
   "cell_type": "markdown",
   "metadata": {},
   "source": [
    "$$ e = \\left(\\begin{array}{c} e_1 \\\\ \\vdots \\\\ e_N \\end{array}\\right) = \\left(\\begin{array}{c} 1 \\\\ \\vdots \\\\ 1 \\end{array}\\right)$$\n",
    "\n",
    "$$\\nabla_W C = -\\frac{1}{N}\\left(Y^T \\frac{1}{\\hat{Y}} \\nabla\\hat{Y} - (e-Y)^T \\frac{1}{e-\\hat{Y}} \\nabla\\hat{Y}\\right)$$\n",
    "\n",
    "$$\\nabla_W\\hat{Y} = \\hat{Y}\\circ(e - \\hat{Y}) \\circ X$$\n",
    "\n",
    "$$\\begin{align}\n",
    "\\nabla_W C &= -\\frac{1}{N}\\left( Y^T ((e-\\hat{Y}) \\circ X) - (e-Y)^T (\\hat{Y} \\circ X)\\right) \\\\\n",
    "&= -\\frac{1}{N}\\left( Y^T X - Y^T (\\hat{Y} \\circ X) - e^T (\\hat{Y} \\circ X) + Y^T (\\hat{Y} \\circ  X)\\right)\\\\\n",
    "&= -\\frac{1}{N}\\left(Y - \\hat{Y}\\right)^T X\n",
    "\\end{align}$$"
   ]
  },
  {
   "cell_type": "code",
   "execution_count": 10,
   "metadata": {
    "tags": []
   },
   "outputs": [],
   "source": [
    "def gradient_cost(X,Y,W):\n",
    "    # YOUR CODE (START)\n",
    "    #W = W.reshape(-1, 1)\n",
    "    N = Y.shape[0]\n",
    "    Y = Y.type(torch.float64)\n",
    "    Yhat = predict(X, W)\n",
    "    return -1/N * (Y - Yhat).T @ X\n",
    "    # YOUR CODE (END)\n",
    "    \n",
    "def accuracy(Y,Yhat):\n",
    "    # YOUR CODE (START)\n",
    "    return torch.sum(1 - torch.abs(Y - Yhat.round())) / Y.shape[0]\n",
    "    # YOUR CODE (END)"
   ]
  },
  {
   "cell_type": "markdown",
   "metadata": {},
   "source": [
    "Just for testing:"
   ]
  },
  {
   "cell_type": "code",
   "execution_count": 11,
   "metadata": {},
   "outputs": [
    {
     "name": "stdout",
     "output_type": "stream",
     "text": [
      "tensor([0.9949], dtype=torch.float64)\n",
      "tensor([[1.8395]], dtype=torch.float64)\n",
      "tensor([[-0.0925, -0.4407, -0.3185, -0.4229, -0.3284,  0.1454, -0.4092, -0.0756,\n",
      "         -0.0067, -0.0456, -0.0318, -0.1293,  0.1136]], dtype=torch.float64)\n",
      "tensor(0.4226, dtype=torch.float64)\n"
     ]
    }
   ],
   "source": [
    "W = torch.randn((1,13), dtype=torch.double)\n",
    "print(predict(X[0],W))\n",
    "print(cost(X,Y,W))\n",
    "print(gradient_cost(X,Y,W))\n",
    "print(accuracy(Y,predict(X,W)))"
   ]
  },
  {
   "cell_type": "markdown",
   "metadata": {},
   "source": [
    "### Training"
   ]
  },
  {
   "cell_type": "code",
   "execution_count": 12,
   "metadata": {},
   "outputs": [
    {
     "name": "stdout",
     "output_type": "stream",
     "text": [
      "Training Accuracy (max,end): 0.864516, 0.861290\n",
      "Training Cost (end): 0.308136\n"
     ]
    },
    {
     "data": {
      "text/plain": [
       "[<matplotlib.lines.Line2D at 0x7fe993b16250>]"
      ]
     },
     "execution_count": 12,
     "metadata": {},
     "output_type": "execute_result"
    },
    {
     "data": {
      "image/png": "[encoded data removed]",
      "text/plain": [
       "<Figure size 432x288 with 1 Axes>"
      ]
     },
     "metadata": {
      "needs_background": "light"
     },
     "output_type": "display_data"
    },
    {
     "data": {
      "image/png": "[encoded data removed]",
      "text/plain": [
       "<Figure size 432x288 with 1 Axes>"
      ]
     },
     "metadata": {
      "needs_background": "light"
     },
     "output_type": "display_data"
    }
   ],
   "source": [
    "# adjust if needed\n",
    "nepochs = 20\n",
    "lr = 5\n",
    "\n",
    "## initial parameter\n",
    "W = torch.randn((1,13), dtype=torch.double)\n",
    "\n",
    "# track the costs\n",
    "costs = [cost(X,Y,W).item()]\n",
    "accs = [accuracy(Y,predict(X,W))]\n",
    "\n",
    "# YOUR CODE (START)\n",
    "\n",
    "# loop over the epochs: update parameter values, compute the cost and add it to the costs list\n",
    "for epoch in range(nepochs):\n",
    "    W = W - lr * gradient_cost(X, Y, W)\n",
    "    costs.append(cost(X,Y,W).item())\n",
    "    accs.append(accuracy(Y,predict(X,W)))\n",
    "\n",
    "# YOUR CODE (END)\n",
    "    \n",
    "# some output\n",
    "accs = np.array(accs)\n",
    "\n",
    "print(\"Training Accuracy (max,end): %f, %f\"%(np.max(accs), accs[-1]))\n",
    "print(\"Training Cost (end): %f\"%costs[-1])\n",
    "plt.figure(1)\n",
    "plt.title(\"cost\")\n",
    "plt.plot(range(nepochs+1),costs)\n",
    "plt.figure(2)\n",
    "plt.title(\"accuracy\")\n",
    "plt.plot(range(nepochs+1),accs)"
   ]
  },
  {
   "cell_type": "markdown",
   "metadata": {},
   "source": [
    "### Different Learning Rates\n",
    "\n",
    "Play with different learning rates: Explore for what learning rates \n",
    "- the learning is most efficient\n",
    "- the learning yet works\n",
    "- the learning does not work anymore (learning rate too large)\n",
    "\n",
    "Explain the different scenarios."
   ]
  },
  {
   "cell_type": "code",
   "execution_count": 13,
   "metadata": {},
   "outputs": [
    {
     "name": "stdout",
     "output_type": "stream",
     "text": [
      "--- Learning Rate: 1.000000\n",
      "Training Accuracy (max,end): 0.861290 @ 11, 0.861290\n",
      "Training Cost (end): 0.331452\n",
      "\n",
      "\n",
      "--- Learning Rate: 2.000000\n",
      "Training Accuracy (max,end): 0.851613 @ 17, 0.848387\n",
      "Training Cost (end): 0.358375\n",
      "\n",
      "\n",
      "--- Learning Rate: 3.000000\n",
      "Training Accuracy (max,end): 0.867742 @ 20, 0.867742\n",
      "Training Cost (end): 0.325673\n",
      "\n",
      "\n",
      "--- Learning Rate: 4.000000\n",
      "Training Accuracy (max,end): 0.861290 @ 12, 0.858065\n",
      "Training Cost (end): 0.312832\n",
      "\n",
      "\n",
      "--- Learning Rate: 5.000000\n",
      "Training Accuracy (max,end): 0.870968 @ 10, 0.858065\n",
      "Training Cost (end): 0.305342\n",
      "\n",
      "\n",
      "--- Learning Rate: 6.000000\n",
      "Training Accuracy (max,end): 0.864516 @ 13, 0.838710\n",
      "Training Cost (end): 0.324716\n",
      "\n",
      "\n",
      "--- Learning Rate: 7.000000\n",
      "Training Accuracy (max,end): 0.848387 @ 20, 0.848387\n",
      "Training Cost (end): 0.342489\n",
      "\n",
      "\n",
      "--- Learning Rate: 8.000000\n",
      "Training Accuracy (max,end): 0.812903 @ 17, 0.809677\n",
      "Training Cost (end): 0.412431\n",
      "\n",
      "\n",
      "--- Learning Rate: 9.000000\n",
      "Training Accuracy (max,end): 0.812903 @ 4, 0.812903\n",
      "Training Cost (end): 0.488771\n",
      "\n",
      "\n",
      "--- Learning Rate: 10.000000\n",
      "Training Accuracy (max,end): 0.848387 @ 3, 0.793548\n",
      "Training Cost (end): 0.505205\n",
      "\n",
      "\n"
     ]
    },
    {
     "data": {
      "text/plain": [
       "<matplotlib.legend.Legend at 0x7fe993ec1fd0>"
      ]
     },
     "execution_count": 13,
     "metadata": {},
     "output_type": "execute_result"
    },
    {
     "data": {
      "image/png": "[encoded data removed]",
      "text/plain": [
       "<Figure size 432x288 with 1 Axes>"
      ]
     },
     "metadata": {
      "needs_background": "light"
     },
     "output_type": "display_data"
    },
    {
     "data": {
      "image/png": "[encoded data removed]",
      "text/plain": [
       "<Figure size 432x288 with 1 Axes>"
      ]
     },
     "metadata": {
      "needs_background": "light"
     },
     "output_type": "display_data"
    }
   ],
   "source": [
    "# adjust if needed\n",
    "nepochs = 20\n",
    "lrs = np.arange(1, 11, 1)\n",
    "\n",
    "## initial parameter\n",
    "torch.manual_seed(42)\n",
    "all_costs = []\n",
    "all_accs = []\n",
    "\n",
    "for lr in lrs: \n",
    "    W = torch.randn((1,13), dtype=torch.double)\n",
    "\n",
    "    # track the costs\n",
    "    costs = [cost(X,Y,W).item()]\n",
    "    accs = [accuracy(Y,predict(X,W))]\n",
    "\n",
    "    # YOUR CODE (START)\n",
    "\n",
    "    # loop over the epochs: update parameter values, compute the cost and add it to the costs list\n",
    "    for epoch in range(nepochs):\n",
    "        W = W - lr * gradient_cost(X, Y, W)\n",
    "        costs.append(cost(X,Y,W).item())\n",
    "        accs.append(accuracy(Y,predict(X,W)))\n",
    "\n",
    "    # YOUR CODE (END)\n",
    "\n",
    "    # some output\n",
    "    accs = np.array(accs)\n",
    "    \n",
    "    print(\"--- Learning Rate: %f\"% lr)\n",
    "    print(\"Training Accuracy (max,end): %f @ %d, %f\"%(np.max(accs), np.argmax(accs), accs[-1]))\n",
    "    print(\"Training Cost (end): %f\"%costs[-1])\n",
    "    print(\"\\n\")\n",
    "    \n",
    "    all_costs.append(costs)\n",
    "    all_accs.append(accs)\n",
    "    \n",
    "plt.figure(1)\n",
    "plt.title(\"cost\")\n",
    "\n",
    "for idx, lr in enumerate(lrs):\n",
    "    plt.plot(range(nepochs+1),all_costs[idx],label=lr)\n",
    "    \n",
    "plt.legend()\n",
    "\n",
    "plt.figure(2)\n",
    "plt.title(\"accuracy\")\n",
    "\n",
    "for idx, lr in enumerate(lrs):\n",
    "    plt.plot(range(nepochs+1),all_accs[idx],label=lr)\n",
    "    \n",
    "plt.legend()"
   ]
  },
  {
   "cell_type": "markdown",
   "metadata": {},
   "source": [
    "$lr < 5:\\;$ achieves an accuracy over $0.84$ \\\n",
    "$lr = 3:\\;$ finds the max end accuracy of $\\approx 0.868$ \\\n",
    "$lr \\approx 5:\\;$ seems to find the max accuracy of $\\approx 0.87$ after only $10$ iterations, thus converges the fastest \\\n",
    "$lr > 5:\\;$ overshoots and therefore causes jitter, easily observable especially with $lr >= 8$"
   ]
  }
 ],
 "metadata": {
  "kernelspec": {
   "display_name": "Python 3",
   "language": "python",
   "name": "python3"
  },
  "language_info": {
   "codemirror_mode": {
    "name": "ipython",
    "version": 3
   },
   "file_extension": ".py",
   "mimetype": "text/x-python",
   "name": "python",
   "nbconvert_exporter": "python",
   "pygments_lexer": "ipython3",
   "version": "3.7.7"
  }
 },
 "nbformat": 4,
 "nbformat_minor": 5
}

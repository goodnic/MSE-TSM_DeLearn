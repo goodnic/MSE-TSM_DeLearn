{
 "cells": [
  {
   "cell_type": "markdown",
   "metadata": {},
   "source": [
    "**Group: g16**\n",
    "\n",
    "- anderdav@students.zhaw.ch\n",
    "- goodnic1@students.zhaw.ch\n",
    "- janick.rueegger@students.fhnw.ch\n",
    "- neyerjoh@students.zhaw.ch"
   ]
  },
  {
   "cell_type": "code",
   "execution_count": 1,
   "metadata": {
    "scrolled": true
   },
   "outputs": [
    {
     "name": "stderr",
     "output_type": "stream",
     "text": [
      "2022-05-03 19:30:37.542934: W tensorflow/stream_executor/platform/default/dso_loader.cc:64] Could not load dynamic library 'libcudart.so.11.0'; dlerror: libcudart.so.11.0: cannot open shared object file: No such file or directory\n",
      "2022-05-03 19:30:37.542978: I tensorflow/stream_executor/cuda/cudart_stub.cc:29] Ignore above cudart dlerror if you do not have a GPU set up on your machine.\n"
     ]
    }
   ],
   "source": [
    "import glob\n",
    "import os\n",
    "import string\n",
    "\n",
    "import numpy as np\n",
    "import pandas as pd\n",
    "\n",
    "from matplotlib import pyplot as plt\n",
    "import matplotlib.ticker as ticker\n",
    "\n",
    "from sklearn.metrics import confusion_matrix\n",
    "from sklearn.model_selection import train_test_split\n",
    "\n",
    "from tensorflow.keras.models import Sequential\n",
    "from tensorflow.keras.layers import SimpleRNN, Dense"
   ]
  },
  {
   "cell_type": "markdown",
   "metadata": {},
   "source": [
    "### Load Data\n",
    "\n",
    "The names can be found in text files in a src directory, one file per language.\n",
    "\n",
    "In the following you can find some utilities to load the data into pandas data frames. \n",
    "\n",
    "We will restrict to some common European languages. \n",
    "\n",
    "With the given selection, we will identify all the occurring characters and initialize an alphabet.<br>\n",
    "For this alphabet, we will use a one-hot-encoding to map them into a vector space representation. \n",
    "\n",
    "Foresee a suitable character for the end of the word, e.g. 'END'."
   ]
  },
  {
   "cell_type": "code",
   "execution_count": 2,
   "metadata": {},
   "outputs": [],
   "source": [
    "srcdir = 'data/names'\n",
    "languages = [\"English\",\"French\",\"Italian\",\"German\",\"Spanish\"]"
   ]
  },
  {
   "cell_type": "code",
   "execution_count": 3,
   "metadata": {},
   "outputs": [],
   "source": [
    "# inspect the data directory\n",
    "def findFiles(path): \n",
    "    return glob.glob(path)"
   ]
  },
  {
   "cell_type": "code",
   "execution_count": 4,
   "metadata": {},
   "outputs": [
    {
     "name": "stdout",
     "output_type": "stream",
     "text": [
      "data/names/Czech.txt\n",
      "data/names/Irish.txt\n",
      "data/names/Dutch.txt\n",
      "data/names/Vietnamese.txt\n",
      "data/names/Chinese.txt\n",
      "data/names/Japanese.txt\n",
      "data/names/Italian.txt\n",
      "data/names/Greek.txt\n",
      "data/names/Scottish.txt\n",
      "data/names/Portuguese.txt\n",
      "data/names/Polish.txt\n",
      "data/names/Arabic.txt\n",
      "data/names/Spanish.txt\n",
      "data/names/French.txt\n",
      "data/names/Korean.txt\n",
      "data/names/English.txt\n",
      "data/names/German.txt\n",
      "data/names/Russian.txt\n"
     ]
    }
   ],
   "source": [
    "print('\\n'.join(findFiles(os.path.join(srcdir,'*.txt'))))"
   ]
  },
  {
   "cell_type": "code",
   "execution_count": 5,
   "metadata": {},
   "outputs": [],
   "source": [
    "# Read a file and split into lines\n",
    "def readLines(filename):\n",
    "    lines = open(filename, encoding='utf-8').read().strip().split('\\n')\n",
    "    return lines\n",
    "\n",
    "def load_data(srcdir, categories=None):\n",
    "    names_list = []\n",
    "    for filename in findFiles(os.path.join(srcdir,'*.txt')):\n",
    "        category = os.path.splitext(os.path.basename(filename))[0]\n",
    "        if not categories or category in categories: \n",
    "            names = readLines(filename)\n",
    "            names_list.extend([(name,category) for name in names])\n",
    "    df = pd.DataFrame(names_list)\n",
    "    df.columns = [\"name\",\"lang\"]\n",
    "    return df"
   ]
  },
  {
   "cell_type": "code",
   "execution_count": 6,
   "metadata": {},
   "outputs": [
    {
     "data": {
      "text/html": [
       "<div>\n",
       "<style scoped>\n",
       "    .dataframe tbody tr th:only-of-type {\n",
       "        vertical-align: middle;\n",
       "    }\n",
       "\n",
       "    .dataframe tbody tr th {\n",
       "        vertical-align: top;\n",
       "    }\n",
       "\n",
       "    .dataframe thead th {\n",
       "        text-align: right;\n",
       "    }\n",
       "</style>\n",
       "<table border=\"1\" class=\"dataframe\">\n",
       "  <thead>\n",
       "    <tr style=\"text-align: right;\">\n",
       "      <th></th>\n",
       "      <th>name</th>\n",
       "      <th>lang</th>\n",
       "    </tr>\n",
       "  </thead>\n",
       "  <tbody>\n",
       "    <tr>\n",
       "      <th>0</th>\n",
       "      <td>Abandonato</td>\n",
       "      <td>Italian</td>\n",
       "    </tr>\n",
       "    <tr>\n",
       "      <th>1</th>\n",
       "      <td>Abatangelo</td>\n",
       "      <td>Italian</td>\n",
       "    </tr>\n",
       "    <tr>\n",
       "      <th>2</th>\n",
       "      <td>Abatantuono</td>\n",
       "      <td>Italian</td>\n",
       "    </tr>\n",
       "    <tr>\n",
       "      <th>3</th>\n",
       "      <td>Abate</td>\n",
       "      <td>Italian</td>\n",
       "    </tr>\n",
       "    <tr>\n",
       "      <th>4</th>\n",
       "      <td>Abategiovanni</td>\n",
       "      <td>Italian</td>\n",
       "    </tr>\n",
       "  </tbody>\n",
       "</table>\n",
       "</div>"
      ],
      "text/plain": [
       "            name     lang\n",
       "0     Abandonato  Italian\n",
       "1     Abatangelo  Italian\n",
       "2    Abatantuono  Italian\n",
       "3          Abate  Italian\n",
       "4  Abategiovanni  Italian"
      ]
     },
     "execution_count": 6,
     "metadata": {},
     "output_type": "execute_result"
    }
   ],
   "source": [
    "names = load_data(srcdir,categories=languages)\n",
    "names.head()"
   ]
  },
  {
   "cell_type": "code",
   "execution_count": 8,
   "metadata": {},
   "outputs": [
    {
     "name": "stdout",
     "output_type": "stream",
     "text": [
      "Maximum name length:  18\n"
     ]
    }
   ],
   "source": [
    "maxlen = np.max([len(name) for name in names.name])\n",
    "print(\"Maximum name length: \", maxlen)"
   ]
  },
  {
   "cell_type": "code",
   "execution_count": 9,
   "metadata": {},
   "outputs": [
    {
     "name": "stdout",
     "output_type": "stream",
     "text": [
      "Size of alphabet:  74\n",
      "[' ', \"'\", 'A', 'B', 'C', 'D', 'E', 'F', 'G', 'H', 'I', 'J', 'K', 'L', 'M', 'N', 'O', 'P', 'Q', 'R', 'S', 'T', 'U', 'V', 'W', 'X', 'Y', 'Z', 'a', 'b', 'c', 'd', 'e', 'f', 'g', 'h', 'i', 'j', 'k', 'l', 'm', 'n', 'o', 'p', 'q', 'r', 's', 't', 'u', 'v', 'w', 'x', 'y', 'z', 'Á', 'É', 'ß', 'à', 'á', 'ä', 'ç', 'è', 'é', 'ê', 'ì', 'í', 'ñ', 'ò', 'ó', 'ö', 'ù', 'ú', 'ü', 'END']\n"
     ]
    }
   ],
   "source": [
    "alphabet = sorted(list(set(''.join([name for name in names.name]))))\n",
    "alphabet.append('END')\n",
    "len_alphabet = len(alphabet)\n",
    "char_index = dict((c, i) for i, c in enumerate(alphabet))\n",
    "print(\"Size of alphabet: \",len_alphabet)\n",
    "print(alphabet)"
   ]
  },
  {
   "cell_type": "code",
   "execution_count": 10,
   "metadata": {},
   "outputs": [
    {
     "data": {
      "text/plain": [
       "lang\n",
       "English    0.646230\n",
       "French     0.048802\n",
       "German     0.127555\n",
       "Italian    0.124912\n",
       "Spanish    0.052502\n",
       "Name: name, dtype: float64"
      ]
     },
     "execution_count": 10,
     "metadata": {},
     "output_type": "execute_result"
    }
   ],
   "source": [
    "names.groupby('lang')['name'].count()/len(names)"
   ]
  },
  {
   "cell_type": "markdown",
   "metadata": {},
   "source": [
    "### Vector Representations\n",
    "\n",
    "Now construct the vector representation by using one-hot-vectors. "
   ]
  },
  {
   "cell_type": "code",
   "execution_count": 11,
   "metadata": {},
   "outputs": [],
   "source": [
    "language_to_index = {country:index for index,country in enumerate(names.lang.unique())}\n",
    "index_to_language = {index:country for index,country in enumerate(names.lang.unique())}\n",
    "\n",
    "def onehot(i, length):\n",
    "    v = np.zeros(length);\n",
    "    v[i] = 1\n",
    "    return v\n",
    "\n",
    "def name_representation(name, maxlen):\n",
    "    ### START YOUR CODE\n",
    "    name_trunc = str(name)[0:maxlen]\n",
    "    size = len(char_index)\n",
    "    vector = [onehot(char_index[j], size) for j in str(name)]\n",
    "    # fill the rest with \n",
    "    for k in range(0,maxlen - len(str(name))):\n",
    "        vector.append(onehot(char_index['END'], size))\n",
    "    return vector\n",
    "    ### START YOUR CODE\n",
    "\n",
    "def lang_representation(language, language_to_index):\n",
    "    y = np.zeros(len(language_to_index))\n",
    "    y[language_to_index[language]]=1\n",
    "    return y\n",
    "\n",
    "def lang_from_output(score):\n",
    "    return index_to_language[np.argmax(score)]\n",
    "\n",
    "def predict(name, model):\n",
    "    score = model.predict(np.array([name_representation(name, maxlen)]))[0]\n",
    "    return lang_from_output(score)"
   ]
  },
  {
   "cell_type": "markdown",
   "metadata": {},
   "source": [
    "### Prepare train/test\n",
    "\n",
    "Split the data into train/test\n",
    "\n",
    "Shuffle the data\n",
    "\n",
    "Transform the names data into a suitable vector respresentation:\n",
    "* names into numpy arrays of shape (*,maxlen,len_alphabet)\n",
    "* language into numpy array of shape (*,len(languages))\n",
    "\n"
   ]
  },
  {
   "cell_type": "code",
   "execution_count": 12,
   "metadata": {},
   "outputs": [],
   "source": [
    "test_split = 0.2\n",
    "\n",
    "### START YOUR CODE\n",
    "# Shuffle and split names data\n",
    "\n",
    "train, test = train_test_split(names, test_size=test_split)\n",
    "\n",
    "### END YOUR CODE"
   ]
  },
  {
   "cell_type": "code",
   "execution_count": 13,
   "metadata": {},
   "outputs": [],
   "source": [
    "### START YOUR CODE\n",
    "\n",
    "# Map train and test data into vector space (one-hot-vectors)\n",
    "\n",
    "X_train = np.asarray([name_representation(name, maxlen) for name in train.name])\n",
    "Y_train = np.asarray([lang_representation(lang, language_to_index) for lang in train.lang])\n",
    "\n",
    "X_test = np.asarray([name_representation(name, maxlen) for name in test.name])\n",
    "Y_test = np.asarray([lang_representation(lang, language_to_index) for lang in test.lang])\n",
    "\n",
    "### END YOUR CODE"
   ]
  },
  {
   "cell_type": "markdown",
   "metadata": {},
   "source": [
    "Possibly, pack the data into a Dataset (e.g. when working with in PyTorch)"
   ]
  },
  {
   "cell_type": "markdown",
   "metadata": {},
   "source": [
    "### Define and Train Model: Single Layer with SimpleRNN\n",
    "\n",
    "Create an RNN consisting of a single layer with a SimpleRNN (keras) and a softmax.\n",
    "\n",
    "Then train the model. Play with different number of hidden units in the layer to obtain a good accuracy."
   ]
  },
  {
   "cell_type": "code",
   "execution_count": 37,
   "metadata": {
    "tags": []
   },
   "outputs": [
    {
     "name": "stdout",
     "output_type": "stream",
     "text": [
      "Model: \"sequential_5\"\n",
      "_________________________________________________________________\n",
      " Layer (type)                Output Shape              Param #   \n",
      "=================================================================\n",
      " simple_rnn_5 (SimpleRNN)    (None, 64)                8896      \n",
      "                                                                 \n",
      " dense_5 (Dense)             (None, 5)                 325       \n",
      "                                                                 \n",
      "=================================================================\n",
      "Total params: 9,221\n",
      "Trainable params: 9,221\n",
      "Non-trainable params: 0\n",
      "_________________________________________________________________\n"
     ]
    }
   ],
   "source": [
    "### START YOUR CODE\n",
    "\n",
    "# SimpleRNN, single layer with tf.keras....\n",
    "\n",
    "n_hidden = 64\n",
    "\n",
    "simple_rnn = Sequential()\n",
    "simple_rnn.add(SimpleRNN(units=n_hidden, input_shape=(maxlen, len_alphabet)))\n",
    "simple_rnn.add(Dense(len(languages), activation=\"softmax\"))\n",
    "simple_rnn.compile(loss=\"categorical_crossentropy\", optimizer=\"adam\", metrics=[\"accuracy\"])\n",
    "\n",
    "simple_rnn.summary()\n",
    "\n",
    "### END YOUR CODE"
   ]
  },
  {
   "cell_type": "code",
   "execution_count": 40,
   "metadata": {},
   "outputs": [
    {
     "name": "stdout",
     "output_type": "stream",
     "text": [
      "Epoch 1/50\n",
      "36/36 [==============================] - 0s 11ms/step - loss: 0.1093 - accuracy: 0.9588 - val_loss: 1.0969 - val_accuracy: 0.7438\n",
      "Epoch 2/50\n",
      "36/36 [==============================] - 0s 6ms/step - loss: 0.0747 - accuracy: 0.9729 - val_loss: 1.1044 - val_accuracy: 0.7465\n",
      "Epoch 3/50\n",
      "36/36 [==============================] - 0s 5ms/step - loss: 0.0668 - accuracy: 0.9731 - val_loss: 1.1029 - val_accuracy: 0.7421\n",
      "Epoch 4/50\n",
      "36/36 [==============================] - 0s 5ms/step - loss: 0.0630 - accuracy: 0.9736 - val_loss: 1.1112 - val_accuracy: 0.7447\n",
      "Epoch 5/50\n",
      "36/36 [==============================] - 0s 6ms/step - loss: 0.0601 - accuracy: 0.9736 - val_loss: 1.1105 - val_accuracy: 0.7456\n",
      "Epoch 6/50\n",
      "36/36 [==============================] - 0s 5ms/step - loss: 0.0585 - accuracy: 0.9733 - val_loss: 1.1217 - val_accuracy: 0.7430\n",
      "Epoch 7/50\n",
      "36/36 [==============================] - 0s 6ms/step - loss: 0.0568 - accuracy: 0.9716 - val_loss: 1.1337 - val_accuracy: 0.7438\n",
      "Epoch 8/50\n",
      "36/36 [==============================] - 0s 5ms/step - loss: 0.0566 - accuracy: 0.9749 - val_loss: 1.1286 - val_accuracy: 0.7430\n",
      "Epoch 9/50\n",
      "36/36 [==============================] - 0s 6ms/step - loss: 0.0556 - accuracy: 0.9738 - val_loss: 1.1389 - val_accuracy: 0.7482\n",
      "Epoch 10/50\n",
      "36/36 [==============================] - 0s 6ms/step - loss: 0.0542 - accuracy: 0.9729 - val_loss: 1.1386 - val_accuracy: 0.7430\n",
      "Epoch 11/50\n",
      "36/36 [==============================] - 0s 5ms/step - loss: 0.0539 - accuracy: 0.9725 - val_loss: 1.1505 - val_accuracy: 0.7456\n",
      "Epoch 12/50\n",
      "36/36 [==============================] - 0s 6ms/step - loss: 0.0538 - accuracy: 0.9714 - val_loss: 1.1510 - val_accuracy: 0.7456\n",
      "Epoch 13/50\n",
      "36/36 [==============================] - 0s 6ms/step - loss: 0.0525 - accuracy: 0.9725 - val_loss: 1.1588 - val_accuracy: 0.7421\n",
      "Epoch 14/50\n",
      "36/36 [==============================] - 0s 6ms/step - loss: 0.0523 - accuracy: 0.9727 - val_loss: 1.1613 - val_accuracy: 0.7430\n",
      "Epoch 15/50\n",
      "36/36 [==============================] - 0s 6ms/step - loss: 0.0519 - accuracy: 0.9720 - val_loss: 1.1586 - val_accuracy: 0.7456\n",
      "Epoch 16/50\n",
      "36/36 [==============================] - 0s 5ms/step - loss: 0.0530 - accuracy: 0.9725 - val_loss: 1.1702 - val_accuracy: 0.7456\n",
      "Epoch 17/50\n",
      "36/36 [==============================] - 0s 6ms/step - loss: 0.0518 - accuracy: 0.9727 - val_loss: 1.1803 - val_accuracy: 0.7491\n",
      "Epoch 18/50\n",
      "36/36 [==============================] - 0s 5ms/step - loss: 0.0515 - accuracy: 0.9725 - val_loss: 1.1803 - val_accuracy: 0.7430\n",
      "Epoch 19/50\n",
      "36/36 [==============================] - 0s 5ms/step - loss: 0.0515 - accuracy: 0.9742 - val_loss: 1.1860 - val_accuracy: 0.7474\n",
      "Epoch 20/50\n",
      "36/36 [==============================] - 0s 5ms/step - loss: 0.0520 - accuracy: 0.9718 - val_loss: 1.1832 - val_accuracy: 0.7430\n",
      "Epoch 21/50\n",
      "36/36 [==============================] - 0s 6ms/step - loss: 0.0519 - accuracy: 0.9718 - val_loss: 1.1965 - val_accuracy: 0.7509\n",
      "Epoch 22/50\n",
      "36/36 [==============================] - 0s 5ms/step - loss: 0.0503 - accuracy: 0.9718 - val_loss: 1.1996 - val_accuracy: 0.7456\n",
      "Epoch 23/50\n",
      "36/36 [==============================] - 0s 7ms/step - loss: 0.0526 - accuracy: 0.9698 - val_loss: 1.2035 - val_accuracy: 0.7438\n",
      "Epoch 24/50\n",
      "36/36 [==============================] - 0s 7ms/step - loss: 0.0497 - accuracy: 0.9711 - val_loss: 1.1981 - val_accuracy: 0.7447\n",
      "Epoch 25/50\n",
      "36/36 [==============================] - 0s 6ms/step - loss: 0.0503 - accuracy: 0.9707 - val_loss: 1.2147 - val_accuracy: 0.7474\n",
      "Epoch 26/50\n",
      "36/36 [==============================] - 0s 6ms/step - loss: 0.0505 - accuracy: 0.9718 - val_loss: 1.2152 - val_accuracy: 0.7474\n",
      "Epoch 27/50\n",
      "36/36 [==============================] - 0s 6ms/step - loss: 0.0492 - accuracy: 0.9711 - val_loss: 1.2293 - val_accuracy: 0.7518\n",
      "Epoch 28/50\n",
      "36/36 [==============================] - 0s 6ms/step - loss: 0.0507 - accuracy: 0.9703 - val_loss: 1.2190 - val_accuracy: 0.7491\n",
      "Epoch 29/50\n",
      "36/36 [==============================] - 0s 5ms/step - loss: 0.0498 - accuracy: 0.9709 - val_loss: 1.2273 - val_accuracy: 0.7465\n",
      "Epoch 30/50\n",
      "36/36 [==============================] - 0s 6ms/step - loss: 0.0507 - accuracy: 0.9711 - val_loss: 1.2247 - val_accuracy: 0.7544\n",
      "Epoch 31/50\n",
      "36/36 [==============================] - 0s 5ms/step - loss: 0.0503 - accuracy: 0.9703 - val_loss: 1.2270 - val_accuracy: 0.7447\n",
      "Epoch 32/50\n",
      "36/36 [==============================] - 0s 5ms/step - loss: 0.0502 - accuracy: 0.9692 - val_loss: 1.2243 - val_accuracy: 0.7465\n",
      "Epoch 33/50\n",
      "36/36 [==============================] - 0s 5ms/step - loss: 0.0504 - accuracy: 0.9700 - val_loss: 1.2500 - val_accuracy: 0.7474\n",
      "Epoch 34/50\n",
      "36/36 [==============================] - 0s 6ms/step - loss: 0.0494 - accuracy: 0.9718 - val_loss: 1.2393 - val_accuracy: 0.7465\n",
      "Epoch 35/50\n",
      "36/36 [==============================] - 0s 7ms/step - loss: 0.0502 - accuracy: 0.9694 - val_loss: 1.2401 - val_accuracy: 0.7509\n",
      "Epoch 36/50\n",
      "36/36 [==============================] - 0s 8ms/step - loss: 0.0497 - accuracy: 0.9698 - val_loss: 1.2448 - val_accuracy: 0.7438\n",
      "Epoch 37/50\n",
      "36/36 [==============================] - 0s 8ms/step - loss: 0.0508 - accuracy: 0.9687 - val_loss: 1.2378 - val_accuracy: 0.7438\n",
      "Epoch 38/50\n",
      "36/36 [==============================] - 0s 6ms/step - loss: 0.0498 - accuracy: 0.9720 - val_loss: 1.2529 - val_accuracy: 0.7430\n",
      "Epoch 39/50\n",
      "36/36 [==============================] - 0s 5ms/step - loss: 0.0502 - accuracy: 0.9727 - val_loss: 1.2496 - val_accuracy: 0.7491\n",
      "Epoch 40/50\n",
      "36/36 [==============================] - 0s 6ms/step - loss: 0.0501 - accuracy: 0.9709 - val_loss: 1.2554 - val_accuracy: 0.7430\n",
      "Epoch 41/50\n",
      "36/36 [==============================] - 0s 6ms/step - loss: 0.0496 - accuracy: 0.9705 - val_loss: 1.2555 - val_accuracy: 0.7465\n",
      "Epoch 42/50\n",
      "36/36 [==============================] - 0s 5ms/step - loss: 0.0510 - accuracy: 0.9689 - val_loss: 1.2509 - val_accuracy: 0.7412\n",
      "Epoch 43/50\n",
      "36/36 [==============================] - 0s 6ms/step - loss: 0.0508 - accuracy: 0.9711 - val_loss: 1.2608 - val_accuracy: 0.7465\n",
      "Epoch 44/50\n",
      "36/36 [==============================] - 0s 5ms/step - loss: 0.0502 - accuracy: 0.9698 - val_loss: 1.2635 - val_accuracy: 0.7456\n",
      "Epoch 45/50\n",
      "36/36 [==============================] - 0s 6ms/step - loss: 0.0501 - accuracy: 0.9731 - val_loss: 1.2701 - val_accuracy: 0.7350\n",
      "Epoch 46/50\n",
      "36/36 [==============================] - 0s 6ms/step - loss: 0.0503 - accuracy: 0.9696 - val_loss: 1.2833 - val_accuracy: 0.7491\n",
      "Epoch 47/50\n",
      "36/36 [==============================] - 0s 6ms/step - loss: 0.0503 - accuracy: 0.9705 - val_loss: 1.3095 - val_accuracy: 0.7474\n",
      "Epoch 48/50\n",
      "36/36 [==============================] - 0s 6ms/step - loss: 0.0502 - accuracy: 0.9714 - val_loss: 1.2913 - val_accuracy: 0.7474\n",
      "Epoch 49/50\n",
      "36/36 [==============================] - 0s 6ms/step - loss: 0.0506 - accuracy: 0.9665 - val_loss: 1.3008 - val_accuracy: 0.7474\n",
      "Epoch 50/50\n",
      "36/36 [==============================] - 0s 6ms/step - loss: 0.0522 - accuracy: 0.9698 - val_loss: 1.2946 - val_accuracy: 0.7474\n"
     ]
    }
   ],
   "source": [
    "### START YOUR CODE\n",
    "batch_size = 128\n",
    "nepochs = 50\n",
    "\n",
    "log = simple_rnn.fit(X_train, Y_train, batch_size=batch_size, epochs=nepochs, validation_data=(X_test, Y_test))\n",
    "\n",
    "### END YOUR CODE"
   ]
  },
  {
   "cell_type": "markdown",
   "metadata": {
    "tags": []
   },
   "source": [
    "#### Findings"
   ]
  },
  {
   "cell_type": "code",
   "execution_count": 25,
   "metadata": {},
   "outputs": [],
   "source": [
    "# Add plotting function\n",
    "def plot_loss_acc(log):\n",
    "    f = plt.figure(figsize=(12,4))\n",
    "    ax1 = f.add_subplot(121)\n",
    "    ax2 = f.add_subplot(122)\n",
    "    ax1.plot(log.history['loss'], label='Training loss')\n",
    "    ax1.plot(log.history['val_loss'], label='Testing loss')\n",
    "    ax1.legend()\n",
    "    ax1.grid()\n",
    "    ax2.plot(log.history['accuracy'], label='Training acc')\n",
    "    ax2.plot(log.history['val_accuracy'], label='Testing acc')\n",
    "    ax2.legend()\n",
    "    ax2.grid()"
   ]
  },
  {
   "cell_type": "code",
   "execution_count": 41,
   "metadata": {},
   "outputs": [
    {
     "data": {
      "image/png": "[encoded data removed]",
      "text/plain": [
       "<Figure size 864x288 with 2 Axes>"
      ]
     },
     "metadata": {
      "needs_background": "light"
     },
     "output_type": "display_data"
    }
   ],
   "source": [
    "plot_loss_acc(log)"
   ]
  },
  {
   "cell_type": "markdown",
   "metadata": {},
   "source": [
    "The model starts to overfit very fast. Even with increased number of hidden layers, the everything starts to go south after around 10 epochs. It only starts to get better after around 512 hidden layers. Increasing the batch size leads to faster overfitting. But all in all the test accuracy stays always around 75%."
   ]
  },
  {
   "cell_type": "markdown",
   "metadata": {},
   "source": [
    "### Implement Model with several SimpleRNN Layers"
   ]
  },
  {
   "cell_type": "code",
   "execution_count": 69,
   "metadata": {
    "tags": []
   },
   "outputs": [
    {
     "name": "stdout",
     "output_type": "stream",
     "text": [
      "Model: \"sequential_15\"\n",
      "_________________________________________________________________\n",
      " Layer (type)                Output Shape              Param #   \n",
      "=================================================================\n",
      " simple_rnn_24 (SimpleRNN)   (None, 18, 64)            8896      \n",
      "                                                                 \n",
      " simple_rnn_25 (SimpleRNN)   (None, 18, 64)            8256      \n",
      "                                                                 \n",
      " simple_rnn_26 (SimpleRNN)   (None, 64)                8256      \n",
      "                                                                 \n",
      " dense_11 (Dense)            (None, 5)                 325       \n",
      "                                                                 \n",
      "=================================================================\n",
      "Total params: 25,733\n",
      "Trainable params: 25,733\n",
      "Non-trainable params: 0\n",
      "_________________________________________________________________\n"
     ]
    }
   ],
   "source": [
    "### START YOUR CODE\n",
    "n_hidden = 64\n",
    "\n",
    "model = Sequential()\n",
    "model.add(SimpleRNN(units=n_hidden, input_shape=(maxlen, len_alphabet), return_sequences=True))\n",
    "model.add(SimpleRNN(units=n_hidden, return_sequences=True))\n",
    "model.add(SimpleRNN(units=n_hidden, return_sequences=False))\n",
    "model.add(Dense(len(languages), activation=\"softmax\"))\n",
    "model.compile(loss=\"categorical_crossentropy\", optimizer=\"adam\", metrics=[\"accuracy\"])\n",
    "\n",
    "model.summary()\n",
    "\n",
    "### END YOUR CODE"
   ]
  },
  {
   "cell_type": "code",
   "execution_count": 50,
   "metadata": {},
   "outputs": [
    {
     "name": "stdout",
     "output_type": "stream",
     "text": [
      "Epoch 1/50\n",
      "36/36 [==============================] - 2s 33ms/step - loss: 1.1412 - accuracy: 0.6196 - val_loss: 0.9857 - val_accuracy: 0.6646\n",
      "Epoch 2/50\n",
      "36/36 [==============================] - 1s 14ms/step - loss: 0.8896 - accuracy: 0.6976 - val_loss: 0.8358 - val_accuracy: 0.7060\n",
      "Epoch 3/50\n",
      "36/36 [==============================] - 1s 15ms/step - loss: 0.7496 - accuracy: 0.7396 - val_loss: 0.8048 - val_accuracy: 0.6998\n",
      "Epoch 4/50\n",
      "36/36 [==============================] - 1s 17ms/step - loss: 0.6673 - accuracy: 0.7661 - val_loss: 0.7144 - val_accuracy: 0.7333\n",
      "Epoch 5/50\n",
      "36/36 [==============================] - 1s 16ms/step - loss: 0.6272 - accuracy: 0.7789 - val_loss: 0.6940 - val_accuracy: 0.7491\n",
      "Epoch 6/50\n",
      "36/36 [==============================] - 1s 15ms/step - loss: 0.5843 - accuracy: 0.7916 - val_loss: 0.6653 - val_accuracy: 0.7579\n",
      "Epoch 7/50\n",
      "36/36 [==============================] - 1s 17ms/step - loss: 0.5839 - accuracy: 0.7868 - val_loss: 0.6475 - val_accuracy: 0.7623\n",
      "Epoch 8/50\n",
      "36/36 [==============================] - 1s 16ms/step - loss: 0.5314 - accuracy: 0.8062 - val_loss: 0.6588 - val_accuracy: 0.7588\n",
      "Epoch 9/50\n",
      "36/36 [==============================] - 1s 16ms/step - loss: 0.5065 - accuracy: 0.8222 - val_loss: 0.6709 - val_accuracy: 0.7509\n",
      "Epoch 10/50\n",
      "36/36 [==============================] - 1s 16ms/step - loss: 0.4729 - accuracy: 0.8284 - val_loss: 0.6399 - val_accuracy: 0.7685\n",
      "Epoch 11/50\n",
      "36/36 [==============================] - 1s 16ms/step - loss: 0.4376 - accuracy: 0.8403 - val_loss: 0.6313 - val_accuracy: 0.7852\n",
      "Epoch 12/50\n",
      "36/36 [==============================] - 1s 15ms/step - loss: 0.4253 - accuracy: 0.8454 - val_loss: 0.6578 - val_accuracy: 0.7553\n",
      "Epoch 13/50\n",
      "36/36 [==============================] - 1s 15ms/step - loss: 0.4100 - accuracy: 0.8515 - val_loss: 0.6249 - val_accuracy: 0.7667\n",
      "Epoch 14/50\n",
      "36/36 [==============================] - 1s 16ms/step - loss: 0.3733 - accuracy: 0.8676 - val_loss: 0.6198 - val_accuracy: 0.7817\n",
      "Epoch 15/50\n",
      "36/36 [==============================] - 1s 16ms/step - loss: 0.3426 - accuracy: 0.8749 - val_loss: 0.6736 - val_accuracy: 0.7447\n",
      "Epoch 16/50\n",
      "36/36 [==============================] - 1s 15ms/step - loss: 0.3257 - accuracy: 0.8846 - val_loss: 0.6467 - val_accuracy: 0.7755\n",
      "Epoch 17/50\n",
      "36/36 [==============================] - 1s 15ms/step - loss: 0.3162 - accuracy: 0.8892 - val_loss: 0.6999 - val_accuracy: 0.7474\n",
      "Epoch 18/50\n",
      "36/36 [==============================] - 1s 16ms/step - loss: 0.2884 - accuracy: 0.8958 - val_loss: 0.6374 - val_accuracy: 0.7949\n",
      "Epoch 19/50\n",
      "36/36 [==============================] - 1s 15ms/step - loss: 0.2558 - accuracy: 0.9110 - val_loss: 0.7236 - val_accuracy: 0.7518\n",
      "Epoch 20/50\n",
      "36/36 [==============================] - 1s 15ms/step - loss: 0.2411 - accuracy: 0.9112 - val_loss: 0.6565 - val_accuracy: 0.7755\n",
      "Epoch 21/50\n",
      "36/36 [==============================] - 1s 16ms/step - loss: 0.2222 - accuracy: 0.9227 - val_loss: 0.7241 - val_accuracy: 0.7729\n",
      "Epoch 22/50\n",
      "36/36 [==============================] - 1s 16ms/step - loss: 0.2203 - accuracy: 0.9227 - val_loss: 0.7222 - val_accuracy: 0.7694\n",
      "Epoch 23/50\n",
      "36/36 [==============================] - 1s 16ms/step - loss: 0.1954 - accuracy: 0.9306 - val_loss: 0.7751 - val_accuracy: 0.7650\n",
      "Epoch 24/50\n",
      "36/36 [==============================] - 1s 15ms/step - loss: 0.1842 - accuracy: 0.9363 - val_loss: 0.7763 - val_accuracy: 0.7614\n",
      "Epoch 25/50\n",
      "36/36 [==============================] - 1s 16ms/step - loss: 0.1683 - accuracy: 0.9427 - val_loss: 0.7486 - val_accuracy: 0.7641\n",
      "Epoch 26/50\n",
      "36/36 [==============================] - 1s 19ms/step - loss: 0.1543 - accuracy: 0.9496 - val_loss: 0.7564 - val_accuracy: 0.7746\n",
      "Epoch 27/50\n",
      "36/36 [==============================] - 1s 15ms/step - loss: 0.1416 - accuracy: 0.9533 - val_loss: 0.8724 - val_accuracy: 0.7764\n",
      "Epoch 28/50\n",
      "36/36 [==============================] - 1s 15ms/step - loss: 0.1446 - accuracy: 0.9531 - val_loss: 0.8260 - val_accuracy: 0.7650\n",
      "Epoch 29/50\n",
      "36/36 [==============================] - 1s 16ms/step - loss: 0.1219 - accuracy: 0.9586 - val_loss: 0.8275 - val_accuracy: 0.7702\n",
      "Epoch 30/50\n",
      "36/36 [==============================] - 1s 16ms/step - loss: 0.1193 - accuracy: 0.9601 - val_loss: 0.8716 - val_accuracy: 0.7658\n",
      "Epoch 31/50\n",
      "36/36 [==============================] - 1s 16ms/step - loss: 0.1180 - accuracy: 0.9610 - val_loss: 0.8688 - val_accuracy: 0.7826\n",
      "Epoch 32/50\n",
      "36/36 [==============================] - 1s 16ms/step - loss: 0.1241 - accuracy: 0.9553 - val_loss: 0.8800 - val_accuracy: 0.7579\n",
      "Epoch 33/50\n",
      "36/36 [==============================] - 1s 16ms/step - loss: 0.1106 - accuracy: 0.9630 - val_loss: 0.8538 - val_accuracy: 0.7702\n",
      "Epoch 34/50\n",
      "36/36 [==============================] - 1s 15ms/step - loss: 0.1041 - accuracy: 0.9628 - val_loss: 0.9513 - val_accuracy: 0.7579\n",
      "Epoch 35/50\n",
      "36/36 [==============================] - 1s 16ms/step - loss: 0.1034 - accuracy: 0.9650 - val_loss: 0.9122 - val_accuracy: 0.7570\n",
      "Epoch 36/50\n",
      "36/36 [==============================] - 1s 16ms/step - loss: 0.1027 - accuracy: 0.9639 - val_loss: 0.9393 - val_accuracy: 0.7562\n",
      "Epoch 37/50\n",
      "36/36 [==============================] - 1s 16ms/step - loss: 0.1130 - accuracy: 0.9593 - val_loss: 0.9379 - val_accuracy: 0.7650\n",
      "Epoch 38/50\n",
      "36/36 [==============================] - 1s 16ms/step - loss: 0.0953 - accuracy: 0.9661 - val_loss: 0.9421 - val_accuracy: 0.7658\n",
      "Epoch 39/50\n",
      "36/36 [==============================] - 1s 16ms/step - loss: 0.0882 - accuracy: 0.9663 - val_loss: 0.9393 - val_accuracy: 0.7667\n",
      "Epoch 40/50\n",
      "36/36 [==============================] - 1s 16ms/step - loss: 0.0863 - accuracy: 0.9681 - val_loss: 0.9683 - val_accuracy: 0.7570\n",
      "Epoch 41/50\n",
      "36/36 [==============================] - 1s 16ms/step - loss: 0.0861 - accuracy: 0.9683 - val_loss: 1.0288 - val_accuracy: 0.7729\n",
      "Epoch 42/50\n",
      "36/36 [==============================] - 1s 15ms/step - loss: 0.0923 - accuracy: 0.9628 - val_loss: 0.9826 - val_accuracy: 0.7650\n",
      "Epoch 43/50\n",
      "36/36 [==============================] - 1s 16ms/step - loss: 0.0850 - accuracy: 0.9689 - val_loss: 1.0227 - val_accuracy: 0.7588\n",
      "Epoch 44/50\n",
      "36/36 [==============================] - 1s 16ms/step - loss: 0.0834 - accuracy: 0.9661 - val_loss: 1.0133 - val_accuracy: 0.7535\n",
      "Epoch 45/50\n",
      "36/36 [==============================] - 1s 16ms/step - loss: 0.0803 - accuracy: 0.9663 - val_loss: 0.9771 - val_accuracy: 0.7588\n",
      "Epoch 46/50\n",
      "36/36 [==============================] - 1s 16ms/step - loss: 0.0825 - accuracy: 0.9674 - val_loss: 1.0344 - val_accuracy: 0.7667\n",
      "Epoch 47/50\n",
      "36/36 [==============================] - 1s 16ms/step - loss: 0.0862 - accuracy: 0.9667 - val_loss: 1.0587 - val_accuracy: 0.7447\n",
      "Epoch 48/50\n",
      "36/36 [==============================] - 1s 16ms/step - loss: 0.0897 - accuracy: 0.9659 - val_loss: 1.1048 - val_accuracy: 0.7491\n",
      "Epoch 49/50\n",
      "36/36 [==============================] - 1s 16ms/step - loss: 0.0905 - accuracy: 0.9641 - val_loss: 1.0468 - val_accuracy: 0.7553\n",
      "Epoch 50/50\n",
      "36/36 [==============================] - 1s 16ms/step - loss: 0.0816 - accuracy: 0.9667 - val_loss: 1.0489 - val_accuracy: 0.7632\n"
     ]
    }
   ],
   "source": [
    "### START YOUR CODE\n",
    "\n",
    "batch_size = 128\n",
    "nepochs = 50\n",
    "\n",
    "stacked_log = model.fit(X_train, Y_train, batch_size=batch_size, epochs=nepochs, validation_data=(X_test, Y_test))\n",
    "\n",
    "### END YOUR CODE"
   ]
  },
  {
   "cell_type": "markdown",
   "metadata": {},
   "source": [
    "#### Findings\n"
   ]
  },
  {
   "cell_type": "code",
   "execution_count": 51,
   "metadata": {},
   "outputs": [
    {
     "data": {
      "image/png": "[encoded data removed]",
      "text/plain": [
       "<Figure size 864x288 with 2 Axes>"
      ]
     },
     "metadata": {
      "needs_background": "light"
     },
     "output_type": "display_data"
    }
   ],
   "source": [
    "plot_loss_acc(stacked_log)"
   ]
  },
  {
   "cell_type": "markdown",
   "metadata": {},
   "source": [
    "Again, the model easily overfits. The performance is very much comparable to a singel layer approach."
   ]
  },
  {
   "cell_type": "markdown",
   "metadata": {},
   "source": [
    "### Class Imbalance Handling\n",
    "\n",
    "Choose a method to address the class imbalance seen in the given example.\n",
    "- minority resampling \n",
    "- class weights in the loss\n",
    "\n",
    "Implement it and incorporate it in the training.\n",
    "Evaluate the results and compare it with the results obtained with the unbalanced training.  "
   ]
  },
  {
   "cell_type": "code",
   "execution_count": 52,
   "metadata": {},
   "outputs": [],
   "source": [
    "from imblearn.over_sampling import SMOTE"
   ]
  },
  {
   "cell_type": "code",
   "execution_count": 54,
   "metadata": {},
   "outputs": [],
   "source": [
    "sm = SMOTE()\n",
    "\n",
    "X_len, nx, ny = X_train.shape\n",
    "X_train_res, y_train_res = sm.fit_resample(X_train.reshape(X_len, nx*ny), Y_train)"
   ]
  },
  {
   "cell_type": "code",
   "execution_count": 59,
   "metadata": {},
   "outputs": [],
   "source": [
    "X_new_len, _ = X_train_res.shape\n",
    "\n",
    "X_train_res = X_train_res.reshape(X_new_len, 18, 74)"
   ]
  },
  {
   "cell_type": "code",
   "execution_count": 70,
   "metadata": {},
   "outputs": [
    {
     "name": "stdout",
     "output_type": "stream",
     "text": [
      "Epoch 1/50\n",
      "460/460 [==============================] - 7s 11ms/step - loss: 0.9364 - accuracy: 0.6347 - val_loss: 0.9573 - val_accuracy: 0.5968\n",
      "Epoch 2/50\n",
      "460/460 [==============================] - 5s 11ms/step - loss: 0.4939 - accuracy: 0.8237 - val_loss: 0.8989 - val_accuracy: 0.6532\n",
      "Epoch 3/50\n",
      "460/460 [==============================] - 5s 11ms/step - loss: 0.3505 - accuracy: 0.8772 - val_loss: 0.9168 - val_accuracy: 0.6708\n",
      "Epoch 4/50\n",
      "460/460 [==============================] - 5s 11ms/step - loss: 0.2877 - accuracy: 0.9018 - val_loss: 0.8944 - val_accuracy: 0.7121\n",
      "Epoch 5/50\n",
      "460/460 [==============================] - 5s 11ms/step - loss: 0.2449 - accuracy: 0.9159 - val_loss: 1.0197 - val_accuracy: 0.6717\n",
      "Epoch 6/50\n",
      "460/460 [==============================] - 5s 11ms/step - loss: 0.2188 - accuracy: 0.9256 - val_loss: 1.0052 - val_accuracy: 0.6998\n",
      "Epoch 7/50\n",
      "460/460 [==============================] - 5s 11ms/step - loss: 0.2053 - accuracy: 0.9273 - val_loss: 0.9487 - val_accuracy: 0.7262\n",
      "Epoch 8/50\n",
      "460/460 [==============================] - 5s 11ms/step - loss: 0.1920 - accuracy: 0.9366 - val_loss: 0.9658 - val_accuracy: 0.7271\n",
      "Epoch 9/50\n",
      "460/460 [==============================] - 5s 11ms/step - loss: 0.1780 - accuracy: 0.9405 - val_loss: 1.0085 - val_accuracy: 0.7086\n",
      "Epoch 10/50\n",
      "460/460 [==============================] - 5s 11ms/step - loss: 0.1681 - accuracy: 0.9439 - val_loss: 1.0102 - val_accuracy: 0.7254\n",
      "Epoch 11/50\n",
      "460/460 [==============================] - 5s 11ms/step - loss: 0.1603 - accuracy: 0.9476 - val_loss: 1.0401 - val_accuracy: 0.7280\n",
      "Epoch 12/50\n",
      "460/460 [==============================] - 5s 11ms/step - loss: 0.1664 - accuracy: 0.9430 - val_loss: 1.0625 - val_accuracy: 0.7139\n",
      "Epoch 13/50\n",
      "460/460 [==============================] - 5s 11ms/step - loss: 0.1612 - accuracy: 0.9418 - val_loss: 1.0417 - val_accuracy: 0.7183\n",
      "Epoch 14/50\n",
      "460/460 [==============================] - 5s 11ms/step - loss: 0.1443 - accuracy: 0.9519 - val_loss: 1.0299 - val_accuracy: 0.7121\n",
      "Epoch 15/50\n",
      "460/460 [==============================] - 5s 11ms/step - loss: 0.1421 - accuracy: 0.9528 - val_loss: 1.1357 - val_accuracy: 0.7007\n",
      "Epoch 16/50\n",
      "460/460 [==============================] - 5s 11ms/step - loss: 0.1346 - accuracy: 0.9537 - val_loss: 1.1676 - val_accuracy: 0.7113\n",
      "Epoch 17/50\n",
      "460/460 [==============================] - 5s 11ms/step - loss: 0.1480 - accuracy: 0.9511 - val_loss: 1.2030 - val_accuracy: 0.6901\n",
      "Epoch 18/50\n",
      "460/460 [==============================] - 5s 11ms/step - loss: 0.1616 - accuracy: 0.9459 - val_loss: 1.1023 - val_accuracy: 0.7289\n",
      "Epoch 19/50\n",
      "460/460 [==============================] - 5s 10ms/step - loss: 0.1189 - accuracy: 0.9589 - val_loss: 1.1652 - val_accuracy: 0.7104\n",
      "Epoch 20/50\n",
      "460/460 [==============================] - 5s 10ms/step - loss: 0.1204 - accuracy: 0.9609 - val_loss: 1.2169 - val_accuracy: 0.7174\n",
      "Epoch 21/50\n",
      "460/460 [==============================] - 5s 11ms/step - loss: 0.1303 - accuracy: 0.9569 - val_loss: 1.1268 - val_accuracy: 0.7306\n",
      "Epoch 22/50\n",
      "460/460 [==============================] - 5s 12ms/step - loss: 0.1495 - accuracy: 0.9493 - val_loss: 1.1801 - val_accuracy: 0.7113\n",
      "Epoch 23/50\n",
      "460/460 [==============================] - 5s 12ms/step - loss: 0.1370 - accuracy: 0.9538 - val_loss: 1.1865 - val_accuracy: 0.7025\n",
      "Epoch 24/50\n",
      "460/460 [==============================] - 5s 11ms/step - loss: 0.1363 - accuracy: 0.9547 - val_loss: 1.1936 - val_accuracy: 0.7060\n",
      "Epoch 25/50\n",
      "460/460 [==============================] - 5s 11ms/step - loss: 0.1189 - accuracy: 0.9598 - val_loss: 1.1216 - val_accuracy: 0.7350\n",
      "Epoch 26/50\n",
      "460/460 [==============================] - 5s 12ms/step - loss: 0.1200 - accuracy: 0.9573 - val_loss: 1.2724 - val_accuracy: 0.6769\n",
      "Epoch 27/50\n",
      "460/460 [==============================] - 5s 11ms/step - loss: 0.1372 - accuracy: 0.9535 - val_loss: 1.2159 - val_accuracy: 0.6954\n",
      "Epoch 28/50\n",
      "460/460 [==============================] - 5s 11ms/step - loss: 0.1131 - accuracy: 0.9635 - val_loss: 1.1918 - val_accuracy: 0.7051\n",
      "Epoch 29/50\n",
      "460/460 [==============================] - 5s 11ms/step - loss: 0.1184 - accuracy: 0.9593 - val_loss: 1.1766 - val_accuracy: 0.7042\n",
      "Epoch 30/50\n",
      "460/460 [==============================] - 5s 11ms/step - loss: 0.1299 - accuracy: 0.9560 - val_loss: 1.2018 - val_accuracy: 0.7139\n",
      "Epoch 31/50\n",
      "460/460 [==============================] - 5s 11ms/step - loss: 0.1365 - accuracy: 0.9542 - val_loss: 1.1622 - val_accuracy: 0.7130\n",
      "Epoch 32/50\n",
      "460/460 [==============================] - 5s 10ms/step - loss: 0.1283 - accuracy: 0.9556 - val_loss: 1.2529 - val_accuracy: 0.6963\n",
      "Epoch 33/50\n",
      "460/460 [==============================] - 5s 10ms/step - loss: 0.1179 - accuracy: 0.9593 - val_loss: 1.1887 - val_accuracy: 0.7271\n",
      "Epoch 34/50\n",
      "460/460 [==============================] - 5s 11ms/step - loss: 0.1125 - accuracy: 0.9613 - val_loss: 1.2644 - val_accuracy: 0.6998\n",
      "Epoch 35/50\n",
      "460/460 [==============================] - 5s 11ms/step - loss: 0.1265 - accuracy: 0.9566 - val_loss: 1.2472 - val_accuracy: 0.6937\n",
      "Epoch 36/50\n",
      "460/460 [==============================] - 5s 11ms/step - loss: 0.1147 - accuracy: 0.9598 - val_loss: 1.1459 - val_accuracy: 0.7465\n",
      "Epoch 37/50\n",
      "460/460 [==============================] - 5s 11ms/step - loss: 0.1174 - accuracy: 0.9615 - val_loss: 1.1418 - val_accuracy: 0.7482\n",
      "Epoch 38/50\n",
      "460/460 [==============================] - 5s 11ms/step - loss: 0.1183 - accuracy: 0.9596 - val_loss: 1.2757 - val_accuracy: 0.7174\n",
      "Epoch 39/50\n",
      "460/460 [==============================] - 5s 11ms/step - loss: 0.1081 - accuracy: 0.9628 - val_loss: 1.2241 - val_accuracy: 0.7157\n",
      "Epoch 40/50\n",
      "460/460 [==============================] - 5s 11ms/step - loss: 0.1196 - accuracy: 0.9570 - val_loss: 1.1415 - val_accuracy: 0.7412\n",
      "Epoch 41/50\n",
      "460/460 [==============================] - 5s 12ms/step - loss: 0.1098 - accuracy: 0.9628 - val_loss: 1.2137 - val_accuracy: 0.7254\n",
      "Epoch 42/50\n",
      "460/460 [==============================] - 5s 11ms/step - loss: 0.1140 - accuracy: 0.9610 - val_loss: 1.1839 - val_accuracy: 0.7482\n",
      "Epoch 43/50\n",
      "460/460 [==============================] - 5s 12ms/step - loss: 0.1457 - accuracy: 0.9517 - val_loss: 1.2306 - val_accuracy: 0.7210\n",
      "Epoch 44/50\n",
      "460/460 [==============================] - 5s 11ms/step - loss: 0.1108 - accuracy: 0.9623 - val_loss: 1.2046 - val_accuracy: 0.7421\n",
      "Epoch 45/50\n",
      "460/460 [==============================] - 5s 11ms/step - loss: 0.0916 - accuracy: 0.9695 - val_loss: 1.3222 - val_accuracy: 0.7095\n",
      "Epoch 46/50\n",
      "460/460 [==============================] - 5s 11ms/step - loss: 0.1219 - accuracy: 0.9600 - val_loss: 1.2638 - val_accuracy: 0.7121\n",
      "Epoch 47/50\n",
      "460/460 [==============================] - 5s 10ms/step - loss: 0.1216 - accuracy: 0.9572 - val_loss: 1.2396 - val_accuracy: 0.7042\n",
      "Epoch 48/50\n",
      "460/460 [==============================] - 5s 10ms/step - loss: 0.1044 - accuracy: 0.9652 - val_loss: 1.2289 - val_accuracy: 0.7430\n",
      "Epoch 49/50\n",
      "460/460 [==============================] - 5s 10ms/step - loss: 0.1098 - accuracy: 0.9648 - val_loss: 1.3012 - val_accuracy: 0.6972\n",
      "Epoch 50/50\n",
      "460/460 [==============================] - 5s 11ms/step - loss: 0.1185 - accuracy: 0.9599 - val_loss: 1.2385 - val_accuracy: 0.7315\n"
     ]
    }
   ],
   "source": [
    "### START YOUR CODE\n",
    "\n",
    "batch_size = 32\n",
    "nepochs = 50\n",
    "\n",
    "stacked_log = model.fit(X_train_res, y_train_res, batch_size=batch_size, epochs=nepochs, validation_data=(X_test, Y_test))\n",
    "\n",
    "### END YOUR CODE"
   ]
  },
  {
   "cell_type": "code",
   "execution_count": 71,
   "metadata": {},
   "outputs": [
    {
     "data": {
      "image/png": "[encoded data removed]",
      "text/plain": [
       "<Figure size 864x288 with 2 Axes>"
      ]
     },
     "metadata": {
      "needs_background": "light"
     },
     "output_type": "display_data"
    }
   ],
   "source": [
    "plot_loss_acc(stacked_log)"
   ]
  },
  {
   "cell_type": "markdown",
   "metadata": {},
   "source": [
    "Even with the resampling, the model starts to overfit super fast. The final performance seems to be very comparable."
   ]
  }
 ],
 "metadata": {
  "kernelspec": {
   "display_name": "Python 3 (ipykernel)",
   "language": "python",
   "name": "python3"
  },
  "language_info": {
   "codemirror_mode": {
    "name": "ipython",
    "version": 3
   },
   "file_extension": ".py",
   "mimetype": "text/x-python",
   "name": "python",
   "nbconvert_exporter": "python",
   "pygments_lexer": "ipython3",
   "version": "3.8.10"
  }
 },
 "nbformat": 4,
 "nbformat_minor": 4
}

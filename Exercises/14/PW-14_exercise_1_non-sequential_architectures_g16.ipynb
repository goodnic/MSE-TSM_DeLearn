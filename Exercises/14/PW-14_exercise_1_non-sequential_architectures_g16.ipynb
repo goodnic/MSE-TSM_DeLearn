{
 "cells": [
  {
   "cell_type": "markdown",
   "metadata": {},
   "source": [
    "**g16**\n",
    "- anderdav@students.zhaw.ch\n",
    "- goodnic1@students.zhaw.ch\n",
    "- janick.rueegger@students.fhnw.ch\n",
    "- neyerjoh@students.zhaw.ch"
   ]
  },
  {
   "cell_type": "markdown",
   "metadata": {},
   "source": [
    "# Exercise 1: Non-sequential architectures"
   ]
  },
  {
   "cell_type": "code",
   "execution_count": 1,
   "metadata": {},
   "outputs": [
    {
     "name": "stderr",
     "output_type": "stream",
     "text": [
      "/home/johannes/.local/lib/python3.10/site-packages/torchvision/io/image.py:13: UserWarning: Failed to load image Python extension: libc10_cuda.so: cannot open shared object file: No such file or directory\n",
      "  warn(f\"Failed to load image Python extension: {e}\")\n"
     ]
    }
   ],
   "source": [
    "from matplotlib import pyplot as plt\n",
    "from tqdm.notebook import tqdm\n",
    "from sklearn.metrics import confusion_matrix\n",
    "import torch\n",
    "from torch import nn\n",
    "from torch.utils.data import DataLoader\n",
    "from torchvision import datasets\n",
    "from torchvision.transforms import ToTensor\n",
    "from torchinfo import summary\n",
    "from math import ceil, sqrt\n",
    "import numpy as np"
   ]
  },
  {
   "cell_type": "code",
   "execution_count": 2,
   "metadata": {},
   "outputs": [
    {
     "name": "stdout",
     "output_type": "stream",
     "text": [
      "Files already downloaded and verified\n",
      "Files already downloaded and verified\n"
     ]
    }
   ],
   "source": [
    "Transform = ToTensor()\n",
    "\n",
    "train_data = datasets.CIFAR10(\n",
    "    root = \"../data\",\n",
    "    train = True,                         \n",
    "    transform = Transform, \n",
    "    download = True,            \n",
    ")\n",
    "\n",
    "test_data = datasets.CIFAR10(\n",
    "    root = \"../data\", \n",
    "    train = False, \n",
    "    transform = Transform,\n",
    "    download = True\n",
    ")"
   ]
  },
  {
   "cell_type": "code",
   "execution_count": 3,
   "metadata": {},
   "outputs": [],
   "source": [
    "train_loader = DataLoader(train_data, batch_size=128, shuffle=True)\n",
    "test_loader = DataLoader(test_data, batch_size=128, shuffle=False)\n",
    "\n",
    "n_classes = len(train_data.classes)\n",
    "input_size = (train_loader.batch_size, *train_data[0][0].shape)"
   ]
  },
  {
   "cell_type": "code",
   "execution_count": 4,
   "metadata": {},
   "outputs": [],
   "source": [
    "def train(epoch, model, data_loader, log_interval=200):\n",
    "    \n",
    "    model.train()\n",
    "    \n",
    "    total_train_loss = 0\n",
    "    total_correct = 0\n",
    "    \n",
    "    for batch_idx, (data, target) in enumerate(tqdm(data_loader, desc=f\"Training Epoch {epoch}\")):\n",
    "        \n",
    "        optimizer.zero_grad()\n",
    "        \n",
    "        output = model(data)\n",
    "        \n",
    "        loss = criterion(output, target)\n",
    "\n",
    "        loss.backward()\n",
    "        \n",
    "        optimizer.step()\n",
    "        \n",
    "        total_train_loss += loss.item()\n",
    "        \n",
    "        pred = output.argmax(dim=1)\n",
    "        \n",
    "        total_correct += torch.sum(pred == target).item()\n",
    "\n",
    "        if batch_idx % log_interval == 0:\n",
    "            print(\"Train Epoch: {} [{:5}/{:5} ({:2.0f}%)]\\tLoss: {:.6f}\".format(\n",
    "                epoch, batch_idx * len(data), len(data_loader.dataset),\n",
    "                100. * batch_idx / len(data_loader), loss.data.item()))\n",
    "\n",
    "    accuracy_train = total_correct / len(data_loader.dataset)\n",
    "\n",
    "    total_train_loss = total_train_loss / len(data_loader)\n",
    "\n",
    "    return {\n",
    "        \"loss\": total_train_loss,\n",
    "        \"accuracy\": accuracy_train,\n",
    "    }"
   ]
  },
  {
   "cell_type": "code",
   "execution_count": 5,
   "metadata": {},
   "outputs": [],
   "source": [
    "@torch.inference_mode()\n",
    "def validate(model, data_loader):\n",
    "   \n",
    "    model.eval()\n",
    "    \n",
    "    val_loss = 0\n",
    "    total_correct = 0\n",
    "    total_preds = []\n",
    "    total_targets = []\n",
    "    \n",
    "    for data, target in tqdm(data_loader, desc=\"Validation\"):\n",
    "        output = model(data)\n",
    "        val_loss += criterion(output, target).item()\n",
    "        \n",
    "        pred = output.argmax(dim=1)\n",
    "        total_correct += torch.sum(pred == target).item()\n",
    "        total_preds.append(pred.detach().cpu())\n",
    "        total_targets.append(target.cpu())\n",
    "\n",
    "    val_loss /= len(data_loader)\n",
    "    accuracy = total_correct / len(data_loader.dataset)\n",
    "    \n",
    "    print(\"Validation set: Average loss: {:.4f}, Accuracy: {:5}/{:5} ({:2.2f}%)\\n\".format(\n",
    "        val_loss, total_correct, len(data_loader.dataset), 100 * accuracy))\n",
    "    \n",
    "    return {\n",
    "        \"loss\": val_loss,\n",
    "        \"accuracy\": accuracy,\n",
    "        \"predictions\": torch.cat(total_preds),\n",
    "        \"targets\": torch.cat(total_targets),\n",
    "    }"
   ]
  },
  {
   "cell_type": "code",
   "execution_count": 6,
   "metadata": {
    "tags": []
   },
   "outputs": [],
   "source": [
    "class NonSeqModel(nn.Module):\n",
    "    def __init__(self, input_size, n_classes):\n",
    "        super().__init__()\n",
    "        conv_out_channels=32\n",
    "        max_pool_kernel_size=2\n",
    "        self.path1 = nn.Sequential(\n",
    "            nn.Conv2d(\n",
    "                in_channels=3,\n",
    "                out_channels=conv_out_channels,\n",
    "                kernel_size=3,\n",
    "                padding=\"same\",\n",
    "                stride=1,\n",
    "            ),\n",
    "            nn.BatchNorm2d(conv_out_channels),\n",
    "            nn.ReLU(),\n",
    "            nn.MaxPool2d(max_pool_kernel_size),\n",
    "            nn.Flatten(),\n",
    "        )\n",
    "        self.path2 = nn.Sequential(\n",
    "            nn.Conv2d(\n",
    "                in_channels=3,\n",
    "                out_channels=conv_out_channels,\n",
    "                kernel_size=5,\n",
    "                padding=\"same\",\n",
    "                stride=1,\n",
    "            ),\n",
    "            nn.BatchNorm2d(conv_out_channels),\n",
    "            nn.ReLU(),\n",
    "            nn.MaxPool2d(max_pool_kernel_size),\n",
    "            nn.Flatten(),\n",
    "        )\n",
    "        self.path3 = nn.Sequential(\n",
    "            nn.Conv2d(\n",
    "                in_channels=3,\n",
    "                out_channels=conv_out_channels,\n",
    "                kernel_size=7,\n",
    "                padding=\"same\",\n",
    "                stride=1,\n",
    "            ),\n",
    "            nn.BatchNorm2d(conv_out_channels),\n",
    "            nn.ReLU(),\n",
    "            nn.MaxPool2d(max_pool_kernel_size),\n",
    "            nn.Flatten(),\n",
    "        )\n",
    "        n_hidden_layer_neurons = 128\n",
    "        self.fc = nn.Sequential(\n",
    "            nn.Linear(np.prod(input_size[2:]) * conv_out_channels // max_pool_kernel_size**2 * 3,\n",
    "                      n_hidden_layer_neurons),\n",
    "            nn.ReLU(),\n",
    "            nn.Dropout(.2),\n",
    "            nn.Linear(n_hidden_layer_neurons, n_hidden_layer_neurons),\n",
    "            nn.BatchNorm1d(n_hidden_layer_neurons),\n",
    "            nn.ReLU(),\n",
    "            nn.Dropout(.2),\n",
    "            nn.Linear(n_hidden_layer_neurons, n_classes),\n",
    "        )\n",
    "        \n",
    "    def forward(self, x):\n",
    "        out1 = self.path1(x)\n",
    "        out2 = self.path2(x)\n",
    "        out3 = self.path3(x)\n",
    "        return self.fc(torch.cat((out1, out2, out3), 1))"
   ]
  },
  {
   "cell_type": "code",
   "execution_count": 7,
   "metadata": {},
   "outputs": [
    {
     "data": {
      "text/plain": [
       "==========================================================================================\n",
       "Layer (type:depth-idx)                   Output Shape              Param #\n",
       "==========================================================================================\n",
       "NonSeqModel                              [128, 10]                 --\n",
       "├─Sequential: 1-1                        [128, 8192]               --\n",
       "│    └─Conv2d: 2-1                       [128, 32, 32, 32]         896\n",
       "│    └─BatchNorm2d: 2-2                  [128, 32, 32, 32]         64\n",
       "│    └─ReLU: 2-3                         [128, 32, 32, 32]         --\n",
       "│    └─MaxPool2d: 2-4                    [128, 32, 16, 16]         --\n",
       "│    └─Flatten: 2-5                      [128, 8192]               --\n",
       "├─Sequential: 1-2                        [128, 8192]               --\n",
       "│    └─Conv2d: 2-6                       [128, 32, 32, 32]         2,432\n",
       "│    └─BatchNorm2d: 2-7                  [128, 32, 32, 32]         64\n",
       "│    └─ReLU: 2-8                         [128, 32, 32, 32]         --\n",
       "│    └─MaxPool2d: 2-9                    [128, 32, 16, 16]         --\n",
       "│    └─Flatten: 2-10                     [128, 8192]               --\n",
       "├─Sequential: 1-3                        [128, 8192]               --\n",
       "│    └─Conv2d: 2-11                      [128, 32, 32, 32]         4,736\n",
       "│    └─BatchNorm2d: 2-12                 [128, 32, 32, 32]         64\n",
       "│    └─ReLU: 2-13                        [128, 32, 32, 32]         --\n",
       "│    └─MaxPool2d: 2-14                   [128, 32, 16, 16]         --\n",
       "│    └─Flatten: 2-15                     [128, 8192]               --\n",
       "├─Sequential: 1-4                        [128, 10]                 --\n",
       "│    └─Linear: 2-16                      [128, 128]                3,145,856\n",
       "│    └─ReLU: 2-17                        [128, 128]                --\n",
       "│    └─Dropout: 2-18                     [128, 128]                --\n",
       "│    └─Linear: 2-19                      [128, 128]                16,512\n",
       "│    └─BatchNorm1d: 2-20                 [128, 128]                256\n",
       "│    └─ReLU: 2-21                        [128, 128]                --\n",
       "│    └─Dropout: 2-22                     [128, 128]                --\n",
       "│    └─Linear: 2-23                      [128, 10]                 1,290\n",
       "==========================================================================================\n",
       "Total params: 3,172,170\n",
       "Trainable params: 3,172,170\n",
       "Non-trainable params: 0\n",
       "Total mult-adds (G): 1.46\n",
       "==========================================================================================\n",
       "Input size (MB): 1.57\n",
       "Forward/backward pass size (MB): 201.73\n",
       "Params size (MB): 12.69\n",
       "Estimated Total Size (MB): 215.99\n",
       "=========================================================================================="
      ]
     },
     "execution_count": 7,
     "metadata": {},
     "output_type": "execute_result"
    }
   ],
   "source": [
    "model = NonSeqModel(input_size, n_classes)\n",
    "\n",
    "criterion = nn.CrossEntropyLoss()\n",
    "optimizer = torch.optim.AdamW(model.parameters())\n",
    "\n",
    "summary(model, input_size=input_size)"
   ]
  },
  {
   "cell_type": "code",
   "execution_count": 8,
   "metadata": {},
   "outputs": [],
   "source": [
    "from torch.utils.tensorboard import SummaryWriter\n",
    "writer=SummaryWriter(\"/tmp/pytorchlogs/\")\n",
    "writer.add_graph(model, next(iter(train_data))[0].reshape(1, 3, 32, 32))\n",
    "writer.close()\n",
    "# open tensorboard (tensorboard --logdir /tmp/pytorchlogs/) and save network graph as png"
   ]
  },
  {
   "cell_type": "code",
   "execution_count": 9,
   "metadata": {
    "tags": []
   },
   "outputs": [
    {
     "data": {
      "application/vnd.jupyter.widget-view+json": {
       "model_id": "2c81c001c4de48948ef87a7f3ee37e72",
       "version_major": 2,
       "version_minor": 0
      },
      "text/plain": [
       "Training Epoch 1:   0%|          | 0/391 [00:00<?, ?it/s]"
      ]
     },
     "metadata": {},
     "output_type": "display_data"
    },
    {
     "name": "stdout",
     "output_type": "stream",
     "text": [
      "Train Epoch: 1 [    0/50000 ( 0%)]\tLoss: 2.486805\n",
      "Train Epoch: 1 [25600/50000 (51%)]\tLoss: 1.408239\n"
     ]
    },
    {
     "data": {
      "application/vnd.jupyter.widget-view+json": {
       "model_id": "ac72d0c1727b4e8ebf96fc7e4e93bb1f",
       "version_major": 2,
       "version_minor": 0
      },
      "text/plain": [
       "Validation:   0%|          | 0/79 [00:00<?, ?it/s]"
      ]
     },
     "metadata": {},
     "output_type": "display_data"
    },
    {
     "name": "stdout",
     "output_type": "stream",
     "text": [
      "Validation set: Average loss: 1.1995, Accuracy:  5663/10000 (56.63%)\n",
      "\n"
     ]
    },
    {
     "data": {
      "application/vnd.jupyter.widget-view+json": {
       "model_id": "065ef241e82e418a8ee7cdae24078b93",
       "version_major": 2,
       "version_minor": 0
      },
      "text/plain": [
       "Training Epoch 2:   0%|          | 0/391 [00:00<?, ?it/s]"
      ]
     },
     "metadata": {},
     "output_type": "display_data"
    },
    {
     "name": "stdout",
     "output_type": "stream",
     "text": [
      "Train Epoch: 2 [    0/50000 ( 0%)]\tLoss: 1.394918\n",
      "Train Epoch: 2 [25600/50000 (51%)]\tLoss: 1.113331\n"
     ]
    },
    {
     "data": {
      "application/vnd.jupyter.widget-view+json": {
       "model_id": "58a5a55b3e164dac9ac1807c656c9ef9",
       "version_major": 2,
       "version_minor": 0
      },
      "text/plain": [
       "Validation:   0%|          | 0/79 [00:00<?, ?it/s]"
      ]
     },
     "metadata": {},
     "output_type": "display_data"
    },
    {
     "name": "stdout",
     "output_type": "stream",
     "text": [
      "Validation set: Average loss: 1.0878, Accuracy:  6197/10000 (61.97%)\n",
      "\n"
     ]
    },
    {
     "data": {
      "application/vnd.jupyter.widget-view+json": {
       "model_id": "38b1883d4f9642f4a421317b0c138ff4",
       "version_major": 2,
       "version_minor": 0
      },
      "text/plain": [
       "Training Epoch 3:   0%|          | 0/391 [00:00<?, ?it/s]"
      ]
     },
     "metadata": {},
     "output_type": "display_data"
    },
    {
     "name": "stdout",
     "output_type": "stream",
     "text": [
      "Train Epoch: 3 [    0/50000 ( 0%)]\tLoss: 1.056654\n",
      "Train Epoch: 3 [25600/50000 (51%)]\tLoss: 0.877453\n"
     ]
    },
    {
     "data": {
      "application/vnd.jupyter.widget-view+json": {
       "model_id": "eefbb700e9ca4a729bd7fc031e6e4b83",
       "version_major": 2,
       "version_minor": 0
      },
      "text/plain": [
       "Validation:   0%|          | 0/79 [00:00<?, ?it/s]"
      ]
     },
     "metadata": {},
     "output_type": "display_data"
    },
    {
     "name": "stdout",
     "output_type": "stream",
     "text": [
      "Validation set: Average loss: 1.0421, Accuracy:  6341/10000 (63.41%)\n",
      "\n"
     ]
    },
    {
     "data": {
      "application/vnd.jupyter.widget-view+json": {
       "model_id": "94db462206584e87a781a6d1c5212314",
       "version_major": 2,
       "version_minor": 0
      },
      "text/plain": [
       "Training Epoch 4:   0%|          | 0/391 [00:00<?, ?it/s]"
      ]
     },
     "metadata": {},
     "output_type": "display_data"
    },
    {
     "name": "stdout",
     "output_type": "stream",
     "text": [
      "Train Epoch: 4 [    0/50000 ( 0%)]\tLoss: 0.899178\n",
      "Train Epoch: 4 [25600/50000 (51%)]\tLoss: 0.818551\n"
     ]
    },
    {
     "data": {
      "application/vnd.jupyter.widget-view+json": {
       "model_id": "1d2ac5f691a54e11bc785e28de07152b",
       "version_major": 2,
       "version_minor": 0
      },
      "text/plain": [
       "Validation:   0%|          | 0/79 [00:00<?, ?it/s]"
      ]
     },
     "metadata": {},
     "output_type": "display_data"
    },
    {
     "name": "stdout",
     "output_type": "stream",
     "text": [
      "Validation set: Average loss: 1.0611, Accuracy:  6287/10000 (62.87%)\n",
      "\n"
     ]
    },
    {
     "data": {
      "application/vnd.jupyter.widget-view+json": {
       "model_id": "d73d79f70ea645979d60d8ca83ccee77",
       "version_major": 2,
       "version_minor": 0
      },
      "text/plain": [
       "Training Epoch 5:   0%|          | 0/391 [00:00<?, ?it/s]"
      ]
     },
     "metadata": {},
     "output_type": "display_data"
    },
    {
     "name": "stdout",
     "output_type": "stream",
     "text": [
      "Train Epoch: 5 [    0/50000 ( 0%)]\tLoss: 0.826377\n",
      "Train Epoch: 5 [25600/50000 (51%)]\tLoss: 0.912180\n"
     ]
    },
    {
     "data": {
      "application/vnd.jupyter.widget-view+json": {
       "model_id": "faa76ffba5fb4bb189dde40c8557cd3e",
       "version_major": 2,
       "version_minor": 0
      },
      "text/plain": [
       "Validation:   0%|          | 0/79 [00:00<?, ?it/s]"
      ]
     },
     "metadata": {},
     "output_type": "display_data"
    },
    {
     "name": "stdout",
     "output_type": "stream",
     "text": [
      "Validation set: Average loss: 1.1302, Accuracy:  5970/10000 (59.70%)\n",
      "\n"
     ]
    },
    {
     "data": {
      "application/vnd.jupyter.widget-view+json": {
       "model_id": "79cc1d153f8f420cb8789dfdc1da73d8",
       "version_major": 2,
       "version_minor": 0
      },
      "text/plain": [
       "Training Epoch 6:   0%|          | 0/391 [00:00<?, ?it/s]"
      ]
     },
     "metadata": {},
     "output_type": "display_data"
    },
    {
     "name": "stdout",
     "output_type": "stream",
     "text": [
      "Train Epoch: 6 [    0/50000 ( 0%)]\tLoss: 0.752494\n",
      "Train Epoch: 6 [25600/50000 (51%)]\tLoss: 0.833472\n"
     ]
    },
    {
     "data": {
      "application/vnd.jupyter.widget-view+json": {
       "model_id": "0cdd5a0057e2469ca383ce2747260cad",
       "version_major": 2,
       "version_minor": 0
      },
      "text/plain": [
       "Validation:   0%|          | 0/79 [00:00<?, ?it/s]"
      ]
     },
     "metadata": {},
     "output_type": "display_data"
    },
    {
     "name": "stdout",
     "output_type": "stream",
     "text": [
      "Validation set: Average loss: 0.9915, Accuracy:  6559/10000 (65.59%)\n",
      "\n"
     ]
    },
    {
     "data": {
      "application/vnd.jupyter.widget-view+json": {
       "model_id": "9c5b771150bc42e091d2ddd30283c840",
       "version_major": 2,
       "version_minor": 0
      },
      "text/plain": [
       "Training Epoch 7:   0%|          | 0/391 [00:00<?, ?it/s]"
      ]
     },
     "metadata": {},
     "output_type": "display_data"
    },
    {
     "name": "stdout",
     "output_type": "stream",
     "text": [
      "Train Epoch: 7 [    0/50000 ( 0%)]\tLoss: 0.721602\n",
      "Train Epoch: 7 [25600/50000 (51%)]\tLoss: 0.607566\n"
     ]
    },
    {
     "data": {
      "application/vnd.jupyter.widget-view+json": {
       "model_id": "79d39fde41544155922ac8c5f9306d42",
       "version_major": 2,
       "version_minor": 0
      },
      "text/plain": [
       "Validation:   0%|          | 0/79 [00:00<?, ?it/s]"
      ]
     },
     "metadata": {},
     "output_type": "display_data"
    },
    {
     "name": "stdout",
     "output_type": "stream",
     "text": [
      "Validation set: Average loss: 1.0633, Accuracy:  6385/10000 (63.85%)\n",
      "\n"
     ]
    },
    {
     "data": {
      "application/vnd.jupyter.widget-view+json": {
       "model_id": "4a8416749a744a07b337cc9b957fc52b",
       "version_major": 2,
       "version_minor": 0
      },
      "text/plain": [
       "Training Epoch 8:   0%|          | 0/391 [00:00<?, ?it/s]"
      ]
     },
     "metadata": {},
     "output_type": "display_data"
    },
    {
     "name": "stdout",
     "output_type": "stream",
     "text": [
      "Train Epoch: 8 [    0/50000 ( 0%)]\tLoss: 0.595676\n",
      "Train Epoch: 8 [25600/50000 (51%)]\tLoss: 0.803232\n"
     ]
    },
    {
     "data": {
      "application/vnd.jupyter.widget-view+json": {
       "model_id": "16bcada1f6fc452196d5162be8aedecc",
       "version_major": 2,
       "version_minor": 0
      },
      "text/plain": [
       "Validation:   0%|          | 0/79 [00:00<?, ?it/s]"
      ]
     },
     "metadata": {},
     "output_type": "display_data"
    },
    {
     "name": "stdout",
     "output_type": "stream",
     "text": [
      "Validation set: Average loss: 0.9804, Accuracy:  6791/10000 (67.91%)\n",
      "\n"
     ]
    },
    {
     "data": {
      "application/vnd.jupyter.widget-view+json": {
       "model_id": "138ac5bada6240e394a696d43df3ee13",
       "version_major": 2,
       "version_minor": 0
      },
      "text/plain": [
       "Training Epoch 9:   0%|          | 0/391 [00:00<?, ?it/s]"
      ]
     },
     "metadata": {},
     "output_type": "display_data"
    },
    {
     "name": "stdout",
     "output_type": "stream",
     "text": [
      "Train Epoch: 9 [    0/50000 ( 0%)]\tLoss: 0.554223\n",
      "Train Epoch: 9 [25600/50000 (51%)]\tLoss: 0.736881\n"
     ]
    },
    {
     "data": {
      "application/vnd.jupyter.widget-view+json": {
       "model_id": "2c91077982aa4226a4bef7c84550e950",
       "version_major": 2,
       "version_minor": 0
      },
      "text/plain": [
       "Validation:   0%|          | 0/79 [00:00<?, ?it/s]"
      ]
     },
     "metadata": {},
     "output_type": "display_data"
    },
    {
     "name": "stdout",
     "output_type": "stream",
     "text": [
      "Validation set: Average loss: 0.9848, Accuracy:  6778/10000 (67.78%)\n",
      "\n"
     ]
    },
    {
     "data": {
      "application/vnd.jupyter.widget-view+json": {
       "model_id": "aea3dbfbd00948edb6b8406244a27f35",
       "version_major": 2,
       "version_minor": 0
      },
      "text/plain": [
       "Training Epoch 10:   0%|          | 0/391 [00:00<?, ?it/s]"
      ]
     },
     "metadata": {},
     "output_type": "display_data"
    },
    {
     "name": "stdout",
     "output_type": "stream",
     "text": [
      "Train Epoch: 10 [    0/50000 ( 0%)]\tLoss: 0.556412\n",
      "Train Epoch: 10 [25600/50000 (51%)]\tLoss: 0.409137\n"
     ]
    },
    {
     "data": {
      "application/vnd.jupyter.widget-view+json": {
       "model_id": "ccd44c633b0a48ca919b1fcdd4f5ab98",
       "version_major": 2,
       "version_minor": 0
      },
      "text/plain": [
       "Validation:   0%|          | 0/79 [00:00<?, ?it/s]"
      ]
     },
     "metadata": {},
     "output_type": "display_data"
    },
    {
     "name": "stdout",
     "output_type": "stream",
     "text": [
      "Validation set: Average loss: 1.4337, Accuracy:  5915/10000 (59.15%)\n",
      "\n",
      "CPU times: user 27min 57s, sys: 50.9 s, total: 28min 48s\n",
      "Wall time: 5min 18s\n"
     ]
    }
   ],
   "source": [
    "%%time\n",
    "\n",
    "epochs = 10\n",
    "\n",
    "train_losses = []\n",
    "train_accuracies = []\n",
    "val_losses = []\n",
    "val_accuracies = []\n",
    "\n",
    "for epoch in range(1, epochs + 1):\n",
    "    train_result = train(epoch, model, train_loader)\n",
    "    train_losses.append(train_result[\"loss\"])\n",
    "    train_accuracies.append(train_result[\"accuracy\"])\n",
    "    \n",
    "    val_result = validate(model, test_loader)\n",
    "    val_losses.append(val_result[\"loss\"])\n",
    "    val_accuracies.append(val_result[\"accuracy\"])"
   ]
  },
  {
   "cell_type": "code",
   "execution_count": 10,
   "metadata": {
    "tags": []
   },
   "outputs": [
    {
     "name": "stdout",
     "output_type": "stream",
     "text": [
      "train acc.: 80.4%\n",
      "test acc.:  67.9%\n"
     ]
    },
    {
     "data": {
      "image/png": "[encoded data removed]",
      "text/plain": [
       "<Figure size 864x432 with 2 Axes>"
      ]
     },
     "metadata": {
      "needs_background": "light"
     },
     "output_type": "display_data"
    }
   ],
   "source": [
    "f = plt.figure(figsize=(12,6))\n",
    "ax1 = f.add_subplot(121)\n",
    "ax2 = f.add_subplot(122)\n",
    "\n",
    "ax1.plot(train_losses, label='Training loss')\n",
    "ax1.plot(val_losses, label='Testing loss')\n",
    "ax1.legend()\n",
    "ax1.grid()\n",
    "\n",
    "ax2.plot(train_accuracies, label='Training acc')\n",
    "ax2.plot(val_accuracies, label='Test acc')\n",
    "ax2.legend()\n",
    "ax2.grid()\n",
    "\n",
    "print(f\"train acc.: {max(train_accuracies)*100:.3}%\")\n",
    "print(f\"test acc.:  {max(val_accuracies)*100:.3}%\")"
   ]
  },
  {
   "cell_type": "markdown",
   "metadata": {},
   "source": [
    "| Model | Acc. train [%] | Acc. test [%] |\n",
    "|-------|----------------|---------------|\n",
    "| 1     | 75.0           | 66.1          |\n",
    "| 2     | 82.9           | 67.1          |\n",
    "| 3     | 80.4           | 67.9          |\n",
    "\n",
    "## Netowork Visualizations from Tensorboard\n",
    "\n",
    "### Model 1\n",
    "| | |\n",
    "|-|--|\n",
    "| neurons in linear layers | 64 |\n",
    "| conv kernel size | 3, 5 |\n",
    "| conv output channels | 32 |\n",
    "| maxpool kernel size | 2 |\n",
    "| no dropout ||\n",
    "| no batchnorm ||\n",
    "![Model 1](./PW-14_exercise_1_graph1.png)\n",
    "### Model 2\n",
    "| | |\n",
    "|-|--|\n",
    "| neurons in linear layers | 128 |\n",
    "| conv kernel size | 3, 5 |\n",
    "| conv output channels | 32 |\n",
    "| maxpool kernel size | 2 |\n",
    "| dropout | .2 |\n",
    "| no batchnorm ||\n",
    "![Model 2](./PW-14_exercise_1_graph2.png)\n",
    "### Model 3\n",
    "| | |\n",
    "|-|--|\n",
    "| neurons in linear layers | 128 |\n",
    "| conv kernel size | 3, 5, 7 |\n",
    "| conv output channels | 32 |\n",
    "| maxpool kernel size | 2 |\n",
    "| dropout | .2 |\n",
    "| batchnorm ||\n",
    "![Model 3](./PW-14_exercise_1_graph3.png)"
   ]
  }
 ],
 "metadata": {
  "kernelspec": {
   "display_name": "Python 3 (ipykernel)",
   "language": "python",
   "name": "python3"
  },
  "language_info": {
   "codemirror_mode": {
    "name": "ipython",
    "version": 3
   },
   "file_extension": ".py",
   "mimetype": "text/x-python",
   "name": "python",
   "nbconvert_exporter": "python",
   "pygments_lexer": "ipython3",
   "version": "3.10.5"
  }
 },
 "nbformat": 4,
 "nbformat_minor": 4
}

{
 "cells": [
  {
   "cell_type": "markdown",
   "metadata": {
    "id": "-207wqx7KS4E"
   },
   "source": [
    "**g16**\n",
    "- anderdav@students.zhaw.ch\n",
    "- goodnic1@students.zhaw.ch\n",
    "- janick.rueegger@students.fhnw.ch\n",
    "- neyerjoh@students.zhaw.ch"
   ]
  },
  {
   "cell_type": "code",
   "execution_count": 1,
   "metadata": {},
   "outputs": [],
   "source": [
    "import numpy as np\n",
    "import random\n",
    "import matplotlib.pyplot as plt\n",
    "import torch\n",
    "import torch.nn.functional as F\n",
    "from torch import nn\n",
    "from torchinfo import summary\n",
    "from torch.utils.data import DataLoader, TensorDataset\n",
    "from tqdm.notebook import tqdm"
   ]
  },
  {
   "cell_type": "code",
   "execution_count": 2,
   "metadata": {},
   "outputs": [
    {
     "name": "stdout",
     "output_type": "stream",
     "text": [
      "Loaded a corpus of 2567986 characters\n"
     ]
    }
   ],
   "source": [
    "with open(\"companies.csv\") as corpus_file:\n",
    "    corpus = corpus_file.read()\n",
    "    corpus_length = len(corpus)\n",
    "    \n",
    "print(f\"Loaded a corpus of {corpus_length} characters\")\n",
    "\n",
    "#np.loadtxt(\"companies.csv\", dtype=str, delimiter=\";\")"
   ]
  },
  {
   "cell_type": "code",
   "execution_count": 3,
   "metadata": {},
   "outputs": [
    {
     "name": "stdout",
     "output_type": "stream",
     "text": [
      "Our corpus contains 150 unique characters.\n"
     ]
    }
   ],
   "source": [
    "chars = sorted(list(set(corpus)))\n",
    "num_chars = len(chars)\n",
    "encoding = {c: i for i, c in enumerate(chars)}\n",
    "decoding = {i: c for i, c in enumerate(chars)}\n",
    "print(\"Our corpus contains {0} unique characters.\".format(num_chars))"
   ]
  },
  {
   "cell_type": "code",
   "execution_count": 4,
   "metadata": {},
   "outputs": [
    {
     "name": "stdout",
     "output_type": "stream",
     "text": [
      "{'\\n': 0, ' ': 1, '!': 2, '\"': 3, '#': 4, '$': 5, '%': 6, '&': 7, \"'\": 8, '(': 9, ')': 10, '*': 11, '+': 12, ',': 13, '-': 14, '.': 15, '/': 16, '0': 17, '1': 18, '2': 19, '3': 20, '4': 21, '5': 22, '6': 23, '7': 24, '8': 25, '9': 26, ':': 27, '=': 28, '>': 29, '?': 30, '@': 31, 'A': 32, 'B': 33, 'C': 34, 'D': 35, 'E': 36, 'F': 37, 'G': 38, 'H': 39, 'I': 40, 'J': 41, 'K': 42, 'L': 43, 'M': 44, 'N': 45, 'O': 46, 'P': 47, 'Q': 48, 'R': 49, 'S': 50, 'T': 51, 'U': 52, 'V': 53, 'W': 54, 'X': 55, 'Y': 56, 'Z': 57, '[': 58, '\\\\': 59, ']': 60, '^': 61, '_': 62, 'a': 63, 'b': 64, 'c': 65, 'd': 66, 'e': 67, 'f': 68, 'g': 69, 'h': 70, 'i': 71, 'j': 72, 'k': 73, 'l': 74, 'm': 75, 'n': 76, 'o': 77, 'p': 78, 'q': 79, 'r': 80, 's': 81, 't': 82, 'u': 83, 'v': 84, 'w': 85, 'x': 86, 'y': 87, 'z': 88, '{': 89, '|': 90, '}': 91, '~': 92, '\\x81': 93, '\\x82': 94, '\\x83': 95, '\\x84': 96, '\\x85': 97, '\\x86': 98, '\\x87': 99, '\\x88': 100, '\\x89': 101, '\\x8a': 102, '\\x8b': 103, '\\x8c': 104, '\\x8d': 105, '\\x8e': 106, '\\x8f': 107, '\\x90': 108, '\\x91': 109, '\\x92': 110, '\\x93': 111, '\\x94': 112, '\\x95': 113, '\\x96': 114, '\\x97': 115, '\\x98': 116, '\\x99': 117, '\\x9a': 118, '\\x9b': 119, '\\x9c': 120, '\\x9f': 121, '¡': 122, '¥': 123, '§': 124, '¨': 125, '©': 126, 'ª': 127, '«': 128, '¯': 129, 'µ': 130, '¾': 131, '¿': 132, 'Ê': 133, 'Ë': 134, 'Ì': 135, 'Ï': 136, 'Ð': 137, 'Ñ': 138, 'Ô': 139, 'Õ': 140, 'ç': 141, 'è': 142, 'ê': 143, 'ì': 144, 'î': 145, 'ï': 146, 'ò': 147, 'õ': 148, 'û': 149}\n",
      "{0: '\\n', 1: ' ', 2: '!', 3: '\"', 4: '#', 5: '$', 6: '%', 7: '&', 8: \"'\", 9: '(', 10: ')', 11: '*', 12: '+', 13: ',', 14: '-', 15: '.', 16: '/', 17: '0', 18: '1', 19: '2', 20: '3', 21: '4', 22: '5', 23: '6', 24: '7', 25: '8', 26: '9', 27: ':', 28: '=', 29: '>', 30: '?', 31: '@', 32: 'A', 33: 'B', 34: 'C', 35: 'D', 36: 'E', 37: 'F', 38: 'G', 39: 'H', 40: 'I', 41: 'J', 42: 'K', 43: 'L', 44: 'M', 45: 'N', 46: 'O', 47: 'P', 48: 'Q', 49: 'R', 50: 'S', 51: 'T', 52: 'U', 53: 'V', 54: 'W', 55: 'X', 56: 'Y', 57: 'Z', 58: '[', 59: '\\\\', 60: ']', 61: '^', 62: '_', 63: 'a', 64: 'b', 65: 'c', 66: 'd', 67: 'e', 68: 'f', 69: 'g', 70: 'h', 71: 'i', 72: 'j', 73: 'k', 74: 'l', 75: 'm', 76: 'n', 77: 'o', 78: 'p', 79: 'q', 80: 'r', 81: 's', 82: 't', 83: 'u', 84: 'v', 85: 'w', 86: 'x', 87: 'y', 88: 'z', 89: '{', 90: '|', 91: '}', 92: '~', 93: '\\x81', 94: '\\x82', 95: '\\x83', 96: '\\x84', 97: '\\x85', 98: '\\x86', 99: '\\x87', 100: '\\x88', 101: '\\x89', 102: '\\x8a', 103: '\\x8b', 104: '\\x8c', 105: '\\x8d', 106: '\\x8e', 107: '\\x8f', 108: '\\x90', 109: '\\x91', 110: '\\x92', 111: '\\x93', 112: '\\x94', 113: '\\x95', 114: '\\x96', 115: '\\x97', 116: '\\x98', 117: '\\x99', 118: '\\x9a', 119: '\\x9b', 120: '\\x9c', 121: '\\x9f', 122: '¡', 123: '¥', 124: '§', 125: '¨', 126: '©', 127: 'ª', 128: '«', 129: '¯', 130: 'µ', 131: '¾', 132: '¿', 133: 'Ê', 134: 'Ë', 135: 'Ì', 136: 'Ï', 137: 'Ð', 138: 'Ñ', 139: 'Ô', 140: 'Õ', 141: 'ç', 142: 'è', 143: 'ê', 144: 'ì', 145: 'î', 146: 'ï', 147: 'ò', 148: 'õ', 149: 'û'}\n"
     ]
    }
   ],
   "source": [
    "print(encoding)\n",
    "print(decoding)"
   ]
  },
  {
   "cell_type": "markdown",
   "metadata": {},
   "source": [
    "## Many to One  approach"
   ]
  },
  {
   "cell_type": "code",
   "execution_count": 5,
   "metadata": {},
   "outputs": [
    {
     "name": "stdout",
     "output_type": "stream",
     "text": [
      "Sliced our corpus into 855992 sequences of length 10\n"
     ]
    }
   ],
   "source": [
    "sequence_length = 10\n",
    "skip = 3\n",
    "X_data = []\n",
    "y_data = []\n",
    "for i in range (0, len(corpus) - sequence_length, skip):\n",
    "    sequence = corpus[i:i+sequence_length]\n",
    "    next_char = corpus[i+sequence_length]\n",
    "    X_data.append([encoding[char] for char in sequence])\n",
    "    y_data.append(encoding[next_char])\n",
    "\n",
    "num_sequences = len(X_data)\n",
    "print(f\"Sliced our corpus into {num_sequences} sequences of length {sequence_length}\")"
   ]
  },
  {
   "cell_type": "code",
   "execution_count": 6,
   "metadata": {},
   "outputs": [
    {
     "name": "stdout",
     "output_type": "stream",
     "text": [
      "[39, 63, 81, 70, 78, 74, 63, 87, 1, 40]\n",
      "['H', 'a', 's', 'h', 'p', 'l', 'a', 'y', ' ', 'I']\n",
      "n\n"
     ]
    }
   ],
   "source": [
    "print(X_data[0])\n",
    "print([decoding[c] for c in X_data[0]])\n",
    "print(decoding[y_data[0]])"
   ]
  },
  {
   "cell_type": "code",
   "execution_count": 7,
   "metadata": {},
   "outputs": [
    {
     "name": "stdout",
     "output_type": "stream",
     "text": [
      "# sequences: 855992\n",
      "Characters in corpus: 150\n",
      "sequence length: 10\n",
      "Sanity check y. Dimension: torch.Size([855992])\n",
      "Sanity check X. Dimension: torch.Size([855992, 10, 150])\n"
     ]
    }
   ],
   "source": [
    "X = F.one_hot(torch.tensor(X_data), num_classes=num_chars).to(torch.float)\n",
    "y = torch.tensor(y_data)\n",
    "\n",
    "print(f\"# sequences: {num_sequences}\")\n",
    "print(f\"Characters in corpus: {len(chars)}\")\n",
    "print(f\"sequence length: {sequence_length}\")\n",
    "print(f\"Sanity check y. Dimension: {y.shape}\")\n",
    "print(f\"Sanity check X. Dimension: {X.shape}\")"
   ]
  },
  {
   "cell_type": "code",
   "execution_count": 8,
   "metadata": {},
   "outputs": [],
   "source": [
    "class RNNModel(nn.Module):\n",
    "    def __init__(self, input_size, hidden_size, layer_size, num_classes):\n",
    "        super().__init__()\n",
    "        self.rnn = nn.RNN(input_size, hidden_size, layer_size, batch_first=True)\n",
    "        self.fc = nn.Sequential(\n",
    "            nn.Linear(hidden_size, num_classes),\n",
    "            nn.Softmax(dim=-1),\n",
    "        )\n",
    "        \n",
    "    def forward(self, x):\n",
    "        out, _ = self.rnn(x)\n",
    "        out = out[:, -1]\n",
    "        out = self.fc(out)\n",
    "        return out"
   ]
  },
  {
   "cell_type": "code",
   "execution_count": 9,
   "metadata": {},
   "outputs": [
    {
     "data": {
      "text/plain": [
       "==========================================================================================\n",
       "Layer (type:depth-idx)                   Output Shape              Param #\n",
       "==========================================================================================\n",
       "RNNModel                                 --                        --\n",
       "├─RNN: 1-1                               [128, 10, 64]             13,824\n",
       "├─Sequential: 1-2                        [128, 150]                --\n",
       "│    └─Linear: 2-1                       [128, 150]                9,750\n",
       "│    └─Softmax: 2-2                      [128, 150]                --\n",
       "==========================================================================================\n",
       "Total params: 23,574\n",
       "Trainable params: 23,574\n",
       "Non-trainable params: 0\n",
       "Total mult-adds (M): 18.94\n",
       "==========================================================================================\n",
       "Input size (MB): 0.77\n",
       "Forward/backward pass size (MB): 0.81\n",
       "Params size (MB): 0.09\n",
       "Estimated Total Size (MB): 1.67\n",
       "=========================================================================================="
      ]
     },
     "execution_count": 9,
     "metadata": {},
     "output_type": "execute_result"
    }
   ],
   "source": [
    "hidden_size = 64\n",
    "num_classes = num_chars\n",
    "layer_size = 1\n",
    "batch_size= 128\n",
    "\n",
    "device = torch.device(\"cuda\" if torch.cuda.is_available() else \"cpu\")\n",
    "model = RNNModel(num_classes, hidden_size, layer_size, num_classes).to(device)\n",
    "\n",
    "optimizer = torch.optim.Adam(model.parameters(), lr=0.001)\n",
    "criterion = nn.CrossEntropyLoss()\n",
    "\n",
    "summary(model, input_size=(batch_size, sequence_length, num_classes))"
   ]
  },
  {
   "cell_type": "code",
   "execution_count": 10,
   "metadata": {},
   "outputs": [
    {
     "data": {
      "text/plain": [
       "RNNModel(\n",
       "  (rnn): RNN(150, 64, batch_first=True)\n",
       "  (fc): Sequential(\n",
       "    (0): Linear(in_features=64, out_features=150, bias=True)\n",
       "    (1): Softmax(dim=-1)\n",
       "  )\n",
       ")"
      ]
     },
     "execution_count": 10,
     "metadata": {},
     "output_type": "execute_result"
    }
   ],
   "source": [
    "model"
   ]
  },
  {
   "cell_type": "code",
   "execution_count": 11,
   "metadata": {},
   "outputs": [],
   "source": [
    "def train(epoch, model, data_loader, log_interval=200):\n",
    "    model.train()\n",
    "    total_train_loss = 0\n",
    "    total_correct = 0 \n",
    "    # Loop over each batch from the training set\n",
    "    for batch_idx, (data, target) in enumerate(tqdm(data_loader, desc=f\"Training Epoch {epoch}\")):\n",
    "        data = data.to(device)\n",
    "        target = target.to(device)\n",
    "        optimizer.zero_grad() \n",
    "        # Pass data through the network\n",
    "        output = model(data)\n",
    "\n",
    "        # Calculate loss\n",
    "        loss = criterion(output, target)\n",
    "        # Backpropagate. Updates the gradients buffer on each parameter\n",
    "        loss.backward()\n",
    "        # Update weights\n",
    "        optimizer.step()\n",
    "        \n",
    "        total_train_loss += loss.item()\n",
    "        \n",
    "        _, pred = torch.max(output, dim=1)\n",
    "\n",
    "        total_correct += torch.sum(pred == target).item()\n",
    "                  \n",
    "        \n",
    "        if batch_idx % log_interval == 0:\n",
    "            print('Train Epoch: {} [{}/{} ({:.0f}%)]\\tLoss: {:.6f}'.format(\n",
    "                epoch, batch_idx * len(data), len(data_loader.dataset),\n",
    "                100. * batch_idx / len(data_loader), loss.data.item()))\n",
    "    \n",
    "    accuracy_train = total_correct / len(data_loader.dataset)\n",
    "\n",
    "    \n",
    "    total_train_loss = total_train_loss / len(data_loader)\n",
    "\n",
    "    return {\n",
    "        \"loss\": total_train_loss,\n",
    "        \"accuracy\": accuracy_train,\n",
    "    }"
   ]
  },
  {
   "cell_type": "code",
   "execution_count": 12,
   "metadata": {},
   "outputs": [],
   "source": [
    "@torch.inference_mode() \n",
    "def predict(model, data):\n",
    "    model.eval()\n",
    "    output = model(data)\n",
    "    return output"
   ]
  },
  {
   "cell_type": "code",
   "execution_count": 13,
   "metadata": {},
   "outputs": [],
   "source": [
    "dataset = TensorDataset(X, y)\n",
    "train_loader = DataLoader(dataset, batch_size=batch_size, shuffle=True)"
   ]
  },
  {
   "cell_type": "code",
   "execution_count": 14,
   "metadata": {},
   "outputs": [
    {
     "data": {
      "application/vnd.jupyter.widget-view+json": {
       "model_id": "682f18c574c44d42b451e6ede0f4c3ba",
       "version_major": 2,
       "version_minor": 0
      },
      "text/plain": [
       "Training Epoch 1:   0%|          | 0/6688 [00:00<?, ?it/s]"
      ]
     },
     "metadata": {},
     "output_type": "display_data"
    },
    {
     "name": "stdout",
     "output_type": "stream",
     "text": [
      "Train Epoch: 1 [0/855992 (0%)]\tLoss: 5.010685\n",
      "Train Epoch: 1 [25600/855992 (3%)]\tLoss: 4.936292\n",
      "Train Epoch: 1 [51200/855992 (6%)]\tLoss: 4.920770\n",
      "Train Epoch: 1 [76800/855992 (9%)]\tLoss: 4.889464\n",
      "Train Epoch: 1 [102400/855992 (12%)]\tLoss: 4.943903\n",
      "Train Epoch: 1 [128000/855992 (15%)]\tLoss: 4.865936\n",
      "Train Epoch: 1 [153600/855992 (18%)]\tLoss: 4.959515\n",
      "Train Epoch: 1 [179200/855992 (21%)]\tLoss: 4.982931\n",
      "Train Epoch: 1 [204800/855992 (24%)]\tLoss: 4.951705\n",
      "Train Epoch: 1 [230400/855992 (27%)]\tLoss: 4.928297\n",
      "Train Epoch: 1 [256000/855992 (30%)]\tLoss: 4.951712\n",
      "Train Epoch: 1 [281600/855992 (33%)]\tLoss: 4.920482\n",
      "Train Epoch: 1 [307200/855992 (36%)]\tLoss: 4.920481\n",
      "Train Epoch: 1 [332800/855992 (39%)]\tLoss: 4.975141\n",
      "Train Epoch: 1 [358400/855992 (42%)]\tLoss: 4.959520\n",
      "Train Epoch: 1 [384000/855992 (45%)]\tLoss: 4.920467\n",
      "Train Epoch: 1 [409600/855992 (48%)]\tLoss: 4.951710\n",
      "Train Epoch: 1 [435200/855992 (51%)]\tLoss: 4.982957\n",
      "Train Epoch: 1 [460800/855992 (54%)]\tLoss: 4.928284\n",
      "Train Epoch: 1 [486400/855992 (57%)]\tLoss: 4.967336\n",
      "Train Epoch: 1 [512000/855992 (60%)]\tLoss: 4.959525\n",
      "Train Epoch: 1 [537600/855992 (63%)]\tLoss: 4.959525\n",
      "Train Epoch: 1 [563200/855992 (66%)]\tLoss: 4.920469\n",
      "Train Epoch: 1 [588800/855992 (69%)]\tLoss: 4.920465\n",
      "Train Epoch: 1 [614400/855992 (72%)]\tLoss: 4.943898\n",
      "Train Epoch: 1 [640000/855992 (75%)]\tLoss: 4.889219\n",
      "Train Epoch: 1 [665600/855992 (78%)]\tLoss: 4.912656\n",
      "Train Epoch: 1 [691200/855992 (81%)]\tLoss: 4.936090\n",
      "Train Epoch: 1 [716800/855992 (84%)]\tLoss: 4.982954\n",
      "Train Epoch: 1 [742400/855992 (87%)]\tLoss: 4.949894\n",
      "Train Epoch: 1 [768000/855992 (90%)]\tLoss: 4.878469\n",
      "Train Epoch: 1 [793600/855992 (93%)]\tLoss: 4.889988\n",
      "Train Epoch: 1 [819200/855992 (96%)]\tLoss: 4.853954\n",
      "Train Epoch: 1 [844800/855992 (99%)]\tLoss: 4.759303\n"
     ]
    },
    {
     "data": {
      "application/vnd.jupyter.widget-view+json": {
       "model_id": "58534a5db53b4740bf1bbd32831bc46a",
       "version_major": 2,
       "version_minor": 0
      },
      "text/plain": [
       "Training Epoch 2:   0%|          | 0/6688 [00:00<?, ?it/s]"
      ]
     },
     "metadata": {},
     "output_type": "display_data"
    },
    {
     "name": "stdout",
     "output_type": "stream",
     "text": [
      "Train Epoch: 2 [0/855992 (0%)]\tLoss: 4.833351\n",
      "Train Epoch: 2 [25600/855992 (3%)]\tLoss: 4.848730\n",
      "Train Epoch: 2 [51200/855992 (6%)]\tLoss: 4.791923\n",
      "Train Epoch: 2 [76800/855992 (9%)]\tLoss: 4.829117\n",
      "Train Epoch: 2 [102400/855992 (12%)]\tLoss: 4.808399\n",
      "Train Epoch: 2 [128000/855992 (15%)]\tLoss: 4.780657\n",
      "Train Epoch: 2 [153600/855992 (18%)]\tLoss: 4.826577\n",
      "Train Epoch: 2 [179200/855992 (21%)]\tLoss: 4.840570\n",
      "Train Epoch: 2 [204800/855992 (24%)]\tLoss: 4.753696\n",
      "Train Epoch: 2 [230400/855992 (27%)]\tLoss: 4.740283\n",
      "Train Epoch: 2 [256000/855992 (30%)]\tLoss: 4.769109\n",
      "Train Epoch: 2 [281600/855992 (33%)]\tLoss: 4.792164\n",
      "Train Epoch: 2 [307200/855992 (36%)]\tLoss: 4.820244\n",
      "Train Epoch: 2 [332800/855992 (39%)]\tLoss: 4.769356\n",
      "Train Epoch: 2 [358400/855992 (42%)]\tLoss: 4.796368\n",
      "Train Epoch: 2 [384000/855992 (45%)]\tLoss: 4.802536\n",
      "Train Epoch: 2 [409600/855992 (48%)]\tLoss: 4.763190\n",
      "Train Epoch: 2 [435200/855992 (51%)]\tLoss: 4.827420\n",
      "Train Epoch: 2 [460800/855992 (54%)]\tLoss: 4.828749\n",
      "Train Epoch: 2 [486400/855992 (57%)]\tLoss: 4.775844\n",
      "Train Epoch: 2 [512000/855992 (60%)]\tLoss: 4.764451\n",
      "Train Epoch: 2 [537600/855992 (63%)]\tLoss: 4.765857\n",
      "Train Epoch: 2 [563200/855992 (66%)]\tLoss: 4.719641\n",
      "Train Epoch: 2 [588800/855992 (69%)]\tLoss: 4.735725\n",
      "Train Epoch: 2 [614400/855992 (72%)]\tLoss: 4.786858\n",
      "Train Epoch: 2 [640000/855992 (75%)]\tLoss: 4.776846\n",
      "Train Epoch: 2 [665600/855992 (78%)]\tLoss: 4.732688\n",
      "Train Epoch: 2 [691200/855992 (81%)]\tLoss: 4.823334\n",
      "Train Epoch: 2 [716800/855992 (84%)]\tLoss: 4.731277\n",
      "Train Epoch: 2 [742400/855992 (87%)]\tLoss: 4.733921\n",
      "Train Epoch: 2 [768000/855992 (90%)]\tLoss: 4.784825\n",
      "Train Epoch: 2 [793600/855992 (93%)]\tLoss: 4.799022\n",
      "Train Epoch: 2 [819200/855992 (96%)]\tLoss: 4.839867\n",
      "Train Epoch: 2 [844800/855992 (99%)]\tLoss: 4.729705\n"
     ]
    },
    {
     "data": {
      "application/vnd.jupyter.widget-view+json": {
       "model_id": "3d2f9422343846feb607d0a6e1c004fb",
       "version_major": 2,
       "version_minor": 0
      },
      "text/plain": [
       "Training Epoch 3:   0%|          | 0/6688 [00:00<?, ?it/s]"
      ]
     },
     "metadata": {},
     "output_type": "display_data"
    },
    {
     "name": "stdout",
     "output_type": "stream",
     "text": [
      "Train Epoch: 3 [0/855992 (0%)]\tLoss: 4.774034\n",
      "Train Epoch: 3 [25600/855992 (3%)]\tLoss: 4.700772\n",
      "Train Epoch: 3 [51200/855992 (6%)]\tLoss: 4.844039\n",
      "Train Epoch: 3 [76800/855992 (9%)]\tLoss: 4.812463\n",
      "Train Epoch: 3 [102400/855992 (12%)]\tLoss: 4.767422\n",
      "Train Epoch: 3 [128000/855992 (15%)]\tLoss: 4.791334\n",
      "Train Epoch: 3 [153600/855992 (18%)]\tLoss: 4.732358\n",
      "Train Epoch: 3 [179200/855992 (21%)]\tLoss: 4.693199\n",
      "Train Epoch: 3 [204800/855992 (24%)]\tLoss: 4.677909\n",
      "Train Epoch: 3 [230400/855992 (27%)]\tLoss: 4.783278\n",
      "Train Epoch: 3 [256000/855992 (30%)]\tLoss: 4.801521\n",
      "Train Epoch: 3 [281600/855992 (33%)]\tLoss: 4.788512\n",
      "Train Epoch: 3 [307200/855992 (36%)]\tLoss: 4.797509\n",
      "Train Epoch: 3 [332800/855992 (39%)]\tLoss: 4.797469\n",
      "Train Epoch: 3 [358400/855992 (42%)]\tLoss: 4.706284\n",
      "Train Epoch: 3 [384000/855992 (45%)]\tLoss: 4.760263\n",
      "Train Epoch: 3 [409600/855992 (48%)]\tLoss: 4.758116\n",
      "Train Epoch: 3 [435200/855992 (51%)]\tLoss: 4.718832\n",
      "Train Epoch: 3 [460800/855992 (54%)]\tLoss: 4.728637\n",
      "Train Epoch: 3 [486400/855992 (57%)]\tLoss: 4.785521\n",
      "Train Epoch: 3 [512000/855992 (60%)]\tLoss: 4.768130\n",
      "Train Epoch: 3 [537600/855992 (63%)]\tLoss: 4.765690\n",
      "Train Epoch: 3 [563200/855992 (66%)]\tLoss: 4.749022\n",
      "Train Epoch: 3 [588800/855992 (69%)]\tLoss: 4.753874\n",
      "Train Epoch: 3 [614400/855992 (72%)]\tLoss: 4.731264\n",
      "Train Epoch: 3 [640000/855992 (75%)]\tLoss: 4.705436\n",
      "Train Epoch: 3 [665600/855992 (78%)]\tLoss: 4.733509\n",
      "Train Epoch: 3 [691200/855992 (81%)]\tLoss: 4.760328\n",
      "Train Epoch: 3 [716800/855992 (84%)]\tLoss: 4.773803\n",
      "Train Epoch: 3 [742400/855992 (87%)]\tLoss: 4.766563\n",
      "Train Epoch: 3 [768000/855992 (90%)]\tLoss: 4.759611\n",
      "Train Epoch: 3 [793600/855992 (93%)]\tLoss: 4.716615\n",
      "Train Epoch: 3 [819200/855992 (96%)]\tLoss: 4.746736\n",
      "Train Epoch: 3 [844800/855992 (99%)]\tLoss: 4.762456\n"
     ]
    },
    {
     "data": {
      "application/vnd.jupyter.widget-view+json": {
       "model_id": "9d5b161a91414929add71da5ea227902",
       "version_major": 2,
       "version_minor": 0
      },
      "text/plain": [
       "Training Epoch 4:   0%|          | 0/6688 [00:00<?, ?it/s]"
      ]
     },
     "metadata": {},
     "output_type": "display_data"
    },
    {
     "name": "stdout",
     "output_type": "stream",
     "text": [
      "Train Epoch: 4 [0/855992 (0%)]\tLoss: 4.786294\n",
      "Train Epoch: 4 [25600/855992 (3%)]\tLoss: 4.747069\n",
      "Train Epoch: 4 [51200/855992 (6%)]\tLoss: 4.809166\n",
      "Train Epoch: 4 [76800/855992 (9%)]\tLoss: 4.744350\n",
      "Train Epoch: 4 [102400/855992 (12%)]\tLoss: 4.730820\n",
      "Train Epoch: 4 [128000/855992 (15%)]\tLoss: 4.811648\n",
      "Train Epoch: 4 [153600/855992 (18%)]\tLoss: 4.669909\n",
      "Train Epoch: 4 [179200/855992 (21%)]\tLoss: 4.727087\n",
      "Train Epoch: 4 [204800/855992 (24%)]\tLoss: 4.729530\n",
      "Train Epoch: 4 [230400/855992 (27%)]\tLoss: 4.734234\n",
      "Train Epoch: 4 [256000/855992 (30%)]\tLoss: 4.736125\n",
      "Train Epoch: 4 [281600/855992 (33%)]\tLoss: 4.799965\n",
      "Train Epoch: 4 [307200/855992 (36%)]\tLoss: 4.736814\n",
      "Train Epoch: 4 [332800/855992 (39%)]\tLoss: 4.710070\n",
      "Train Epoch: 4 [358400/855992 (42%)]\tLoss: 4.733772\n",
      "Train Epoch: 4 [384000/855992 (45%)]\tLoss: 4.721423\n",
      "Train Epoch: 4 [409600/855992 (48%)]\tLoss: 4.675649\n",
      "Train Epoch: 4 [435200/855992 (51%)]\tLoss: 4.726267\n",
      "Train Epoch: 4 [460800/855992 (54%)]\tLoss: 4.712678\n",
      "Train Epoch: 4 [486400/855992 (57%)]\tLoss: 4.731094\n",
      "Train Epoch: 4 [512000/855992 (60%)]\tLoss: 4.748594\n",
      "Train Epoch: 4 [537600/855992 (63%)]\tLoss: 4.775200\n",
      "Train Epoch: 4 [563200/855992 (66%)]\tLoss: 4.704687\n",
      "Train Epoch: 4 [588800/855992 (69%)]\tLoss: 4.738225\n",
      "Train Epoch: 4 [614400/855992 (72%)]\tLoss: 4.760039\n",
      "Train Epoch: 4 [640000/855992 (75%)]\tLoss: 4.726427\n",
      "Train Epoch: 4 [665600/855992 (78%)]\tLoss: 4.691209\n",
      "Train Epoch: 4 [691200/855992 (81%)]\tLoss: 4.813902\n",
      "Train Epoch: 4 [716800/855992 (84%)]\tLoss: 4.696117\n",
      "Train Epoch: 4 [742400/855992 (87%)]\tLoss: 4.714275\n",
      "Train Epoch: 4 [768000/855992 (90%)]\tLoss: 4.674923\n",
      "Train Epoch: 4 [793600/855992 (93%)]\tLoss: 4.694229\n",
      "Train Epoch: 4 [819200/855992 (96%)]\tLoss: 4.772410\n",
      "Train Epoch: 4 [844800/855992 (99%)]\tLoss: 4.708535\n"
     ]
    },
    {
     "data": {
      "application/vnd.jupyter.widget-view+json": {
       "model_id": "cd385fa0892a45df9918d0bd832998c7",
       "version_major": 2,
       "version_minor": 0
      },
      "text/plain": [
       "Training Epoch 5:   0%|          | 0/6688 [00:00<?, ?it/s]"
      ]
     },
     "metadata": {},
     "output_type": "display_data"
    },
    {
     "name": "stdout",
     "output_type": "stream",
     "text": [
      "Train Epoch: 5 [0/855992 (0%)]\tLoss: 4.656658\n",
      "Train Epoch: 5 [25600/855992 (3%)]\tLoss: 4.623310\n",
      "Train Epoch: 5 [51200/855992 (6%)]\tLoss: 4.761882\n",
      "Train Epoch: 5 [76800/855992 (9%)]\tLoss: 4.694811\n",
      "Train Epoch: 5 [102400/855992 (12%)]\tLoss: 4.713318\n",
      "Train Epoch: 5 [128000/855992 (15%)]\tLoss: 4.732544\n",
      "Train Epoch: 5 [153600/855992 (18%)]\tLoss: 4.744422\n",
      "Train Epoch: 5 [179200/855992 (21%)]\tLoss: 4.678281\n",
      "Train Epoch: 5 [204800/855992 (24%)]\tLoss: 4.735976\n",
      "Train Epoch: 5 [230400/855992 (27%)]\tLoss: 4.757316\n",
      "Train Epoch: 5 [256000/855992 (30%)]\tLoss: 4.676985\n",
      "Train Epoch: 5 [281600/855992 (33%)]\tLoss: 4.721568\n",
      "Train Epoch: 5 [307200/855992 (36%)]\tLoss: 4.690185\n",
      "Train Epoch: 5 [332800/855992 (39%)]\tLoss: 4.749906\n",
      "Train Epoch: 5 [358400/855992 (42%)]\tLoss: 4.766503\n",
      "Train Epoch: 5 [384000/855992 (45%)]\tLoss: 4.732476\n",
      "Train Epoch: 5 [409600/855992 (48%)]\tLoss: 4.685112\n",
      "Train Epoch: 5 [435200/855992 (51%)]\tLoss: 4.726568\n",
      "Train Epoch: 5 [460800/855992 (54%)]\tLoss: 4.683387\n",
      "Train Epoch: 5 [486400/855992 (57%)]\tLoss: 4.704216\n",
      "Train Epoch: 5 [512000/855992 (60%)]\tLoss: 4.695778\n",
      "Train Epoch: 5 [537600/855992 (63%)]\tLoss: 4.771357\n",
      "Train Epoch: 5 [563200/855992 (66%)]\tLoss: 4.660518\n",
      "Train Epoch: 5 [588800/855992 (69%)]\tLoss: 4.641742\n",
      "Train Epoch: 5 [614400/855992 (72%)]\tLoss: 4.670096\n",
      "Train Epoch: 5 [640000/855992 (75%)]\tLoss: 4.734321\n",
      "Train Epoch: 5 [665600/855992 (78%)]\tLoss: 4.744538\n",
      "Train Epoch: 5 [691200/855992 (81%)]\tLoss: 4.766121\n",
      "Train Epoch: 5 [716800/855992 (84%)]\tLoss: 4.677106\n",
      "Train Epoch: 5 [742400/855992 (87%)]\tLoss: 4.753708\n",
      "Train Epoch: 5 [768000/855992 (90%)]\tLoss: 4.782032\n",
      "Train Epoch: 5 [793600/855992 (93%)]\tLoss: 4.804272\n",
      "Train Epoch: 5 [819200/855992 (96%)]\tLoss: 4.763226\n",
      "Train Epoch: 5 [844800/855992 (99%)]\tLoss: 4.766962\n"
     ]
    },
    {
     "data": {
      "application/vnd.jupyter.widget-view+json": {
       "model_id": "f9fffea400714b7781d99c0695b549f1",
       "version_major": 2,
       "version_minor": 0
      },
      "text/plain": [
       "Training Epoch 6:   0%|          | 0/6688 [00:00<?, ?it/s]"
      ]
     },
     "metadata": {},
     "output_type": "display_data"
    },
    {
     "name": "stdout",
     "output_type": "stream",
     "text": [
      "Train Epoch: 6 [0/855992 (0%)]\tLoss: 4.744456\n",
      "Train Epoch: 6 [25600/855992 (3%)]\tLoss: 4.735473\n",
      "Train Epoch: 6 [51200/855992 (6%)]\tLoss: 4.744827\n",
      "Train Epoch: 6 [76800/855992 (9%)]\tLoss: 4.688704\n",
      "Train Epoch: 6 [102400/855992 (12%)]\tLoss: 4.727985\n",
      "Train Epoch: 6 [128000/855992 (15%)]\tLoss: 4.764800\n",
      "Train Epoch: 6 [153600/855992 (18%)]\tLoss: 4.741763\n",
      "Train Epoch: 6 [179200/855992 (21%)]\tLoss: 4.663023\n",
      "Train Epoch: 6 [204800/855992 (24%)]\tLoss: 4.784701\n",
      "Train Epoch: 6 [230400/855992 (27%)]\tLoss: 4.731513\n",
      "Train Epoch: 6 [256000/855992 (30%)]\tLoss: 4.763804\n",
      "Train Epoch: 6 [281600/855992 (33%)]\tLoss: 4.739939\n",
      "Train Epoch: 6 [307200/855992 (36%)]\tLoss: 4.777192\n",
      "Train Epoch: 6 [332800/855992 (39%)]\tLoss: 4.674311\n",
      "Train Epoch: 6 [358400/855992 (42%)]\tLoss: 4.693240\n",
      "Train Epoch: 6 [384000/855992 (45%)]\tLoss: 4.713624\n",
      "Train Epoch: 6 [409600/855992 (48%)]\tLoss: 4.687284\n",
      "Train Epoch: 6 [435200/855992 (51%)]\tLoss: 4.717800\n",
      "Train Epoch: 6 [460800/855992 (54%)]\tLoss: 4.683241\n",
      "Train Epoch: 6 [486400/855992 (57%)]\tLoss: 4.707565\n",
      "Train Epoch: 6 [512000/855992 (60%)]\tLoss: 4.704767\n",
      "Train Epoch: 6 [537600/855992 (63%)]\tLoss: 4.727776\n",
      "Train Epoch: 6 [563200/855992 (66%)]\tLoss: 4.731852\n",
      "Train Epoch: 6 [588800/855992 (69%)]\tLoss: 4.701586\n",
      "Train Epoch: 6 [614400/855992 (72%)]\tLoss: 4.732165\n",
      "Train Epoch: 6 [640000/855992 (75%)]\tLoss: 4.735175\n",
      "Train Epoch: 6 [665600/855992 (78%)]\tLoss: 4.694583\n",
      "Train Epoch: 6 [691200/855992 (81%)]\tLoss: 4.751342\n",
      "Train Epoch: 6 [716800/855992 (84%)]\tLoss: 4.717845\n",
      "Train Epoch: 6 [742400/855992 (87%)]\tLoss: 4.669559\n",
      "Train Epoch: 6 [768000/855992 (90%)]\tLoss: 4.727135\n",
      "Train Epoch: 6 [793600/855992 (93%)]\tLoss: 4.800488\n",
      "Train Epoch: 6 [819200/855992 (96%)]\tLoss: 4.783208\n",
      "Train Epoch: 6 [844800/855992 (99%)]\tLoss: 4.648256\n"
     ]
    },
    {
     "data": {
      "application/vnd.jupyter.widget-view+json": {
       "model_id": "d406092aea43401390f2b4b13ee302e6",
       "version_major": 2,
       "version_minor": 0
      },
      "text/plain": [
       "Training Epoch 7:   0%|          | 0/6688 [00:00<?, ?it/s]"
      ]
     },
     "metadata": {},
     "output_type": "display_data"
    },
    {
     "name": "stdout",
     "output_type": "stream",
     "text": [
      "Train Epoch: 7 [0/855992 (0%)]\tLoss: 4.767110\n",
      "Train Epoch: 7 [25600/855992 (3%)]\tLoss: 4.675468\n",
      "Train Epoch: 7 [51200/855992 (6%)]\tLoss: 4.725726\n",
      "Train Epoch: 7 [76800/855992 (9%)]\tLoss: 4.728878\n",
      "Train Epoch: 7 [102400/855992 (12%)]\tLoss: 4.707928\n",
      "Train Epoch: 7 [128000/855992 (15%)]\tLoss: 4.698589\n",
      "Train Epoch: 7 [153600/855992 (18%)]\tLoss: 4.635870\n",
      "Train Epoch: 7 [179200/855992 (21%)]\tLoss: 4.730591\n",
      "Train Epoch: 7 [204800/855992 (24%)]\tLoss: 4.780990\n",
      "Train Epoch: 7 [230400/855992 (27%)]\tLoss: 4.754541\n",
      "Train Epoch: 7 [256000/855992 (30%)]\tLoss: 4.696138\n",
      "Train Epoch: 7 [281600/855992 (33%)]\tLoss: 4.726100\n",
      "Train Epoch: 7 [307200/855992 (36%)]\tLoss: 4.695783\n",
      "Train Epoch: 7 [332800/855992 (39%)]\tLoss: 4.732627\n",
      "Train Epoch: 7 [358400/855992 (42%)]\tLoss: 4.711653\n",
      "Train Epoch: 7 [384000/855992 (45%)]\tLoss: 4.825142\n",
      "Train Epoch: 7 [409600/855992 (48%)]\tLoss: 4.686516\n",
      "Train Epoch: 7 [435200/855992 (51%)]\tLoss: 4.684203\n",
      "Train Epoch: 7 [460800/855992 (54%)]\tLoss: 4.781425\n",
      "Train Epoch: 7 [486400/855992 (57%)]\tLoss: 4.733089\n",
      "Train Epoch: 7 [512000/855992 (60%)]\tLoss: 4.698126\n",
      "Train Epoch: 7 [537600/855992 (63%)]\tLoss: 4.758352\n",
      "Train Epoch: 7 [563200/855992 (66%)]\tLoss: 4.728670\n",
      "Train Epoch: 7 [588800/855992 (69%)]\tLoss: 4.793376\n",
      "Train Epoch: 7 [614400/855992 (72%)]\tLoss: 4.692837\n",
      "Train Epoch: 7 [640000/855992 (75%)]\tLoss: 4.745566\n",
      "Train Epoch: 7 [665600/855992 (78%)]\tLoss: 4.739870\n",
      "Train Epoch: 7 [691200/855992 (81%)]\tLoss: 4.699402\n",
      "Train Epoch: 7 [716800/855992 (84%)]\tLoss: 4.796613\n",
      "Train Epoch: 7 [742400/855992 (87%)]\tLoss: 4.729156\n",
      "Train Epoch: 7 [768000/855992 (90%)]\tLoss: 4.700755\n",
      "Train Epoch: 7 [793600/855992 (93%)]\tLoss: 4.718233\n",
      "Train Epoch: 7 [819200/855992 (96%)]\tLoss: 4.706325\n",
      "Train Epoch: 7 [844800/855992 (99%)]\tLoss: 4.772771\n"
     ]
    },
    {
     "data": {
      "application/vnd.jupyter.widget-view+json": {
       "model_id": "bddfee37fbb247d0986ad62d6cd2e116",
       "version_major": 2,
       "version_minor": 0
      },
      "text/plain": [
       "Training Epoch 8:   0%|          | 0/6688 [00:00<?, ?it/s]"
      ]
     },
     "metadata": {},
     "output_type": "display_data"
    },
    {
     "name": "stdout",
     "output_type": "stream",
     "text": [
      "Train Epoch: 8 [0/855992 (0%)]\tLoss: 4.715795\n",
      "Train Epoch: 8 [25600/855992 (3%)]\tLoss: 4.606381\n",
      "Train Epoch: 8 [51200/855992 (6%)]\tLoss: 4.717302\n",
      "Train Epoch: 8 [76800/855992 (9%)]\tLoss: 4.672729\n",
      "Train Epoch: 8 [102400/855992 (12%)]\tLoss: 4.635515\n",
      "Train Epoch: 8 [128000/855992 (15%)]\tLoss: 4.680321\n",
      "Train Epoch: 8 [153600/855992 (18%)]\tLoss: 4.650402\n",
      "Train Epoch: 8 [179200/855992 (21%)]\tLoss: 4.690157\n",
      "Train Epoch: 8 [204800/855992 (24%)]\tLoss: 4.723172\n",
      "Train Epoch: 8 [230400/855992 (27%)]\tLoss: 4.649329\n",
      "Train Epoch: 8 [256000/855992 (30%)]\tLoss: 4.689195\n",
      "Train Epoch: 8 [281600/855992 (33%)]\tLoss: 4.701008\n",
      "Train Epoch: 8 [307200/855992 (36%)]\tLoss: 4.667573\n",
      "Train Epoch: 8 [332800/855992 (39%)]\tLoss: 4.742779\n",
      "Train Epoch: 8 [358400/855992 (42%)]\tLoss: 4.720887\n",
      "Train Epoch: 8 [384000/855992 (45%)]\tLoss: 4.727548\n",
      "Train Epoch: 8 [409600/855992 (48%)]\tLoss: 4.718256\n",
      "Train Epoch: 8 [435200/855992 (51%)]\tLoss: 4.741251\n",
      "Train Epoch: 8 [460800/855992 (54%)]\tLoss: 4.662913\n",
      "Train Epoch: 8 [486400/855992 (57%)]\tLoss: 4.766223\n",
      "Train Epoch: 8 [512000/855992 (60%)]\tLoss: 4.682280\n",
      "Train Epoch: 8 [537600/855992 (63%)]\tLoss: 4.718682\n",
      "Train Epoch: 8 [563200/855992 (66%)]\tLoss: 4.727286\n",
      "Train Epoch: 8 [588800/855992 (69%)]\tLoss: 4.701863\n",
      "Train Epoch: 8 [614400/855992 (72%)]\tLoss: 4.698652\n",
      "Train Epoch: 8 [640000/855992 (75%)]\tLoss: 4.768303\n",
      "Train Epoch: 8 [665600/855992 (78%)]\tLoss: 4.705876\n",
      "Train Epoch: 8 [691200/855992 (81%)]\tLoss: 4.712796\n",
      "Train Epoch: 8 [716800/855992 (84%)]\tLoss: 4.688899\n",
      "Train Epoch: 8 [742400/855992 (87%)]\tLoss: 4.645201\n",
      "Train Epoch: 8 [768000/855992 (90%)]\tLoss: 4.725444\n",
      "Train Epoch: 8 [793600/855992 (93%)]\tLoss: 4.664597\n",
      "Train Epoch: 8 [819200/855992 (96%)]\tLoss: 4.755505\n",
      "Train Epoch: 8 [844800/855992 (99%)]\tLoss: 4.719747\n"
     ]
    },
    {
     "data": {
      "application/vnd.jupyter.widget-view+json": {
       "model_id": "71e27c7be3754a4d91b0bd55d60dd709",
       "version_major": 2,
       "version_minor": 0
      },
      "text/plain": [
       "Training Epoch 9:   0%|          | 0/6688 [00:00<?, ?it/s]"
      ]
     },
     "metadata": {},
     "output_type": "display_data"
    },
    {
     "name": "stdout",
     "output_type": "stream",
     "text": [
      "Train Epoch: 9 [0/855992 (0%)]\tLoss: 4.684129\n",
      "Train Epoch: 9 [25600/855992 (3%)]\tLoss: 4.694532\n",
      "Train Epoch: 9 [51200/855992 (6%)]\tLoss: 4.782624\n",
      "Train Epoch: 9 [76800/855992 (9%)]\tLoss: 4.712178\n",
      "Train Epoch: 9 [102400/855992 (12%)]\tLoss: 4.713583\n",
      "Train Epoch: 9 [128000/855992 (15%)]\tLoss: 4.635890\n",
      "Train Epoch: 9 [153600/855992 (18%)]\tLoss: 4.646721\n",
      "Train Epoch: 9 [179200/855992 (21%)]\tLoss: 4.699159\n",
      "Train Epoch: 9 [204800/855992 (24%)]\tLoss: 4.743248\n",
      "Train Epoch: 9 [230400/855992 (27%)]\tLoss: 4.711519\n",
      "Train Epoch: 9 [256000/855992 (30%)]\tLoss: 4.720269\n",
      "Train Epoch: 9 [281600/855992 (33%)]\tLoss: 4.707355\n",
      "Train Epoch: 9 [307200/855992 (36%)]\tLoss: 4.687472\n",
      "Train Epoch: 9 [332800/855992 (39%)]\tLoss: 4.702065\n",
      "Train Epoch: 9 [358400/855992 (42%)]\tLoss: 4.716147\n",
      "Train Epoch: 9 [384000/855992 (45%)]\tLoss: 4.708540\n",
      "Train Epoch: 9 [409600/855992 (48%)]\tLoss: 4.668269\n",
      "Train Epoch: 9 [435200/855992 (51%)]\tLoss: 4.723232\n",
      "Train Epoch: 9 [460800/855992 (54%)]\tLoss: 4.668338\n",
      "Train Epoch: 9 [486400/855992 (57%)]\tLoss: 4.698187\n",
      "Train Epoch: 9 [512000/855992 (60%)]\tLoss: 4.663329\n",
      "Train Epoch: 9 [537600/855992 (63%)]\tLoss: 4.673749\n",
      "Train Epoch: 9 [563200/855992 (66%)]\tLoss: 4.747656\n",
      "Train Epoch: 9 [588800/855992 (69%)]\tLoss: 4.672396\n",
      "Train Epoch: 9 [614400/855992 (72%)]\tLoss: 4.723790\n",
      "Train Epoch: 9 [640000/855992 (75%)]\tLoss: 4.767193\n",
      "Train Epoch: 9 [665600/855992 (78%)]\tLoss: 4.689525\n",
      "Train Epoch: 9 [691200/855992 (81%)]\tLoss: 4.718583\n",
      "Train Epoch: 9 [716800/855992 (84%)]\tLoss: 4.736792\n",
      "Train Epoch: 9 [742400/855992 (87%)]\tLoss: 4.694104\n",
      "Train Epoch: 9 [768000/855992 (90%)]\tLoss: 4.757160\n",
      "Train Epoch: 9 [793600/855992 (93%)]\tLoss: 4.673555\n",
      "Train Epoch: 9 [819200/855992 (96%)]\tLoss: 4.716877\n",
      "Train Epoch: 9 [844800/855992 (99%)]\tLoss: 4.719455\n"
     ]
    },
    {
     "data": {
      "application/vnd.jupyter.widget-view+json": {
       "model_id": "a1ad696868bb4972818fd2591368b521",
       "version_major": 2,
       "version_minor": 0
      },
      "text/plain": [
       "Training Epoch 10:   0%|          | 0/6688 [00:00<?, ?it/s]"
      ]
     },
     "metadata": {},
     "output_type": "display_data"
    },
    {
     "name": "stdout",
     "output_type": "stream",
     "text": [
      "Train Epoch: 10 [0/855992 (0%)]\tLoss: 4.724474\n",
      "Train Epoch: 10 [25600/855992 (3%)]\tLoss: 4.737867\n",
      "Train Epoch: 10 [51200/855992 (6%)]\tLoss: 4.689765\n",
      "Train Epoch: 10 [76800/855992 (9%)]\tLoss: 4.777081\n",
      "Train Epoch: 10 [102400/855992 (12%)]\tLoss: 4.675215\n",
      "Train Epoch: 10 [128000/855992 (15%)]\tLoss: 4.732692\n",
      "Train Epoch: 10 [153600/855992 (18%)]\tLoss: 4.701852\n",
      "Train Epoch: 10 [179200/855992 (21%)]\tLoss: 4.724959\n",
      "Train Epoch: 10 [204800/855992 (24%)]\tLoss: 4.710461\n",
      "Train Epoch: 10 [230400/855992 (27%)]\tLoss: 4.718573\n",
      "Train Epoch: 10 [256000/855992 (30%)]\tLoss: 4.738539\n",
      "Train Epoch: 10 [281600/855992 (33%)]\tLoss: 4.651292\n",
      "Train Epoch: 10 [307200/855992 (36%)]\tLoss: 4.726159\n",
      "Train Epoch: 10 [332800/855992 (39%)]\tLoss: 4.673893\n",
      "Train Epoch: 10 [358400/855992 (42%)]\tLoss: 4.743781\n",
      "Train Epoch: 10 [384000/855992 (45%)]\tLoss: 4.716176\n",
      "Train Epoch: 10 [409600/855992 (48%)]\tLoss: 4.695560\n",
      "Train Epoch: 10 [435200/855992 (51%)]\tLoss: 4.708025\n",
      "Train Epoch: 10 [460800/855992 (54%)]\tLoss: 4.724327\n",
      "Train Epoch: 10 [486400/855992 (57%)]\tLoss: 4.697733\n",
      "Train Epoch: 10 [512000/855992 (60%)]\tLoss: 4.705248\n",
      "Train Epoch: 10 [537600/855992 (63%)]\tLoss: 4.689861\n",
      "Train Epoch: 10 [563200/855992 (66%)]\tLoss: 4.673869\n",
      "Train Epoch: 10 [588800/855992 (69%)]\tLoss: 4.674143\n",
      "Train Epoch: 10 [614400/855992 (72%)]\tLoss: 4.643977\n",
      "Train Epoch: 10 [640000/855992 (75%)]\tLoss: 4.682565\n",
      "Train Epoch: 10 [665600/855992 (78%)]\tLoss: 4.708655\n",
      "Train Epoch: 10 [691200/855992 (81%)]\tLoss: 4.746548\n",
      "Train Epoch: 10 [716800/855992 (84%)]\tLoss: 4.691908\n",
      "Train Epoch: 10 [742400/855992 (87%)]\tLoss: 4.805966\n",
      "Train Epoch: 10 [768000/855992 (90%)]\tLoss: 4.661006\n",
      "Train Epoch: 10 [793600/855992 (93%)]\tLoss: 4.759992\n",
      "Train Epoch: 10 [819200/855992 (96%)]\tLoss: 4.710656\n",
      "Train Epoch: 10 [844800/855992 (99%)]\tLoss: 4.740471\n",
      "CPU times: user 14min 31s, sys: 1.67 s, total: 14min 32s\n",
      "Wall time: 2min 26s\n"
     ]
    }
   ],
   "source": [
    "%%time\n",
    "\n",
    "train_losses = []\n",
    "train_accuracies = []\n",
    "val_losses = []\n",
    "val_accuracies = []\n",
    "\n",
    "epochs = 10\n",
    "for epoch in range(1, epochs + 1):\n",
    "    train_result = train(epoch, model, train_loader)\n",
    "    train_losses.append(train_result[\"loss\"])\n",
    "    train_accuracies.append(train_result[\"accuracy\"])"
   ]
  },
  {
   "cell_type": "code",
   "execution_count": 15,
   "metadata": {},
   "outputs": [
    {
     "data": {
      "image/png": "[encoded data removed]",
      "text/plain": [
       "<Figure size 432x288 with 1 Axes>"
      ]
     },
     "metadata": {
      "needs_background": "light"
     },
     "output_type": "display_data"
    }
   ],
   "source": [
    "plt.plot(train_losses, label='Training loss')\n",
    "plt.legend()\n",
    "plt.grid()"
   ]
  },
  {
   "cell_type": "code",
   "execution_count": 61,
   "metadata": {},
   "outputs": [
    {
     "name": "stdout",
     "output_type": "stream",
     "text": [
      "seed = \"loud Compu\"\n",
      "rent Sore Sore Sone\n",
      "\n"
     ]
    }
   ],
   "source": [
    "def make_seed(seed_phrase=\"\"):\n",
    "        if seed_phrase:\n",
    "            phrase_length = len(seed_phrase)\n",
    "            pattern = \"\"\n",
    "            for i in range (0, sequence_length):\n",
    "                pattern += seed_phrase[i % phrase_length]\n",
    "        else:\n",
    "            seed = random.randint(0, corpus_length - sequence_length)\n",
    "            pattern = corpus[seed:seed + sequence_length]\n",
    "        return pattern\n",
    "\n",
    "seed_pattern = make_seed()\n",
    "print(f\"seed = \\\"{seed_pattern}\\\"\")\n",
    "\n",
    "encoded_text = torch.tensor([encoding[char] for char in seed_pattern])\n",
    "encoded_text = F.one_hot(encoded_text, num_classes=num_chars).to(torch.float)\n",
    "encoded_text = encoded_text.unsqueeze(0)\n",
    "encoded_text = encoded_text.to(device)\n",
    "\n",
    "generated_text = \"\"\n",
    "for i in range(20):\n",
    "    output = predict(model, encoded_text).squeeze()\n",
    "\n",
    "    prediction = torch.multinomial(output, num_samples=1)\n",
    "    #prediction = output.argmax()\n",
    "\n",
    "    generated_text += decoding[int(prediction)]\n",
    "  \n",
    "    next_char_encoded = F.one_hot(prediction, num_classes=num_chars)\n",
    "    next_char_encoded = next_char_encoded.view(1, 1, num_chars)\n",
    "    encoded_text = torch.cat((encoded_text[:, 1:], next_char_encoded), dim=1)\n",
    "\n",
    "print(generated_text)"
   ]
  },
  {
   "cell_type": "markdown",
   "metadata": {},
   "source": [
    "# TODO"
   ]
  },
  {
   "cell_type": "markdown",
   "metadata": {},
   "source": [
    "## Many to many approach\n",
    "!TO DO: the `forward()` function of the `mmRNNmodel()` below needs to be updated to fit the many2many approach"
   ]
  },
  {
   "cell_type": "code",
   "execution_count": 26,
   "metadata": {},
   "outputs": [
    {
     "name": "stdout",
     "output_type": "stream",
     "text": [
      "Sliced our corpus into 1115374 sentences of length 20\n"
     ]
    }
   ],
   "source": [
    "# chop up our data into X and y, slice into roughly \n",
    "# (num_chars / skip) overlapping 'sequences' of length \n",
    "# sequence_length, and encode the chars\n",
    "sequence_length = 20\n",
    "skip = 1\n",
    "X_data = []\n",
    "y_data = []\n",
    "for i in range (0, len(corpus) - sequence_length, skip):\n",
    "    sequence = corpus[i:i + sequence_length]\n",
    "    next_char = corpus[i+1:i+1 + sequence_length]\n",
    "    X_data.append([encoding[char] for char in sequence])\n",
    "    y_data.append([encoding[char] for char in next_char])\n",
    "\n",
    "num_sequences = len(X_data)\n",
    "print(\"Sliced our corpus into {0} sequences of length {1}\"\n",
    "      .format(num_sequences, sequence_length))"
   ]
  },
  {
   "cell_type": "code",
   "execution_count": 27,
   "metadata": {},
   "outputs": [
    {
     "name": "stdout",
     "output_type": "stream",
     "text": [
      "[18, 47, 56, 57, 58, 1, 15, 47, 58, 47, 64, 43, 52, 10, 0, 14, 43, 44, 53, 56]\n"
     ]
    }
   ],
   "source": [
    "print(X_data[0])"
   ]
  },
  {
   "cell_type": "code",
   "execution_count": 28,
   "metadata": {},
   "outputs": [
    {
     "name": "stdout",
     "output_type": "stream",
     "text": [
      "['F', 'i', 'r', 's', 't', ' ', 'C', 'i', 't', 'i', 'z', 'e', 'n', ':', '\\n', 'B', 'e', 'f', 'o', 'r']\n",
      "['i', 'r', 's', 't', ' ', 'C', 'i', 't', 'i', 'z', 'e', 'n', ':', '\\n', 'B', 'e', 'f', 'o', 'r', 'e']\n"
     ]
    }
   ],
   "source": [
    "print([decoding[idx] for idx in X_data[0]])\n",
    "print([decoding[idx] for idx in y_data[0]])\n"
   ]
  },
  {
   "cell_type": "code",
   "execution_count": 29,
   "metadata": {},
   "outputs": [],
   "source": [
    "# One-hot encode the data.\n",
    "X = F.one_hot(torch.tensor(X_data), num_classes=num_chars).to(torch.float)\n",
    "y = torch.tensor(y_data)"
   ]
  },
  {
   "cell_type": "code",
   "execution_count": 30,
   "metadata": {},
   "outputs": [],
   "source": [
    "# Let's define the model\n",
    "class mmRNNModel(nn.Module):\n",
    "    def __init__(self, input_size, hidden_size, layer_size, num_classes):\n",
    "        super().__init__()\n",
    "        \n",
    "        # Defining the number of h layers and the nodes in each layer\n",
    "        self.layer_size = layer_size\n",
    "        self.hidden_size = hidden_size\n",
    "        \n",
    "        # RNN layers\n",
    "        self.rnn = nn.RNN(input_size, hidden_size, layer_size, batch_first=True)\n",
    "        # Fully connected layer\n",
    "        self.fc = nn.Linear(hidden_size, num_classes)\n",
    "        \n",
    "    # TO DO: Needs to be adapted to the many2many configuration\n",
    "    def forward(self, x):\n",
    "        out, _ = self.rnn(x)\n",
    "        out = out[:, -1]\n",
    "        out = self.fc(out)\n",
    "        \n",
    "        return out"
   ]
  },
  {
   "cell_type": "code",
   "execution_count": 31,
   "metadata": {},
   "outputs": [
    {
     "data": {
      "text/plain": [
       "==========================================================================================\n",
       "Layer (type:depth-idx)                   Output Shape              Param #\n",
       "==========================================================================================\n",
       "mmRNNModel                               --                        --\n",
       "├─RNN: 1-1                               [128, 20, 256]            82,688\n",
       "├─Linear: 1-2                            [128, 65]                 16,705\n",
       "==========================================================================================\n",
       "Total params: 99,393\n",
       "Trainable params: 99,393\n",
       "Non-trainable params: 0\n",
       "Total mult-adds (M): 213.82\n",
       "==========================================================================================\n",
       "Input size (MB): 0.67\n",
       "Forward/backward pass size (MB): 5.31\n",
       "Params size (MB): 0.40\n",
       "Estimated Total Size (MB): 6.37\n",
       "=========================================================================================="
      ]
     },
     "execution_count": 31,
     "metadata": {},
     "output_type": "execute_result"
    }
   ],
   "source": [
    "hidden_size = 256\n",
    "seq_length = 20\n",
    "num_classes = 65\n",
    "layer_size = 1\n",
    "batch_size= 128\n",
    "\n",
    "device = torch.device(\"cuda\" if torch.cuda.is_available() else \"cpu\")\n",
    "modelmm = mmRNNModel(num_classes, hidden_size, layer_size, num_classes).to(device)\n",
    "optimizer = torch.optim.Adam(model.parameters(), lr=0.001)\n",
    "criterion = nn.CrossEntropyLoss()\n",
    "\n",
    "summary(modelmm, input_size=(batch_size, seq_length, num_classes))"
   ]
  },
  {
   "cell_type": "code",
   "execution_count": 32,
   "metadata": {},
   "outputs": [],
   "source": [
    "#training time\n",
    "def train(epoch, model, data_loader, log_interval=200):\n",
    "    model.train()\n",
    "    total_train_loss = 0\n",
    "    total_correct = 0 \n",
    "    # Loop over each batch from the training set\n",
    "    for batch_idx, (data, target) in enumerate(tqdm(data_loader, desc=f\"Training Epoch {epoch}\")):\n",
    "        data = data.to(device)\n",
    "        target = target.to(device)\n",
    "        optimizer.zero_grad() \n",
    "        # Pass data through the network\n",
    "        output = model(data)\n",
    "\n",
    "        # Calculate loss\n",
    "        loss = criterion(output, target)\n",
    "        # Backpropagate. Updates the gradients buffer on each parameter\n",
    "        loss.backward()\n",
    "        # Update weights\n",
    "        optimizer.step()\n",
    "        \n",
    "        total_train_loss += loss.item()\n",
    "        \n",
    "        _, pred = torch.max(output, dim=1)\n",
    "\n",
    "        total_correct += torch.sum(pred == target).item()\n",
    "                  \n",
    "        \n",
    "        if batch_idx % log_interval == 0:\n",
    "            print('Train Epoch: {} [{}/{} ({:.0f}%)]\\tLoss: {:.6f}'.format(\n",
    "                epoch, batch_idx * len(data), len(data_loader.dataset),\n",
    "                100. * batch_idx / len(data_loader), loss.data.item()))\n",
    "    \n",
    "    accuracy_train = total_correct / len(data_loader.dataset)\n",
    "\n",
    "    \n",
    "    total_train_loss = total_train_loss / len(data_loader)\n",
    "\n",
    "    return {\n",
    "        \"loss\": total_train_loss,\n",
    "        \"accuracy\": accuracy_train,\n",
    "    }"
   ]
  },
  {
   "cell_type": "code",
   "execution_count": 33,
   "metadata": {},
   "outputs": [],
   "source": [
    "@torch.inference_mode() \n",
    "def predict(model, data):\n",
    "    # Put the model in eval mode, which disables training specific behaviour.\n",
    "    model.eval()\n",
    "    output = model(data)\n",
    "    return output"
   ]
  },
  {
   "cell_type": "code",
   "execution_count": 34,
   "metadata": {},
   "outputs": [],
   "source": [
    "# Create dataloader from X,y tensors\n",
    "datasett = TensorDataset(X, y)\n",
    "train_loader = DataLoader(datasett, batch_size=batch_size, shuffle=True)"
   ]
  },
  {
   "cell_type": "code",
   "execution_count": 35,
   "metadata": {},
   "outputs": [
    {
     "name": "stderr",
     "output_type": "stream",
     "text": [
      "UsageError: Line magic function `%%time` not found.\n"
     ]
    }
   ],
   "source": [
    "%%time\n",
    "# train the model\n",
    "\n",
    "# Keep track of stats to plot them\n",
    "train_losses = []\n",
    "train_accuracies = []\n",
    "val_losses = []\n",
    "val_accuracies = []\n",
    "\n",
    "epochs = 10\n",
    "for epoch in range(1, epochs + 1):\n",
    "    train_result = train(epoch, modelmm, train_loader)\n",
    "    train_losses.append(train_result[\"loss\"])\n",
    "    train_accuracies.append(train_result[\"accuracy\"])\n",
    "    \n",
    "\n",
    "plt.plot(train_losses, label='Training loss')\n",
    "plt.legend()\n",
    "plt.grid()"
   ]
  },
  {
   "cell_type": "code",
   "execution_count": null,
   "metadata": {},
   "outputs": [],
   "source": [
    "def make_seed(seed_phrase=\"\"):\n",
    "        if seed_phrase:  # make sure the seed has the right length\n",
    "            phrase_length = len(seed_phrase)\n",
    "            pattern = \"\"\n",
    "            for i in range (0, sequence_length):\n",
    "                pattern += seed_phrase[i % phrase_length]\n",
    "        else:            # sample randomly the seed from corpus\n",
    "            seed = random.randint(0, corpus_length - sequence_length)\n",
    "            pattern = corpus[seed:seed + sequence_length]\n",
    "        return pattern\n",
    "\n",
    "seed_pattern = make_seed(\"In the early morning, the flower is shining\")\n",
    "\n",
    "encoded_text = torch.tensor([encoding[char] for char in seed_pattern])\n",
    "encoded_text = F.one_hot(encoded_text, num_classes=num_chars).to(torch.float)\n",
    "# Add a single batch dimension at the beginning\n",
    "encoded_text = encoded_text.unsqueeze(0)\n",
    "encoded_text = encoded_text.to(device)\n",
    "\n",
    "generated_text = \"\"\n",
    "for i in range(500):\n",
    "    output = predict(modelmm, encoded_text)[0]\n",
    "    # Convert the output to probabilities\n",
    "    probs = torch.softmax(output, dim=-1)\n",
    "    # Randomly choose from a multinomial distribution with the output probabilities\n",
    "    # make the generation more diverse.\n",
    "    prediction = torch.multinomial(probs, num_samples=1)\n",
    "    generated_text += decoding[int(prediction)]\n",
    "    \n",
    "    # One hot encode the new (predicted) character\n",
    "    next_char_encoded = F.one_hot(prediction, num_classes=num_chars)\n",
    "    # Make sure it has a singular batch and seq_len dimension in order to concatenate them.\n",
    "    next_char_encoded = next_char_encoded.view(1, 1, num_chars)\n",
    "    # Remove first char and glue the predicted one to the end\n",
    "    encoded_text = torch.cat((encoded_text[:, 1:], next_char_encoded), dim=1)\n",
    "print(generated_text)"
   ]
  }
 ],
 "metadata": {
  "kernelspec": {
   "display_name": "Python 3 (ipykernel)",
   "language": "python",
   "name": "python3"
  },
  "language_info": {
   "codemirror_mode": {
    "name": "ipython",
    "version": 3
   },
   "file_extension": ".py",
   "mimetype": "text/x-python",
   "name": "python",
   "nbconvert_exporter": "python",
   "pygments_lexer": "ipython3",
   "version": "3.10.4"
  }
 },
 "nbformat": 4,
 "nbformat_minor": 4
}

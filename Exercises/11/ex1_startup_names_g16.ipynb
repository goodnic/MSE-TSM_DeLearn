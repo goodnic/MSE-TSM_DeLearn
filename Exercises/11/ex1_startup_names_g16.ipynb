{
 "cells": [
  {
   "cell_type": "markdown",
   "metadata": {
    "id": "-207wqx7KS4E"
   },
   "source": [
    "**g16**\n",
    "- anderdav@students.zhaw.ch\n",
    "- goodnic1@students.zhaw.ch\n",
    "- janick.rueegger@students.fhnw.ch\n",
    "- neyerjoh@students.zhaw.ch"
   ]
  },
  {
   "cell_type": "code",
   "execution_count": 1,
   "metadata": {},
   "outputs": [],
   "source": [
    "import numpy as np\n",
    "import random\n",
    "import matplotlib.pyplot as plt\n",
    "import torch\n",
    "import torch.nn.functional as F\n",
    "from torch import nn\n",
    "from torchinfo import summary\n",
    "from torch.utils.data import DataLoader, TensorDataset\n",
    "from tqdm.notebook import tqdm"
   ]
  },
  {
   "cell_type": "code",
   "execution_count": 2,
   "metadata": {},
   "outputs": [
    {
     "name": "stdout",
     "output_type": "stream",
     "text": [
      "Loaded a corpus of 2395500 characters\n"
     ]
    }
   ],
   "source": [
    "with open(\"companies.csv\") as corpus_file:\n",
    "    corpus = corpus_file.read().replace(\"\\n\", \"\")\n",
    "    corpus_length = len(corpus)\n",
    "    \n",
    "print(f\"Loaded a corpus of {corpus_length} characters\")"
   ]
  },
  {
   "cell_type": "code",
   "execution_count": 3,
   "metadata": {},
   "outputs": [
    {
     "name": "stdout",
     "output_type": "stream",
     "text": [
      "Our corpus contains 149 unique characters.\n"
     ]
    }
   ],
   "source": [
    "chars = sorted(list(set(corpus)))\n",
    "num_chars = len(chars)\n",
    "encoding = {c: i for i, c in enumerate(chars)}\n",
    "decoding = {i: c for i, c in enumerate(chars)}\n",
    "print(\"Our corpus contains {0} unique characters.\".format(num_chars))"
   ]
  },
  {
   "cell_type": "code",
   "execution_count": 4,
   "metadata": {},
   "outputs": [
    {
     "name": "stdout",
     "output_type": "stream",
     "text": [
      "{' ': 0, '!': 1, '\"': 2, '#': 3, '$': 4, '%': 5, '&': 6, \"'\": 7, '(': 8, ')': 9, '*': 10, '+': 11, ',': 12, '-': 13, '.': 14, '/': 15, '0': 16, '1': 17, '2': 18, '3': 19, '4': 20, '5': 21, '6': 22, '7': 23, '8': 24, '9': 25, ':': 26, '=': 27, '>': 28, '?': 29, '@': 30, 'A': 31, 'B': 32, 'C': 33, 'D': 34, 'E': 35, 'F': 36, 'G': 37, 'H': 38, 'I': 39, 'J': 40, 'K': 41, 'L': 42, 'M': 43, 'N': 44, 'O': 45, 'P': 46, 'Q': 47, 'R': 48, 'S': 49, 'T': 50, 'U': 51, 'V': 52, 'W': 53, 'X': 54, 'Y': 55, 'Z': 56, '[': 57, '\\\\': 58, ']': 59, '^': 60, '_': 61, 'a': 62, 'b': 63, 'c': 64, 'd': 65, 'e': 66, 'f': 67, 'g': 68, 'h': 69, 'i': 70, 'j': 71, 'k': 72, 'l': 73, 'm': 74, 'n': 75, 'o': 76, 'p': 77, 'q': 78, 'r': 79, 's': 80, 't': 81, 'u': 82, 'v': 83, 'w': 84, 'x': 85, 'y': 86, 'z': 87, '{': 88, '|': 89, '}': 90, '~': 91, '\\x81': 92, '\\x82': 93, '\\x83': 94, '\\x84': 95, '\\x85': 96, '\\x86': 97, '\\x87': 98, '\\x88': 99, '\\x89': 100, '\\x8a': 101, '\\x8b': 102, '\\x8c': 103, '\\x8d': 104, '\\x8e': 105, '\\x8f': 106, '\\x90': 107, '\\x91': 108, '\\x92': 109, '\\x93': 110, '\\x94': 111, '\\x95': 112, '\\x96': 113, '\\x97': 114, '\\x98': 115, '\\x99': 116, '\\x9a': 117, '\\x9b': 118, '\\x9c': 119, '\\x9f': 120, '¡': 121, '¥': 122, '§': 123, '¨': 124, '©': 125, 'ª': 126, '«': 127, '¯': 128, 'µ': 129, '¾': 130, '¿': 131, 'Ê': 132, 'Ë': 133, 'Ì': 134, 'Ï': 135, 'Ð': 136, 'Ñ': 137, 'Ô': 138, 'Õ': 139, 'ç': 140, 'è': 141, 'ê': 142, 'ì': 143, 'î': 144, 'ï': 145, 'ò': 146, 'õ': 147, 'û': 148}\n",
      "{0: ' ', 1: '!', 2: '\"', 3: '#', 4: '$', 5: '%', 6: '&', 7: \"'\", 8: '(', 9: ')', 10: '*', 11: '+', 12: ',', 13: '-', 14: '.', 15: '/', 16: '0', 17: '1', 18: '2', 19: '3', 20: '4', 21: '5', 22: '6', 23: '7', 24: '8', 25: '9', 26: ':', 27: '=', 28: '>', 29: '?', 30: '@', 31: 'A', 32: 'B', 33: 'C', 34: 'D', 35: 'E', 36: 'F', 37: 'G', 38: 'H', 39: 'I', 40: 'J', 41: 'K', 42: 'L', 43: 'M', 44: 'N', 45: 'O', 46: 'P', 47: 'Q', 48: 'R', 49: 'S', 50: 'T', 51: 'U', 52: 'V', 53: 'W', 54: 'X', 55: 'Y', 56: 'Z', 57: '[', 58: '\\\\', 59: ']', 60: '^', 61: '_', 62: 'a', 63: 'b', 64: 'c', 65: 'd', 66: 'e', 67: 'f', 68: 'g', 69: 'h', 70: 'i', 71: 'j', 72: 'k', 73: 'l', 74: 'm', 75: 'n', 76: 'o', 77: 'p', 78: 'q', 79: 'r', 80: 's', 81: 't', 82: 'u', 83: 'v', 84: 'w', 85: 'x', 86: 'y', 87: 'z', 88: '{', 89: '|', 90: '}', 91: '~', 92: '\\x81', 93: '\\x82', 94: '\\x83', 95: '\\x84', 96: '\\x85', 97: '\\x86', 98: '\\x87', 99: '\\x88', 100: '\\x89', 101: '\\x8a', 102: '\\x8b', 103: '\\x8c', 104: '\\x8d', 105: '\\x8e', 106: '\\x8f', 107: '\\x90', 108: '\\x91', 109: '\\x92', 110: '\\x93', 111: '\\x94', 112: '\\x95', 113: '\\x96', 114: '\\x97', 115: '\\x98', 116: '\\x99', 117: '\\x9a', 118: '\\x9b', 119: '\\x9c', 120: '\\x9f', 121: '¡', 122: '¥', 123: '§', 124: '¨', 125: '©', 126: 'ª', 127: '«', 128: '¯', 129: 'µ', 130: '¾', 131: '¿', 132: 'Ê', 133: 'Ë', 134: 'Ì', 135: 'Ï', 136: 'Ð', 137: 'Ñ', 138: 'Ô', 139: 'Õ', 140: 'ç', 141: 'è', 142: 'ê', 143: 'ì', 144: 'î', 145: 'ï', 146: 'ò', 147: 'õ', 148: 'û'}\n"
     ]
    }
   ],
   "source": [
    "print(encoding)\n",
    "print(decoding)"
   ]
  },
  {
   "cell_type": "code",
   "execution_count": 5,
   "metadata": {},
   "outputs": [],
   "source": [
    "sequence_length = 10\n",
    "#skip = 6\n",
    "skip = 3\n",
    "\n",
    "def encode_corpus(mm=False):\n",
    "    X_data = []\n",
    "    y_data = []\n",
    "    for i in range (0, len(corpus) - sequence_length, skip):\n",
    "        sequence = corpus[i:i+sequence_length]\n",
    "        X_data.append([encoding[char] for char in sequence])\n",
    "        if mm:\n",
    "            next_char = corpus[i+1:i+sequence_length+1]\n",
    "            y_data.append([encoding[char] for char in next_char])\n",
    "        else:\n",
    "            next_char = corpus[i+sequence_length]\n",
    "            y_data.append(encoding[next_char])\n",
    "\n",
    "    num_sequences = len(X_data)\n",
    "    print(f\"Sliced our corpus into {num_sequences} sequences of length {sequence_length}\")\n",
    "    \n",
    "    print(X_data[0])\n",
    "    print([decoding[c] for c in X_data[0]])\n",
    "    if mm:\n",
    "        print([decoding[idx] for idx in y_data[0]])\n",
    "    else:\n",
    "        print(decoding[y_data[0]])\n",
    "    \n",
    "    X = F.one_hot(torch.tensor(X_data), num_classes=num_chars).to(torch.float)\n",
    "    y = torch.tensor(y_data)\n",
    "\n",
    "    print(f\"# sequences: {num_sequences}\")\n",
    "    print(f\"Characters in corpus: {len(chars)}\")\n",
    "    print(f\"sequence length: {sequence_length}\")\n",
    "    print(f\"Sanity check y. Dimension: {y.shape}\")\n",
    "    print(f\"Sanity check X. Dimension: {X.shape}\")\n",
    "    \n",
    "    return X, y"
   ]
  },
  {
   "cell_type": "code",
   "execution_count": 6,
   "metadata": {},
   "outputs": [],
   "source": [
    "def train(epoch, model, data_loader, criterion, mm=False, log_interval=2000):\n",
    "    model.train()\n",
    "    total_train_loss = 0\n",
    "    total_correct = 0 \n",
    "\n",
    "    for batch_idx, (data, target) in enumerate(tqdm(data_loader, desc=f\"Training Epoch {epoch}\")):\n",
    "        data = data.to(device)\n",
    "        target = target.to(device)\n",
    "        optimizer.zero_grad() \n",
    "\n",
    "        output = model(data)\n",
    "\n",
    "        if mm:\n",
    "            output = output.transpose(1, 2) \n",
    "        \n",
    "        loss = criterion(output, target)\n",
    "        loss.backward()\n",
    "        optimizer.step()\n",
    "        \n",
    "        total_train_loss += loss.item()\n",
    "        \n",
    "        _, pred = torch.max(output, dim=1)\n",
    "\n",
    "        total_correct += torch.sum(pred == target).item()\n",
    "\n",
    "        if batch_idx % log_interval == 0:\n",
    "            print('Train Epoch: {} [{}/{} ({:.0f}%)]\\tLoss: {:.6f}'.format(\n",
    "                epoch, batch_idx * len(data), len(data_loader.dataset),\n",
    "                100. * batch_idx / len(data_loader), loss.data.item()))\n",
    "    \n",
    "    accuracy_train = total_correct / len(data_loader.dataset)\n",
    "    \n",
    "    total_train_loss = total_train_loss / len(data_loader)\n",
    "\n",
    "    return {\n",
    "        \"loss\": total_train_loss,\n",
    "        \"accuracy\": accuracy_train,\n",
    "    }"
   ]
  },
  {
   "cell_type": "code",
   "execution_count": 7,
   "metadata": {
    "tags": []
   },
   "outputs": [],
   "source": [
    "def make_seed(seed_phrase=\"\"):\n",
    "        if seed_phrase:\n",
    "            phrase_length = len(seed_phrase)\n",
    "            pattern = \"\"\n",
    "            for i in range (0, sequence_length):\n",
    "                pattern += seed_phrase[i % phrase_length]\n",
    "        else:\n",
    "            seed = random.randint(0, corpus_length - sequence_length)\n",
    "            pattern = corpus[seed:seed + sequence_length]\n",
    "        return pattern\n",
    "\n",
    "def generate_text(model, mm=False, seed_phrase=\"\", length=20):\n",
    "    seed_pattern = make_seed(seed_phrase)\n",
    "    print(f\"seed = {seed_pattern}\")\n",
    "\n",
    "    encoded_text = torch.tensor([encoding[char] for char in seed_pattern])\n",
    "    encoded_text = F.one_hot(encoded_text, num_classes=num_chars).to(torch.float)\n",
    "    encoded_text = encoded_text.unsqueeze(0)\n",
    "    encoded_text = encoded_text.to(device)\n",
    "\n",
    "    generated_text = \"\"\n",
    "    for i in range(length):        \n",
    "        output = predict(model, encoded_text).squeeze()\n",
    "        \n",
    "        if mm:\n",
    "            output = output[-1]\n",
    "\n",
    "        probs = torch.softmax(output, dim=-1)\n",
    "        prediction = torch.multinomial(probs, num_samples=1)\n",
    "        generated_text += decoding[int(prediction)]\n",
    "\n",
    "        next_char_encoded = F.one_hot(prediction, num_classes=num_chars)\n",
    "        next_char_encoded = next_char_encoded.view(1, 1, num_chars)\n",
    "        encoded_text = torch.cat((encoded_text[:, 1:], next_char_encoded), dim=1)\n",
    "\n",
    "    print(generated_text)"
   ]
  },
  {
   "cell_type": "code",
   "execution_count": 8,
   "metadata": {
    "tags": []
   },
   "outputs": [],
   "source": [
    "@torch.inference_mode() \n",
    "def predict(model, data):\n",
    "    model.eval()\n",
    "    output = model(data)\n",
    "    return output"
   ]
  },
  {
   "cell_type": "code",
   "execution_count": 9,
   "metadata": {},
   "outputs": [],
   "source": [
    "device = torch.device(\"cuda\" if torch.cuda.is_available() else \"cpu\")"
   ]
  },
  {
   "cell_type": "code",
   "execution_count": 10,
   "metadata": {
    "tags": []
   },
   "outputs": [],
   "source": [
    "batch_size = 128\n",
    "num_classes = num_chars"
   ]
  },
  {
   "cell_type": "code",
   "execution_count": 11,
   "metadata": {},
   "outputs": [],
   "source": [
    "layer_size = 1\n",
    "hidden_size = 64\n",
    "epochs = 10"
   ]
  },
  {
   "cell_type": "markdown",
   "metadata": {},
   "source": [
    "## Many to One  approach"
   ]
  },
  {
   "cell_type": "code",
   "execution_count": 12,
   "metadata": {
    "tags": []
   },
   "outputs": [
    {
     "name": "stdout",
     "output_type": "stream",
     "text": [
      "Sliced our corpus into 798497 sequences of length 10\n",
      "[38, 62, 80, 69, 77, 73, 62, 86, 0, 39]\n",
      "['H', 'a', 's', 'h', 'p', 'l', 'a', 'y', ' ', 'I']\n",
      "n\n",
      "# sequences: 798497\n",
      "Characters in corpus: 149\n",
      "sequence length: 10\n",
      "Sanity check y. Dimension: torch.Size([798497])\n",
      "Sanity check X. Dimension: torch.Size([798497, 10, 149])\n"
     ]
    }
   ],
   "source": [
    "X, y = encode_corpus()\n",
    "dataset = TensorDataset(X, y)\n",
    "train_loader = DataLoader(dataset, batch_size=batch_size, shuffle=True)"
   ]
  },
  {
   "cell_type": "code",
   "execution_count": 13,
   "metadata": {
    "tags": []
   },
   "outputs": [],
   "source": [
    "class RNNModel(nn.Module):\n",
    "    def __init__(self, input_size, hidden_size, layer_size, num_classes):\n",
    "        super().__init__()\n",
    "        self.rnn = nn.RNN(input_size, hidden_size, layer_size, batch_first=True)\n",
    "        self.fc = nn.Linear(hidden_size, num_classes)\n",
    "        \n",
    "    def forward(self, x):\n",
    "        out, _ = self.rnn(x)\n",
    "        out = out[:, -1]\n",
    "        out = self.fc(out)\n",
    "        return out"
   ]
  },
  {
   "cell_type": "code",
   "execution_count": 14,
   "metadata": {
    "tags": []
   },
   "outputs": [
    {
     "data": {
      "text/plain": [
       "==========================================================================================\n",
       "Layer (type:depth-idx)                   Output Shape              Param #\n",
       "==========================================================================================\n",
       "RNNModel                                 --                        --\n",
       "├─RNN: 1-1                               [128, 10, 64]             13,760\n",
       "├─Linear: 1-2                            [128, 149]                9,685\n",
       "==========================================================================================\n",
       "Total params: 23,445\n",
       "Trainable params: 23,445\n",
       "Non-trainable params: 0\n",
       "Total mult-adds (M): 18.85\n",
       "==========================================================================================\n",
       "Input size (MB): 0.76\n",
       "Forward/backward pass size (MB): 0.81\n",
       "Params size (MB): 0.09\n",
       "Estimated Total Size (MB): 1.66\n",
       "=========================================================================================="
      ]
     },
     "execution_count": 14,
     "metadata": {},
     "output_type": "execute_result"
    }
   ],
   "source": [
    "model = RNNModel(num_classes, hidden_size, layer_size, num_classes).to(device)\n",
    "\n",
    "optimizer = torch.optim.Adam(model.parameters(), lr=0.001)\n",
    "criterion = nn.CrossEntropyLoss()\n",
    "\n",
    "summary(model, input_size=(batch_size, sequence_length, num_classes))"
   ]
  },
  {
   "cell_type": "code",
   "execution_count": 15,
   "metadata": {
    "tags": []
   },
   "outputs": [
    {
     "data": {
      "text/plain": [
       "RNNModel(\n",
       "  (rnn): RNN(149, 64, batch_first=True)\n",
       "  (fc): Linear(in_features=64, out_features=149, bias=True)\n",
       ")"
      ]
     },
     "execution_count": 15,
     "metadata": {},
     "output_type": "execute_result"
    }
   ],
   "source": [
    "model"
   ]
  },
  {
   "cell_type": "code",
   "execution_count": 16,
   "metadata": {
    "tags": []
   },
   "outputs": [
    {
     "data": {
      "application/vnd.jupyter.widget-view+json": {
       "model_id": "ba0d71506025479998eff890da37710d",
       "version_major": 2,
       "version_minor": 0
      },
      "text/plain": [
       "Training Epoch 1:   0%|          | 0/6239 [00:00<?, ?it/s]"
      ]
     },
     "metadata": {},
     "output_type": "display_data"
    },
    {
     "name": "stdout",
     "output_type": "stream",
     "text": [
      "Train Epoch: 1 [0/798497 (0%)]\tLoss: 5.025196\n",
      "Train Epoch: 1 [256000/798497 (32%)]\tLoss: 2.661633\n",
      "Train Epoch: 1 [512000/798497 (64%)]\tLoss: 2.595524\n",
      "Train Epoch: 1 [768000/798497 (96%)]\tLoss: 2.603678\n"
     ]
    },
    {
     "data": {
      "application/vnd.jupyter.widget-view+json": {
       "model_id": "c35d011a67b24f7082b46225da12b430",
       "version_major": 2,
       "version_minor": 0
      },
      "text/plain": [
       "Training Epoch 2:   0%|          | 0/6239 [00:00<?, ?it/s]"
      ]
     },
     "metadata": {},
     "output_type": "display_data"
    },
    {
     "name": "stdout",
     "output_type": "stream",
     "text": [
      "Train Epoch: 2 [0/798497 (0%)]\tLoss: 2.506309\n",
      "Train Epoch: 2 [256000/798497 (32%)]\tLoss: 2.463049\n",
      "Train Epoch: 2 [512000/798497 (64%)]\tLoss: 2.439331\n",
      "Train Epoch: 2 [768000/798497 (96%)]\tLoss: 2.478030\n"
     ]
    },
    {
     "data": {
      "application/vnd.jupyter.widget-view+json": {
       "model_id": "a7fc8aa576f149418ce649f502abb71c",
       "version_major": 2,
       "version_minor": 0
      },
      "text/plain": [
       "Training Epoch 3:   0%|          | 0/6239 [00:00<?, ?it/s]"
      ]
     },
     "metadata": {},
     "output_type": "display_data"
    },
    {
     "name": "stdout",
     "output_type": "stream",
     "text": [
      "Train Epoch: 3 [0/798497 (0%)]\tLoss: 2.520513\n",
      "Train Epoch: 3 [256000/798497 (32%)]\tLoss: 2.612039\n",
      "Train Epoch: 3 [512000/798497 (64%)]\tLoss: 2.412429\n",
      "Train Epoch: 3 [768000/798497 (96%)]\tLoss: 1.946478\n"
     ]
    },
    {
     "data": {
      "application/vnd.jupyter.widget-view+json": {
       "model_id": "e2d4da9231ce440e90a81954db9de3e1",
       "version_major": 2,
       "version_minor": 0
      },
      "text/plain": [
       "Training Epoch 4:   0%|          | 0/6239 [00:00<?, ?it/s]"
      ]
     },
     "metadata": {},
     "output_type": "display_data"
    },
    {
     "name": "stdout",
     "output_type": "stream",
     "text": [
      "Train Epoch: 4 [0/798497 (0%)]\tLoss: 2.239796\n",
      "Train Epoch: 4 [256000/798497 (32%)]\tLoss: 2.090056\n",
      "Train Epoch: 4 [512000/798497 (64%)]\tLoss: 2.478755\n",
      "Train Epoch: 4 [768000/798497 (96%)]\tLoss: 2.209380\n"
     ]
    },
    {
     "data": {
      "application/vnd.jupyter.widget-view+json": {
       "model_id": "e5b40aeeb9064d83aa028c15f3f0122c",
       "version_major": 2,
       "version_minor": 0
      },
      "text/plain": [
       "Training Epoch 5:   0%|          | 0/6239 [00:00<?, ?it/s]"
      ]
     },
     "metadata": {},
     "output_type": "display_data"
    },
    {
     "name": "stdout",
     "output_type": "stream",
     "text": [
      "Train Epoch: 5 [0/798497 (0%)]\tLoss: 2.471653\n",
      "Train Epoch: 5 [256000/798497 (32%)]\tLoss: 2.350351\n",
      "Train Epoch: 5 [512000/798497 (64%)]\tLoss: 2.186775\n",
      "Train Epoch: 5 [768000/798497 (96%)]\tLoss: 2.484632\n"
     ]
    },
    {
     "data": {
      "application/vnd.jupyter.widget-view+json": {
       "model_id": "06431be8af7546e39627ae0a79c01c22",
       "version_major": 2,
       "version_minor": 0
      },
      "text/plain": [
       "Training Epoch 6:   0%|          | 0/6239 [00:00<?, ?it/s]"
      ]
     },
     "metadata": {},
     "output_type": "display_data"
    },
    {
     "name": "stdout",
     "output_type": "stream",
     "text": [
      "Train Epoch: 6 [0/798497 (0%)]\tLoss: 2.301552\n",
      "Train Epoch: 6 [256000/798497 (32%)]\tLoss: 2.120352\n",
      "Train Epoch: 6 [512000/798497 (64%)]\tLoss: 2.627101\n",
      "Train Epoch: 6 [768000/798497 (96%)]\tLoss: 2.564474\n"
     ]
    },
    {
     "data": {
      "application/vnd.jupyter.widget-view+json": {
       "model_id": "3968559a6248458f94712689a3f77d6f",
       "version_major": 2,
       "version_minor": 0
      },
      "text/plain": [
       "Training Epoch 7:   0%|          | 0/6239 [00:00<?, ?it/s]"
      ]
     },
     "metadata": {},
     "output_type": "display_data"
    },
    {
     "name": "stdout",
     "output_type": "stream",
     "text": [
      "Train Epoch: 7 [0/798497 (0%)]\tLoss: 2.118208\n",
      "Train Epoch: 7 [256000/798497 (32%)]\tLoss: 2.295676\n",
      "Train Epoch: 7 [512000/798497 (64%)]\tLoss: 2.329563\n",
      "Train Epoch: 7 [768000/798497 (96%)]\tLoss: 2.212686\n"
     ]
    },
    {
     "data": {
      "application/vnd.jupyter.widget-view+json": {
       "model_id": "8e51042fad1245deb7a587fb3acd49c7",
       "version_major": 2,
       "version_minor": 0
      },
      "text/plain": [
       "Training Epoch 8:   0%|          | 0/6239 [00:00<?, ?it/s]"
      ]
     },
     "metadata": {},
     "output_type": "display_data"
    },
    {
     "name": "stdout",
     "output_type": "stream",
     "text": [
      "Train Epoch: 8 [0/798497 (0%)]\tLoss: 2.113772\n",
      "Train Epoch: 8 [256000/798497 (32%)]\tLoss: 2.162413\n",
      "Train Epoch: 8 [512000/798497 (64%)]\tLoss: 2.178134\n",
      "Train Epoch: 8 [768000/798497 (96%)]\tLoss: 2.376977\n"
     ]
    },
    {
     "data": {
      "application/vnd.jupyter.widget-view+json": {
       "model_id": "43d409023c2f4b38bb8496083b0df822",
       "version_major": 2,
       "version_minor": 0
      },
      "text/plain": [
       "Training Epoch 9:   0%|          | 0/6239 [00:00<?, ?it/s]"
      ]
     },
     "metadata": {},
     "output_type": "display_data"
    },
    {
     "name": "stdout",
     "output_type": "stream",
     "text": [
      "Train Epoch: 9 [0/798497 (0%)]\tLoss: 2.330796\n",
      "Train Epoch: 9 [256000/798497 (32%)]\tLoss: 2.191081\n",
      "Train Epoch: 9 [512000/798497 (64%)]\tLoss: 2.392605\n",
      "Train Epoch: 9 [768000/798497 (96%)]\tLoss: 1.982239\n"
     ]
    },
    {
     "data": {
      "application/vnd.jupyter.widget-view+json": {
       "model_id": "b5d45f63102e492ba73dd472fcb3775d",
       "version_major": 2,
       "version_minor": 0
      },
      "text/plain": [
       "Training Epoch 10:   0%|          | 0/6239 [00:00<?, ?it/s]"
      ]
     },
     "metadata": {},
     "output_type": "display_data"
    },
    {
     "name": "stdout",
     "output_type": "stream",
     "text": [
      "Train Epoch: 10 [0/798497 (0%)]\tLoss: 2.222318\n",
      "Train Epoch: 10 [256000/798497 (32%)]\tLoss: 2.191767\n",
      "Train Epoch: 10 [512000/798497 (64%)]\tLoss: 2.270031\n",
      "Train Epoch: 10 [768000/798497 (96%)]\tLoss: 2.116846\n",
      "CPU times: user 12min 50s, sys: 1.44 s, total: 12min 52s\n",
      "Wall time: 2min 9s\n"
     ]
    }
   ],
   "source": [
    "%%time\n",
    "\n",
    "train_losses = []\n",
    "train_accuracies = []\n",
    "\n",
    "for epoch in range(1, epochs + 1):\n",
    "    train_result = train(epoch, model, train_loader, criterion)\n",
    "    train_losses.append(train_result[\"loss\"])\n",
    "    train_accuracies.append(train_result[\"accuracy\"])"
   ]
  },
  {
   "cell_type": "code",
   "execution_count": 17,
   "metadata": {
    "tags": []
   },
   "outputs": [
    {
     "data": {
      "text/plain": [
       "<matplotlib.legend.Legend at 0x7f38b8bf78e0>"
      ]
     },
     "execution_count": 17,
     "metadata": {},
     "output_type": "execute_result"
    },
    {
     "data": {
      "image/png": "[encoded data removed]",
      "text/plain": [
       "<Figure size 432x288 with 1 Axes>"
      ]
     },
     "metadata": {
      "needs_background": "light"
     },
     "output_type": "display_data"
    }
   ],
   "source": [
    "plt.plot(train_losses, label=\"training loss\")\n",
    "plt.legend()"
   ]
  },
  {
   "cell_type": "code",
   "execution_count": 36,
   "metadata": {
    "tags": []
   },
   "outputs": [
    {
     "name": "stdout",
     "output_type": "stream",
     "text": [
      "seed =  EyesRetai\n",
      "lines Carmicolion CorperaticsDeckepCapec Ra, LLC\"Moxha ThiteSivancedeRonan BlowGefis VICERAGFiRPharesEyporans AASPoyTecExhoroPorityPharkCollon G. Instraching PussnosConterUPOneeHaxesth TechnologyVistria Energy ReseamoksPmhida SolationPhteze TheriaMediesFashor SoftwareSprassoreWeb (EugonnPoindCill CaneCarindCam- AficsQlikingy InforationsSafoWelyIurxPient Lominel ConsurtadersContStuluwnonDal PanorectsRevandent PharmaceuticalsSolve GrodJ GanfingDaGime.comOnRextropeetEquary, Inc.\"Sate CorparitechProDack Medial Resown c.ilinionLaidInsite.ficing CorpheretionFrovereGokibrel OVOFEnshern PharmantsWoinl GroupPharpGardfor Systomy Communitics Health CoBiescysers, Inc.\"vi Pharmiging Medical Systems Purtochime Mofice - TxGGIFTwhothew Intedrationonieflty FatingGingisWipoplascStultingNovaid4FourHoutd HoldingsOlfanTacchouketa DatagoniVenambeatiNernuifor Search TreationalIIStrivbrage LRafity Eass Interactagnor PharmpriceDittelZFynaraCape MonicationCodlol GombFarm My Dation Alaj Broondfillt ProportsFluUt\n"
     ]
    }
   ],
   "source": [
    "generate_text(model, length=1000)"
   ]
  },
  {
   "cell_type": "markdown",
   "metadata": {
    "tags": []
   },
   "source": [
    "## Many to many approach"
   ]
  },
  {
   "cell_type": "code",
   "execution_count": 19,
   "metadata": {
    "tags": []
   },
   "outputs": [
    {
     "name": "stdout",
     "output_type": "stream",
     "text": [
      "Sliced our corpus into 798497 sequences of length 10\n",
      "[38, 62, 80, 69, 77, 73, 62, 86, 0, 39]\n",
      "['H', 'a', 's', 'h', 'p', 'l', 'a', 'y', ' ', 'I']\n",
      "['a', 's', 'h', 'p', 'l', 'a', 'y', ' ', 'I', 'n']\n",
      "# sequences: 798497\n",
      "Characters in corpus: 149\n",
      "sequence length: 10\n",
      "Sanity check y. Dimension: torch.Size([798497, 10])\n",
      "Sanity check X. Dimension: torch.Size([798497, 10, 149])\n"
     ]
    }
   ],
   "source": [
    "X, y = encode_corpus(mm=True)\n",
    "dataset = TensorDataset(X, y)\n",
    "train_loader = DataLoader(dataset, batch_size=batch_size, shuffle=True)"
   ]
  },
  {
   "cell_type": "code",
   "execution_count": 20,
   "metadata": {},
   "outputs": [],
   "source": [
    "class mmRNNModel(nn.Module):\n",
    "    def __init__(self, input_size, hidden_size, layer_size, num_classes):\n",
    "        super().__init__()\n",
    "        self.rnn = nn.RNN(input_size, hidden_size, layer_size, batch_first=True)\n",
    "        self.fc = nn.Linear(hidden_size, num_classes)\n",
    "        \n",
    "    def forward(self, x):\n",
    "        out, _ = self.rnn(x)\n",
    "\n",
    "        # Don't include hidden state when not training\n",
    "        if not self.train:\n",
    "            out = out[:, -1]\n",
    "\n",
    "        out = self.fc(out)\n",
    "        return out"
   ]
  },
  {
   "cell_type": "code",
   "execution_count": 21,
   "metadata": {
    "tags": []
   },
   "outputs": [
    {
     "data": {
      "text/plain": [
       "==========================================================================================\n",
       "Layer (type:depth-idx)                   Output Shape              Param #\n",
       "==========================================================================================\n",
       "mmRNNModel                               --                        --\n",
       "├─RNN: 1-1                               [128, 10, 64]             13,760\n",
       "├─Linear: 1-2                            [128, 10, 149]            9,685\n",
       "==========================================================================================\n",
       "Total params: 23,445\n",
       "Trainable params: 23,445\n",
       "Non-trainable params: 0\n",
       "Total mult-adds (M): 18.85\n",
       "==========================================================================================\n",
       "Input size (MB): 0.76\n",
       "Forward/backward pass size (MB): 2.18\n",
       "Params size (MB): 0.09\n",
       "Estimated Total Size (MB): 3.04\n",
       "=========================================================================================="
      ]
     },
     "execution_count": 21,
     "metadata": {},
     "output_type": "execute_result"
    }
   ],
   "source": [
    "modelmm = mmRNNModel(num_classes, hidden_size, layer_size, num_classes).to(device)\n",
    "\n",
    "optimizer = torch.optim.Adam(modelmm.parameters(), lr=0.001)\n",
    "criterion = nn.CrossEntropyLoss()\n",
    "\n",
    "summary(modelmm, input_size=(batch_size, sequence_length, num_classes))"
   ]
  },
  {
   "cell_type": "code",
   "execution_count": 22,
   "metadata": {
    "tags": []
   },
   "outputs": [
    {
     "data": {
      "text/plain": [
       "mmRNNModel(\n",
       "  (rnn): RNN(149, 64, batch_first=True)\n",
       "  (fc): Linear(in_features=64, out_features=149, bias=True)\n",
       ")"
      ]
     },
     "execution_count": 22,
     "metadata": {},
     "output_type": "execute_result"
    }
   ],
   "source": [
    "modelmm"
   ]
  },
  {
   "cell_type": "code",
   "execution_count": 23,
   "metadata": {
    "tags": []
   },
   "outputs": [
    {
     "data": {
      "application/vnd.jupyter.widget-view+json": {
       "model_id": "d99f5f97179f471fa8dbd3db6f18f53f",
       "version_major": 2,
       "version_minor": 0
      },
      "text/plain": [
       "Training Epoch 1:   0%|          | 0/6239 [00:00<?, ?it/s]"
      ]
     },
     "metadata": {},
     "output_type": "display_data"
    },
    {
     "name": "stdout",
     "output_type": "stream",
     "text": [
      "Train Epoch: 1 [0/798497 (0%)]\tLoss: 4.980816\n",
      "Train Epoch: 1 [256000/798497 (32%)]\tLoss: 2.643917\n",
      "Train Epoch: 1 [512000/798497 (64%)]\tLoss: 2.566518\n",
      "Train Epoch: 1 [768000/798497 (96%)]\tLoss: 2.475399\n"
     ]
    },
    {
     "data": {
      "application/vnd.jupyter.widget-view+json": {
       "model_id": "b8b3e8c9588542fe9a35c8e81b64a72d",
       "version_major": 2,
       "version_minor": 0
      },
      "text/plain": [
       "Training Epoch 2:   0%|          | 0/6239 [00:00<?, ?it/s]"
      ]
     },
     "metadata": {},
     "output_type": "display_data"
    },
    {
     "name": "stdout",
     "output_type": "stream",
     "text": [
      "Train Epoch: 2 [0/798497 (0%)]\tLoss: 2.489285\n",
      "Train Epoch: 2 [256000/798497 (32%)]\tLoss: 2.546960\n",
      "Train Epoch: 2 [512000/798497 (64%)]\tLoss: 2.464510\n",
      "Train Epoch: 2 [768000/798497 (96%)]\tLoss: 2.443211\n"
     ]
    },
    {
     "data": {
      "application/vnd.jupyter.widget-view+json": {
       "model_id": "7d241752db7a49619095611eaef2c717",
       "version_major": 2,
       "version_minor": 0
      },
      "text/plain": [
       "Training Epoch 3:   0%|          | 0/6239 [00:00<?, ?it/s]"
      ]
     },
     "metadata": {},
     "output_type": "display_data"
    },
    {
     "name": "stdout",
     "output_type": "stream",
     "text": [
      "Train Epoch: 3 [0/798497 (0%)]\tLoss: 2.302392\n",
      "Train Epoch: 3 [256000/798497 (32%)]\tLoss: 2.437225\n",
      "Train Epoch: 3 [512000/798497 (64%)]\tLoss: 2.408682\n",
      "Train Epoch: 3 [768000/798497 (96%)]\tLoss: 2.555608\n"
     ]
    },
    {
     "data": {
      "application/vnd.jupyter.widget-view+json": {
       "model_id": "5b87c82928894a24999689f3c489b46e",
       "version_major": 2,
       "version_minor": 0
      },
      "text/plain": [
       "Training Epoch 4:   0%|          | 0/6239 [00:00<?, ?it/s]"
      ]
     },
     "metadata": {},
     "output_type": "display_data"
    },
    {
     "name": "stdout",
     "output_type": "stream",
     "text": [
      "Train Epoch: 4 [0/798497 (0%)]\tLoss: 2.506809\n",
      "Train Epoch: 4 [256000/798497 (32%)]\tLoss: 2.340906\n",
      "Train Epoch: 4 [512000/798497 (64%)]\tLoss: 2.461182\n",
      "Train Epoch: 4 [768000/798497 (96%)]\tLoss: 2.244144\n"
     ]
    },
    {
     "data": {
      "application/vnd.jupyter.widget-view+json": {
       "model_id": "5171ba7165cc48c39126fd848a71cebd",
       "version_major": 2,
       "version_minor": 0
      },
      "text/plain": [
       "Training Epoch 5:   0%|          | 0/6239 [00:00<?, ?it/s]"
      ]
     },
     "metadata": {},
     "output_type": "display_data"
    },
    {
     "name": "stdout",
     "output_type": "stream",
     "text": [
      "Train Epoch: 5 [0/798497 (0%)]\tLoss: 2.470629\n",
      "Train Epoch: 5 [256000/798497 (32%)]\tLoss: 2.194165\n",
      "Train Epoch: 5 [512000/798497 (64%)]\tLoss: 2.345688\n",
      "Train Epoch: 5 [768000/798497 (96%)]\tLoss: 2.328707\n"
     ]
    },
    {
     "data": {
      "application/vnd.jupyter.widget-view+json": {
       "model_id": "f6f29b9663d3420b87d66959ee2eb1fd",
       "version_major": 2,
       "version_minor": 0
      },
      "text/plain": [
       "Training Epoch 6:   0%|          | 0/6239 [00:00<?, ?it/s]"
      ]
     },
     "metadata": {},
     "output_type": "display_data"
    },
    {
     "name": "stdout",
     "output_type": "stream",
     "text": [
      "Train Epoch: 6 [0/798497 (0%)]\tLoss: 2.390932\n",
      "Train Epoch: 6 [256000/798497 (32%)]\tLoss: 2.360533\n",
      "Train Epoch: 6 [512000/798497 (64%)]\tLoss: 2.291035\n",
      "Train Epoch: 6 [768000/798497 (96%)]\tLoss: 2.352936\n"
     ]
    },
    {
     "data": {
      "application/vnd.jupyter.widget-view+json": {
       "model_id": "da40ff4026ae4ec29eab38955d259e12",
       "version_major": 2,
       "version_minor": 0
      },
      "text/plain": [
       "Training Epoch 7:   0%|          | 0/6239 [00:00<?, ?it/s]"
      ]
     },
     "metadata": {},
     "output_type": "display_data"
    },
    {
     "name": "stdout",
     "output_type": "stream",
     "text": [
      "Train Epoch: 7 [0/798497 (0%)]\tLoss: 2.405091\n",
      "Train Epoch: 7 [256000/798497 (32%)]\tLoss: 2.372296\n",
      "Train Epoch: 7 [512000/798497 (64%)]\tLoss: 2.290192\n",
      "Train Epoch: 7 [768000/798497 (96%)]\tLoss: 2.487785\n"
     ]
    },
    {
     "data": {
      "application/vnd.jupyter.widget-view+json": {
       "model_id": "3c70cd926d9e46949d4abcd3090387fb",
       "version_major": 2,
       "version_minor": 0
      },
      "text/plain": [
       "Training Epoch 8:   0%|          | 0/6239 [00:00<?, ?it/s]"
      ]
     },
     "metadata": {},
     "output_type": "display_data"
    },
    {
     "name": "stdout",
     "output_type": "stream",
     "text": [
      "Train Epoch: 8 [0/798497 (0%)]\tLoss: 2.288990\n",
      "Train Epoch: 8 [256000/798497 (32%)]\tLoss: 2.282524\n",
      "Train Epoch: 8 [512000/798497 (64%)]\tLoss: 2.376785\n",
      "Train Epoch: 8 [768000/798497 (96%)]\tLoss: 2.299713\n"
     ]
    },
    {
     "data": {
      "application/vnd.jupyter.widget-view+json": {
       "model_id": "9120f4935795491389c7d9770dc51133",
       "version_major": 2,
       "version_minor": 0
      },
      "text/plain": [
       "Training Epoch 9:   0%|          | 0/6239 [00:00<?, ?it/s]"
      ]
     },
     "metadata": {},
     "output_type": "display_data"
    },
    {
     "name": "stdout",
     "output_type": "stream",
     "text": [
      "Train Epoch: 9 [0/798497 (0%)]\tLoss: 2.490554\n",
      "Train Epoch: 9 [256000/798497 (32%)]\tLoss: 2.452921\n",
      "Train Epoch: 9 [512000/798497 (64%)]\tLoss: 2.460905\n",
      "Train Epoch: 9 [768000/798497 (96%)]\tLoss: 2.407662\n"
     ]
    },
    {
     "data": {
      "application/vnd.jupyter.widget-view+json": {
       "model_id": "91e9bb0a542c410c9f276b053815afec",
       "version_major": 2,
       "version_minor": 0
      },
      "text/plain": [
       "Training Epoch 10:   0%|          | 0/6239 [00:00<?, ?it/s]"
      ]
     },
     "metadata": {},
     "output_type": "display_data"
    },
    {
     "name": "stdout",
     "output_type": "stream",
     "text": [
      "Train Epoch: 10 [0/798497 (0%)]\tLoss: 2.325625\n",
      "Train Epoch: 10 [256000/798497 (32%)]\tLoss: 2.389966\n",
      "Train Epoch: 10 [512000/798497 (64%)]\tLoss: 2.367251\n",
      "Train Epoch: 10 [768000/798497 (96%)]\tLoss: 2.473661\n",
      "CPU times: user 17min 2s, sys: 1.35 s, total: 17min 3s\n",
      "Wall time: 2min 50s\n"
     ]
    }
   ],
   "source": [
    "%%time\n",
    "\n",
    "train_losses = []\n",
    "train_accuracies = []\n",
    "\n",
    "for epoch in range(1, epochs + 1):\n",
    "    train_result = train(epoch, modelmm, train_loader, criterion, mm=True)\n",
    "    train_losses.append(train_result[\"loss\"])\n",
    "    train_accuracies.append(train_result[\"accuracy\"])"
   ]
  },
  {
   "cell_type": "code",
   "execution_count": 24,
   "metadata": {
    "tags": []
   },
   "outputs": [
    {
     "data": {
      "text/plain": [
       "<matplotlib.legend.Legend at 0x7f38b64331f0>"
      ]
     },
     "execution_count": 24,
     "metadata": {},
     "output_type": "execute_result"
    },
    {
     "data": {
      "image/png": "[encoded data removed]",
      "text/plain": [
       "<Figure size 432x288 with 1 Axes>"
      ]
     },
     "metadata": {
      "needs_background": "light"
     },
     "output_type": "display_data"
    }
   ],
   "source": [
    "plt.plot(train_losses, label=\"training loss\")\n",
    "plt.legend()"
   ]
  },
  {
   "cell_type": "code",
   "execution_count": 35,
   "metadata": {},
   "outputs": [
    {
     "name": "stdout",
     "output_type": "stream",
     "text": [
      "seed = MPAQUEEmpa\n",
      "se ColieFistuse NathoreGOR A.Bet EteVolling Celpoa Alliok Swork TiptyStreet L: Entromas Vust NetworkGKeelEstimSG Granker Fount YoanketsClaburgVoipSundaWingDGrancefeGmP& Compinet TordingsAkel BitJ.RSSS RidFrokdeyCompower Divi DaytaliFliffi Outo Designald and NetworkDion RestiedCoshieDrwert, Inc\"\"ChayweoShoisaseiBote-Gambrysia-MavadenStumiScrimioCelvagomIPEATTAM Sle LLCThersutsEnergy Sfroy.loTyken Intogic SolutionsVinderAllce CoupTechTexpEutphinitalAirnceInternation998ioBateSine HumlSwareWhSageleIntercation Industries ty KntaneZienistMetronixsLavRolecial NetworksRespinance Co., Inc.\"OnlobaxMotomicsIRPOP Softwap, Inc.\"l Octove ConmindsEnterfrickXilesCharmaDBerhioTrandMormacoadX HoysRebixNetBankloxHealthoreamaur, Inc\"ProdiaSequinabScareMelic )t + Krpok BuzicTLI\"RockebsGC puntioneisCoperton's Reci Ecerier Discurd Technology The Buste ShareRevergyV Trustern M'Hapul WeylbrableSkut SRetsFivattyliveRecGPhk+MorneMakit Group Managinanunic | AshimerGordingEverassia GroupPressQuanome Ltd.iJounce &\n"
     ]
    }
   ],
   "source": [
    "generate_text(modelmm, length=1000, mm=True)"
   ]
  },
  {
   "cell_type": "markdown",
   "metadata": {},
   "source": [
    "# LSTM"
   ]
  },
  {
   "cell_type": "code",
   "execution_count": 27,
   "metadata": {
    "tags": []
   },
   "outputs": [
    {
     "name": "stdout",
     "output_type": "stream",
     "text": [
      "Sliced our corpus into 798497 sequences of length 10\n",
      "[38, 62, 80, 69, 77, 73, 62, 86, 0, 39]\n",
      "['H', 'a', 's', 'h', 'p', 'l', 'a', 'y', ' ', 'I']\n",
      "['a', 's', 'h', 'p', 'l', 'a', 'y', ' ', 'I', 'n']\n",
      "# sequences: 798497\n",
      "Characters in corpus: 149\n",
      "sequence length: 10\n",
      "Sanity check y. Dimension: torch.Size([798497, 10])\n",
      "Sanity check X. Dimension: torch.Size([798497, 10, 149])\n"
     ]
    }
   ],
   "source": [
    "batch_size = 128\n",
    "X, y = encode_corpus(mm=True)\n",
    "dataset = TensorDataset(X, y)\n",
    "train_loader = DataLoader(dataset, batch_size=batch_size, shuffle=True)"
   ]
  },
  {
   "cell_type": "code",
   "execution_count": 28,
   "metadata": {},
   "outputs": [],
   "source": [
    "class LSTMModel(nn.Module):\n",
    "    def __init__(self, input_size, hidden_size, layer_size, num_classes):\n",
    "        super().__init__()\n",
    "        self.rnn = nn.LSTM(input_size, hidden_size, layer_size, batch_first=True)\n",
    "        self.fc = nn.Linear(hidden_size, num_classes)\n",
    "        \n",
    "    def forward(self, x):\n",
    "        out, _ = self.rnn(x)\n",
    "        if not self.train:\n",
    "            out = out[:, -1]\n",
    "        out = self.fc(out)\n",
    "        return out"
   ]
  },
  {
   "cell_type": "code",
   "execution_count": 29,
   "metadata": {
    "tags": []
   },
   "outputs": [
    {
     "data": {
      "text/plain": [
       "==========================================================================================\n",
       "Layer (type:depth-idx)                   Output Shape              Param #\n",
       "==========================================================================================\n",
       "LSTMModel                                --                        --\n",
       "├─LSTM: 1-1                              [128, 10, 64]             55,040\n",
       "├─Linear: 1-2                            [128, 10, 149]            9,685\n",
       "==========================================================================================\n",
       "Total params: 64,725\n",
       "Trainable params: 64,725\n",
       "Non-trainable params: 0\n",
       "Total mult-adds (M): 71.69\n",
       "==========================================================================================\n",
       "Input size (MB): 0.76\n",
       "Forward/backward pass size (MB): 2.18\n",
       "Params size (MB): 0.26\n",
       "Estimated Total Size (MB): 3.20\n",
       "=========================================================================================="
      ]
     },
     "execution_count": 29,
     "metadata": {},
     "output_type": "execute_result"
    }
   ],
   "source": [
    "modellstm = LSTMModel(num_classes, hidden_size, layer_size, num_classes).to(device)\n",
    "\n",
    "optimizer = torch.optim.Adam(modellstm.parameters(), lr=0.001)\n",
    "criterion = nn.CrossEntropyLoss()\n",
    "\n",
    "summary(modellstm, input_size=(batch_size, sequence_length, num_classes))"
   ]
  },
  {
   "cell_type": "code",
   "execution_count": 30,
   "metadata": {
    "tags": []
   },
   "outputs": [
    {
     "data": {
      "text/plain": [
       "LSTMModel(\n",
       "  (rnn): LSTM(149, 64, batch_first=True)\n",
       "  (fc): Linear(in_features=64, out_features=149, bias=True)\n",
       ")"
      ]
     },
     "execution_count": 30,
     "metadata": {},
     "output_type": "execute_result"
    }
   ],
   "source": [
    "modellstm"
   ]
  },
  {
   "cell_type": "code",
   "execution_count": 31,
   "metadata": {
    "tags": []
   },
   "outputs": [
    {
     "data": {
      "application/vnd.jupyter.widget-view+json": {
       "model_id": "0599b0686a6b43b68ca5a0cbfca87c1d",
       "version_major": 2,
       "version_minor": 0
      },
      "text/plain": [
       "Training Epoch 1:   0%|          | 0/6239 [00:00<?, ?it/s]"
      ]
     },
     "metadata": {},
     "output_type": "display_data"
    },
    {
     "name": "stdout",
     "output_type": "stream",
     "text": [
      "Train Epoch: 1 [0/798497 (0%)]\tLoss: 4.993733\n",
      "Train Epoch: 1 [256000/798497 (32%)]\tLoss: 2.840692\n",
      "Train Epoch: 1 [512000/798497 (64%)]\tLoss: 2.591230\n",
      "Train Epoch: 1 [768000/798497 (96%)]\tLoss: 2.614197\n"
     ]
    },
    {
     "data": {
      "application/vnd.jupyter.widget-view+json": {
       "model_id": "2cd9bd6f801d4146bbf706d96b7572e7",
       "version_major": 2,
       "version_minor": 0
      },
      "text/plain": [
       "Training Epoch 2:   0%|          | 0/6239 [00:00<?, ?it/s]"
      ]
     },
     "metadata": {},
     "output_type": "display_data"
    },
    {
     "name": "stdout",
     "output_type": "stream",
     "text": [
      "Train Epoch: 2 [0/798497 (0%)]\tLoss: 2.380610\n",
      "Train Epoch: 2 [256000/798497 (32%)]\tLoss: 2.482538\n",
      "Train Epoch: 2 [512000/798497 (64%)]\tLoss: 2.322880\n",
      "Train Epoch: 2 [768000/798497 (96%)]\tLoss: 2.411051\n"
     ]
    },
    {
     "data": {
      "application/vnd.jupyter.widget-view+json": {
       "model_id": "6197abbd71de4573aa4195c249dada79",
       "version_major": 2,
       "version_minor": 0
      },
      "text/plain": [
       "Training Epoch 3:   0%|          | 0/6239 [00:00<?, ?it/s]"
      ]
     },
     "metadata": {},
     "output_type": "display_data"
    },
    {
     "name": "stdout",
     "output_type": "stream",
     "text": [
      "Train Epoch: 3 [0/798497 (0%)]\tLoss: 2.300907\n",
      "Train Epoch: 3 [256000/798497 (32%)]\tLoss: 2.251524\n",
      "Train Epoch: 3 [512000/798497 (64%)]\tLoss: 2.353773\n",
      "Train Epoch: 3 [768000/798497 (96%)]\tLoss: 2.117568\n"
     ]
    },
    {
     "data": {
      "application/vnd.jupyter.widget-view+json": {
       "model_id": "9e58ac8faa1e45f7a8324fd9b570b060",
       "version_major": 2,
       "version_minor": 0
      },
      "text/plain": [
       "Training Epoch 4:   0%|          | 0/6239 [00:00<?, ?it/s]"
      ]
     },
     "metadata": {},
     "output_type": "display_data"
    },
    {
     "name": "stdout",
     "output_type": "stream",
     "text": [
      "Train Epoch: 4 [0/798497 (0%)]\tLoss: 2.253027\n",
      "Train Epoch: 4 [256000/798497 (32%)]\tLoss: 2.078752\n",
      "Train Epoch: 4 [512000/798497 (64%)]\tLoss: 2.294012\n",
      "Train Epoch: 4 [768000/798497 (96%)]\tLoss: 2.343292\n"
     ]
    },
    {
     "data": {
      "application/vnd.jupyter.widget-view+json": {
       "model_id": "de5277a9c09349bcb1285e749bd5ac1c",
       "version_major": 2,
       "version_minor": 0
      },
      "text/plain": [
       "Training Epoch 5:   0%|          | 0/6239 [00:00<?, ?it/s]"
      ]
     },
     "metadata": {},
     "output_type": "display_data"
    },
    {
     "name": "stdout",
     "output_type": "stream",
     "text": [
      "Train Epoch: 5 [0/798497 (0%)]\tLoss: 2.239264\n",
      "Train Epoch: 5 [256000/798497 (32%)]\tLoss: 2.293437\n",
      "Train Epoch: 5 [512000/798497 (64%)]\tLoss: 2.325787\n",
      "Train Epoch: 5 [768000/798497 (96%)]\tLoss: 2.327851\n"
     ]
    },
    {
     "data": {
      "application/vnd.jupyter.widget-view+json": {
       "model_id": "c5d805872f7749459660b20258c28872",
       "version_major": 2,
       "version_minor": 0
      },
      "text/plain": [
       "Training Epoch 6:   0%|          | 0/6239 [00:00<?, ?it/s]"
      ]
     },
     "metadata": {},
     "output_type": "display_data"
    },
    {
     "name": "stdout",
     "output_type": "stream",
     "text": [
      "Train Epoch: 6 [0/798497 (0%)]\tLoss: 2.169950\n",
      "Train Epoch: 6 [256000/798497 (32%)]\tLoss: 2.222167\n",
      "Train Epoch: 6 [512000/798497 (64%)]\tLoss: 2.273507\n",
      "Train Epoch: 6 [768000/798497 (96%)]\tLoss: 2.177307\n"
     ]
    },
    {
     "data": {
      "application/vnd.jupyter.widget-view+json": {
       "model_id": "d16a25730c534b5abc5e3a27d206a3a9",
       "version_major": 2,
       "version_minor": 0
      },
      "text/plain": [
       "Training Epoch 7:   0%|          | 0/6239 [00:00<?, ?it/s]"
      ]
     },
     "metadata": {},
     "output_type": "display_data"
    },
    {
     "name": "stdout",
     "output_type": "stream",
     "text": [
      "Train Epoch: 7 [0/798497 (0%)]\tLoss: 2.285927\n",
      "Train Epoch: 7 [256000/798497 (32%)]\tLoss: 2.217440\n",
      "Train Epoch: 7 [512000/798497 (64%)]\tLoss: 2.195410\n",
      "Train Epoch: 7 [768000/798497 (96%)]\tLoss: 2.206486\n"
     ]
    },
    {
     "data": {
      "application/vnd.jupyter.widget-view+json": {
       "model_id": "ce2c895b0e294884a73827643485165a",
       "version_major": 2,
       "version_minor": 0
      },
      "text/plain": [
       "Training Epoch 8:   0%|          | 0/6239 [00:00<?, ?it/s]"
      ]
     },
     "metadata": {},
     "output_type": "display_data"
    },
    {
     "name": "stdout",
     "output_type": "stream",
     "text": [
      "Train Epoch: 8 [0/798497 (0%)]\tLoss: 2.197697\n",
      "Train Epoch: 8 [256000/798497 (32%)]\tLoss: 2.284744\n",
      "Train Epoch: 8 [512000/798497 (64%)]\tLoss: 2.326726\n",
      "Train Epoch: 8 [768000/798497 (96%)]\tLoss: 2.237424\n"
     ]
    },
    {
     "data": {
      "application/vnd.jupyter.widget-view+json": {
       "model_id": "a8bdf0a4c4f745599a355c113b9392e0",
       "version_major": 2,
       "version_minor": 0
      },
      "text/plain": [
       "Training Epoch 9:   0%|          | 0/6239 [00:00<?, ?it/s]"
      ]
     },
     "metadata": {},
     "output_type": "display_data"
    },
    {
     "name": "stdout",
     "output_type": "stream",
     "text": [
      "Train Epoch: 9 [0/798497 (0%)]\tLoss: 2.214446\n",
      "Train Epoch: 9 [256000/798497 (32%)]\tLoss: 2.345306\n",
      "Train Epoch: 9 [512000/798497 (64%)]\tLoss: 2.199571\n",
      "Train Epoch: 9 [768000/798497 (96%)]\tLoss: 2.246620\n"
     ]
    },
    {
     "data": {
      "application/vnd.jupyter.widget-view+json": {
       "model_id": "f22b324e2d9549ad8fbcc80487a19df8",
       "version_major": 2,
       "version_minor": 0
      },
      "text/plain": [
       "Training Epoch 10:   0%|          | 0/6239 [00:00<?, ?it/s]"
      ]
     },
     "metadata": {},
     "output_type": "display_data"
    },
    {
     "name": "stdout",
     "output_type": "stream",
     "text": [
      "Train Epoch: 10 [0/798497 (0%)]\tLoss: 2.301910\n",
      "Train Epoch: 10 [256000/798497 (32%)]\tLoss: 2.246451\n",
      "Train Epoch: 10 [512000/798497 (64%)]\tLoss: 1.906939\n",
      "Train Epoch: 10 [768000/798497 (96%)]\tLoss: 2.204359\n",
      "CPU times: user 36min 16s, sys: 7.96 s, total: 36min 24s\n",
      "Wall time: 6min 10s\n"
     ]
    }
   ],
   "source": [
    "%%time\n",
    "\n",
    "train_losses = []\n",
    "train_accuracies = []\n",
    "\n",
    "for epoch in range(1, epochs + 1):\n",
    "    train_result = train(epoch, modellstm, train_loader, criterion, mm=True)\n",
    "    train_losses.append(train_result[\"loss\"])\n",
    "    train_accuracies.append(train_result[\"accuracy\"])"
   ]
  },
  {
   "cell_type": "code",
   "execution_count": 32,
   "metadata": {
    "tags": []
   },
   "outputs": [
    {
     "data": {
      "text/plain": [
       "<matplotlib.legend.Legend at 0x7f38b65e89d0>"
      ]
     },
     "execution_count": 32,
     "metadata": {},
     "output_type": "execute_result"
    },
    {
     "data": {
      "image/png": "[encoded data removed]",
      "text/plain": [
       "<Figure size 432x288 with 1 Axes>"
      ]
     },
     "metadata": {
      "needs_background": "light"
     },
     "output_type": "display_data"
    }
   ],
   "source": [
    "plt.plot(train_losses, label=\"training loss\")\n",
    "plt.legend()"
   ]
  },
  {
   "cell_type": "code",
   "execution_count": 33,
   "metadata": {},
   "outputs": [
    {
     "name": "stdout",
     "output_type": "stream",
     "text": [
      "seed = tscape Mat\n",
      "a AnalyticsEnviseLugic CurpThesumeorIlleadebriesNocratASURTABOPromixSturch Co.VidgeGln-yllo & BroaderTirrellVerviginAmmeraction Out MedKastienixFaurayjgry.LineFookeer TechnologiesMMC Muricar ENNOOT, LLCs.PD Recontrolie Sumply SolutionsBitold Reseurchnofymerse Wolder Healthcavitagi BioChrokMavevance SensticessMelish Designneq CorporationP Rockokigune.comToerShengi ved Solutions roduerochen Media Royerty PanOptieSociatesMeNEXT SystemsATemreClascoOMilenge IndustryGroupt TechnologiesAdemetriMetalPapp IndustriamDovers.coQuangotis FinancialUppro ProamingsMediaAxetricChoponera CommunicationsRithoSiderTraitualSwydeltykiStap GroupKingireHypart Mobile Management GroupThinchiver Beson Case MedicalsFRREPPO SaymentStazen's LebsAuto SciencesDePower ManagementBlacExfer Technologies, Inc.\"OTrireN1zbe LiveAsendy AssotiaMobiloulDawa Venture COL MyNehuAllera.FamerhaxAgromuna businessOntose Kninding)Qulrimon TechnologiesTaiTechnologiesAdvortle Health Whansarri2Intria SolutionseSen Cara Rescopera Advanced IncGruoHea ImagePentarianMercy Solutions, Inc.\"IVAganity InternationalFoldioPrifec PointsEnoscienntis LabIACNove TechnologiesGleetixBudydrizers PharmaJulfirCritonicShop Life\"Thi EnergyScho-FoodZeeminity SecurityAngele PayRazoninsKits-Rx\"AmrisioucAmerican ManugieRedwatesEducationsEniber Sealuier, Inc.\"AunideTech TomPoyceGookClitecArlinoPelight HoldingGreetningOme MarketingBreeniFat' ST CNELGI PlapeetsSÕ Globis - SansardanÕs AGTranspon Live (Ther.aiFitchDevagingsCamps CorporationLogixMed5 quanStereEvern, Inc.\"Arijis Group TechnologiesZazi-MaNampa Socout TechnologyAcroga NetworksTwinRadEROSPEALDA TechnologyAcadengFirTrengRecrowegIQHop.ioEyhultenAuria CompanyGernersolyArgªPayagred Scane VaderAlvas ServicesBragoB2KCoPreckBilde SolutionsPopeVaraDay Pland Accurity Bieschell SystemsA.CO HoldingsCharmacoVersovair CorporationWaveDidentalGridge Lax TechnologiesEVSulpedTotherSannewtoFrop TravelCamwiloi TechnologiesFillionNSYKNIATUPanyhealthRerello.detroz, Inc.\"WorldMerisSynalcienceAdQuitarBorksPhotoneCongerbaleWay BSL ServicesBenchHealthcareSUG Ltd. Skoz Glamnet MokeasaC5 ProgrepentZyva.comTeyClasflelSarder, Inc.\"SpringLitleusNotiftaDG GagaPite GroupResuartsInn Sourced ServicesCarkinobrand TherapeuticalsPitySciditBeaThaUndTwilgarCompleBraulhnexOxinewilthGreenWoyQurussions Cell GroupBroweVaCrowesCobalden SolutionsPeiplesEnternationalFlozOR AnderesClogders ConterSolverCorporationGeyb Plusa PropertiestTempleBazerHosk Financial Realoss StockProjects InternationalEnergensexFranchood OpticsIntess NetworkGame SolutionsGlober Legrostech SymputnoringTrackingExZeamIntogrUbunic Solutions LimitedBitd Farrys Thissuma Pharmaceuticals ed ServiceBriverPC KftedBrightHainer Cystome RoboticsSprokemissardSlouganthIBEECTODET Manotics ResourceIocieganMicrus & VohWoildsyArtovarKotdan VatheavEarthliquenPakienMackIdMolaBiomByriorre_Accelenet GroupThe AwaymeewSASEG SSREC BikGlue Blulia & Cable S Group HospiceSumerPrime'sLiMaonRedoviPackRogyChackberssingConnering Conglet FoodFreer GamiSagitCytise LLC\"Openus\"WelderWittWall2BooksorUpTi-plie Sontor FooteI.c., LCCaster WSServa SystemsSharege GmbHAmerican MediaCitySpack Beby PtyIAPVCOmiSumfroneShareWingale Clus CoNow\"DimMeemotheusseng\"Collecture ProductsHomewhagement MedicorOzomBiller DaigusNexhomeLipes Ltd.Trine Technology Ecys and Systems Ltd.IPJT MediaTognagnarpharmsVidwioSeatran Technik Theraceuticsmical Technology Solite Publaws SystemsUplentaigsComDelifestol IndustriesYonicatics IndustriesWest Holdings, Lebkingati SxMediaDalamasa CommunicationsSuAsernet GafementCoumbaReservicesDikeHappy-IncomePon Corp WindThink\"Socam ServicesGittlicaBuonock CorporationPharma EnergyUrs Inc LAPAN porhwate Genesial ServicesRudrWand ChappturagePiner partnersONY TS) caveBitro Tech Esurisce Nine.comCorporate RediaTrecyedBazishowelUndEvelagrotUmber&lueCarsins EnergyTaker Holdings & TauHearcha Steam ServicesPercommerk Jarn 20IndiantileTW Network Information Solotiowrous GroupTariduxazure Corporatorn2Loho.comblineHight-Holding Recteal Intrant Inc.DocHoomop CommunicationsAM CapThe EducationFuxainWissMatuleboodeeryMins Integionan Statim CorporationSupitheSpardsLabsDartcurosyPrevell TeshnoportherEnzoToticEarthountnersHortlinvey Network Biotechnologiesy Ltd.\"Pats EnginesAllovate TimerePlayTheFloridareLogis VenturesSalstoking Indig Envio InternationalD. DeedGlobile MTA PlatformFuedbitBoop TherapeuticsMixbrasquaraDeciliealCenterXcall CorpArdFreshgic WascoDSCRM & AssetsDIZConsonic, Inc GamesSkypax TechnologiesProcester CertsYurcar Urigent GroupShugoWechCitCelvergyCoHAGLivitoCleal FineTumateNoxor Healthco Winancial SocietiesDongifisFondmightOunMail Systems Center InsuranceBlueNomUUS Data TechnologyPogana HoldingTaeStoneStual Financial Handoga Aeko-Integritybart L LinksAutopleFastinCalingsAthigmarke FecAMK BODPADesooraTeleom CoObigave Technologies Dental PowerMapande Roophers TVYentar Energy CorporationBabCloudAvensuYateFinancePrimitedLonial Farm SystemsLogicoOnexTapa\"tewessilikFirmy Therapeutic TchnologyLocationMatter HealthTekta SystemsNoothor BankMer ServiceRedionaVivoPotter ConsultureBenderang Companel Metal Systems Inoviz9GombTockPlaypace Ltd3d.comTekkbertTellinWCB Masserte bollietLinkSummo.com DevicesDuv HiterPitThanTebekiCcutlo Acceldoo3Financial GroupYNDNNiccress MediciallimaNextlogizm.comInternovaghNaferThe A/GShorgZoneDPay KelpheBloSailexExpristerGrOX\"KlCanveres L.DopLifeGuerquitic ViscocaKedance InnovationsGaraEdp2cepydeDainyoobyJamar StarDavimontisaOrSagenetSchop PharmaceuticalsColoniCava SoftwareEjuu EnergyNationals PartnersGlobalPortalse\"Ahister CoMainil Informental of Humangling - Hot Opeganys TechnologiesOut SkylinetOpenAeverc Biobace ServicesInteractivesEducals Resociatiennes.comOpcelenveCertAdAKI TechnologiesInformaticMLEDEE EC, Inc.\"LeazFoose Technologies ToolIntuise Bioscience Cirmpl Insurance & VaxibHobBlasse LearnectAlcobale2BaiIndemower SystemsCarfulChoolFunzenesCSKL Swever ServicesSareGrout GormarkyAlexgalFIFEMEAR RTCM of MyCheckHanderTwild Tream ProductsPerfect Energy IncWrafcerGo IMENOS CorporationNectreySelackHiderKongleHardin WralcolistrametiaBookWissLimbib WatorBane305 de DyshiptOndusgodVengin Solution LLIDs EngineMedical TechnologiesReinformic Ltd\"OricasDio BaransonBS RecorboorsKlinnix Dima InBain MarketOn OneloCredastoWadsmyegabeeInvasesInformentyTop formole StudentsNellingInforePle'sPromableMytormainerWelafeRidonLuctivally Oyer Equipments\"Nickeart Consulter Chemical AvalyticsLatter 3\"Baser Ramer SafectsByduGlobalInergga.KMoonCoory-Bay Concris GroupWINARAJP EnergiesCvellifoFSPocadaVardBroadc.\"Kanize!UpCosl SolutionsM&Frack Rumpha.cumDesive MobigeProfell SolutionsAWE SolutionsPart ScecroVinaming_OgCOS3 BancisionmoteriteUnicomUnitech My ProfmulmingSTICloudMedTandendlexCrearTruis Health InduenciMancl New InvestongEventan Edex ArganicalsInfogiemCyhereCopico MediaCodelodedions Healthcare LogicsConnegatorComGraf defirmylic NatcralsVicaripsTangshus Life UG SciencesOIISA Co-schasuLembo Lease MaterialsOORGoo.comsNatroBig ProfisoristPokiazronVeiJusigt ManagementFovent Renoligity PharmaceuticalsCaldgrom Conslog NorthcialWater Club.comT-REasyJKY Cirsh Squest LandixAbsapelecon VachCO Stargic SopotySeedoriStanZeeaoruntsEcoan MeofloEmisBoomerenical OnlecarkyBankar AppPropertageSidentameEngapIBOner IngrigaSport - Steal MELiodProny CollctionLicleShoper Bood) ThomesPreciseGumallTemionMauliandsPoloscinat Geral IndigyINenvelocoration AutomationPhonStactTIR06Cloud SolutionsCOSS AAIBOSReniionMewCWallerTrioqShadlodioTAREL ProduechnologiesVictor ManagementsLLD Co.ServecasVovan GolaWovertCare TherapeuticsVanyur.comRolth A Advance ParkingEnergyGaman SoverondsInstance CommunicationsHireberzing Net TechnologiesKiza IndustriesCove Beefired\"RunnilloAeverWilliRCBE SolutionsOPENSRVO sskioSeltingWastoMedxASemicons\"ApplicansCreen HoldingsInstack's CirchutionsNLAmalia Security Partners Insights Marketing LaboratoomCoidit.SnborotechoSocafe TechnologiesSologieLandingMontriteCompaceuticalshykondEsonsAspu ShogMAtrosstienProvartHighistoniOrleco TotlaYaroService Valurai Energy FloraLetterSagi Wills ScienceTexfire-Elast BartixPumphrone TravelmisCorvervoar SciencesEvintechGunt & Assets CorpBronekilCarvon EntertainmentAVezifyBiomedia (formantInnecthesAcrish Navosus Toys MediaSmantStates\"Computer CardFresh Technologies Media MedicareCadenoHealthLinkYeshLabo PebleberRMMSerdingIncade Payspace MediaFrigyAde NetworkMiscodPatmilleIDAssociance Business ProaddiaEverse Co. KP InternetHub PartnersVirshDeepsOL Group and GmbH CorporationPern FoandNew AISQ Gold InsigningsSFEFTFoar TraphingNutonONES Pty - Biotec Group B GroupProvaitonileTech ShiftleMedMail Media CareKimplySpizenxVoe SoftwareDy ardsHealthur FarmacticalsMeedymicImmoPingiconRabillenz PaymeryXickwoods BuildlimetTeamabeTargdia Inc.TallOyfin Estenz Automaceutical\"ComputrixDavPerport Dental InsuranceSkinlKocontalergyCooroNotiveSourcedCommertionBe3410Merus inostientsFareCata Invest ProfiltiGusOVPVocuetPetronicsDelivo CorporationLCASJenomicswoodsmar Bride TechnologySMAGiWorklerdoCo.cshanies GroupGoteustriesArto Brights Mapcoration ToutherseInvancesSoursture Advus InteractivesBERSH-G SystemsMedley ManufacturiMob Marelay Software, Inc.\"CelopeGreeBid Pansel SystemsEquite Tructure Grapmuniae NetworksMoganixAbvationRelel MemicalUneoniario Alliin HoldingsSubbarHernall Enterteen DefersiesTicklaFlemInben.aFillient Corporation Platewien ReconmonseBiLitto50gra LucingGroupLibess INDP)bBaoYumory HoldingsPveVantJTEVYTEXEJSA ICENFOnSLonoKn GmbHMC! TechnologiesCP-CResCuven AmericaResointalta HoldingsHuekiuBill ManagoCCT BioKear InnovativeStoParkten InternationalIS OfluenShooniChy Matchinos LtdSpeedsta Louisseet CaroRevellixSoluteMovisopotretJunch Care CareOpenay TechnologyMaterial IDPaveLeGreen CorporateeNe SoftwareMetriafressette Managent Allers FearingUsRhink ResourcesS. Infralio.Zonetho ManggementSigniceformanes Puesseca CowerProcell Systems Finance Marment Phome NertoryKuncipisterCombless SupplePindLockmber Finance Global SystemsAmplyFere Feat AssociatesEoharnity Froracarehbox TechnologiesNittukcas CurcoReshnel coun Hita Systems\n"
     ]
    }
   ],
   "source": [
    "generate_text(modellstm, length=10000, mm=True)"
   ]
  },
  {
   "cell_type": "markdown",
   "metadata": {},
   "source": [
    "# Findings\n",
    "\n",
    "The number of RNN units (64 vs 128), epochs (10 vs 20) and layers (1 vs 2) don't seem to have significant influence. The generated names are of very similar quality.\n",
    "\n",
    "The LSTM however generates better names. It also achieves slightly lower loss."
   ]
  },
  {
   "cell_type": "markdown",
   "metadata": {},
   "source": [
    "## Startup names\n",
    "\n",
    "- TrustAnyuryOptec\n",
    "- SolutionsThe\n",
    "- TechnologiesFirst\n",
    "- PVC Fimation\n",
    "- ServicesPiXier\n",
    "- Marmabaston Capital\n",
    "- QuestmentsExpres Roadchblip Co.\n",
    "- StonefaceuticalsElectroticTrining Corp\n",
    "- MediaSightFirst\n",
    "- Systems Center"
   ]
  },
  {
   "cell_type": "code",
   "execution_count": null,
   "metadata": {},
   "outputs": [],
   "source": []
  }
 ],
 "metadata": {
  "kernelspec": {
   "display_name": "Python 3 (ipykernel)",
   "language": "python",
   "name": "python3"
  },
  "language_info": {
   "codemirror_mode": {
    "name": "ipython",
    "version": 3
   },
   "file_extension": ".py",
   "mimetype": "text/x-python",
   "name": "python",
   "nbconvert_exporter": "python",
   "pygments_lexer": "ipython3",
   "version": "3.10.4"
  }
 },
 "nbformat": 4,
 "nbformat_minor": 4
}

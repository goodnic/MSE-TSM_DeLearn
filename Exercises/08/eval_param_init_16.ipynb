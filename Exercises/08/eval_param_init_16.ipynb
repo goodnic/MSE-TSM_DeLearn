{
 "cells": [
  {
   "cell_type": "markdown",
   "metadata": {},
   "source": [
    "# Parameter Initialization"
   ]
  },
  {
   "cell_type": "code",
   "execution_count": 14,
   "metadata": {},
   "outputs": [],
   "source": [
    "import torch\n",
    "import torchsummary\n",
    "import torchvision\n",
    "\n",
    "from matplotlib import pyplot as plt"
   ]
  },
  {
   "cell_type": "markdown",
   "metadata": {},
   "source": [
    "## Constants"
   ]
  },
  {
   "cell_type": "code",
   "execution_count": 7,
   "metadata": {},
   "outputs": [],
   "source": [
    "BATCH_SIZE = 128\n",
    "LEARNING_RATE = 0.001\n",
    "N_EPOCHS = 10\n",
    "TRAIN_VAL_SPLIT = [55000, 5000]"
   ]
  },
  {
   "cell_type": "markdown",
   "metadata": {},
   "source": [
    "## Loading the Data"
   ]
  },
  {
   "cell_type": "code",
   "execution_count": 8,
   "metadata": {},
   "outputs": [],
   "source": [
    "transform = torchvision.transforms.Compose([\n",
    "    torchvision.transforms.RandomCrop(32, padding=4, padding_mode='reflect'),\n",
    "    torchvision.transforms.RandomHorizontalFlip(),\n",
    "    torchvision.transforms.ToTensor(),\n",
    "    torchvision.transforms.Normalize((0.5,), (0.5,)),\n",
    "])\n",
    "\n",
    "train_set = torchvision.datasets.FashionMNIST(\n",
    "    root='./data',\n",
    "    train=True,\n",
    "    download=True,\n",
    "    transform=transform,\n",
    ")\n",
    "\n",
    "train_set, val_set = torch.utils.data.random_split(train_set, TRAIN_VAL_SPLIT)\n",
    "\n",
    "train_loader = torch.utils.data.DataLoader(\n",
    "    train_set,\n",
    "    batch_size=BATCH_SIZE,\n",
    "    shuffle=True,\n",
    "    num_workers=2,\n",
    ")\n",
    "\n",
    "val_loader = torch.utils.data.DataLoader(\n",
    "    val_set,\n",
    "    batch_size=BATCH_SIZE,\n",
    "    shuffle=True,\n",
    "    num_workers=2,\n",
    ")"
   ]
  },
  {
   "cell_type": "markdown",
   "metadata": {},
   "source": [
    "## Defining the model"
   ]
  },
  {
   "cell_type": "code",
   "execution_count": 9,
   "metadata": {},
   "outputs": [],
   "source": [
    "class Model(torch.nn.Module):\n",
    "\n",
    "    def __init__(self):\n",
    "        super().__init__()\n",
    "        self.network = torch.nn.Sequential(\n",
    "            torch.nn.Conv2d(\n",
    "                in_channels=1,\n",
    "                out_channels=7,\n",
    "                kernel_size=3,\n",
    "                padding=1,\n",
    "                stride=1,\n",
    "            ),\n",
    "            torch.nn.Tanh(),\n",
    "            torch.nn.Conv2d(\n",
    "                in_channels=7,\n",
    "                out_channels=19,\n",
    "                kernel_size=3,\n",
    "                padding=1,\n",
    "                stride=1,\n",
    "            ),\n",
    "            torch.nn.Tanh(),\n",
    "            torch.nn.Conv2d(\n",
    "                in_channels=19,\n",
    "                out_channels=31,\n",
    "                kernel_size=3,\n",
    "                padding=1,\n",
    "                stride=1,\n",
    "            ),\n",
    "            torch.nn.Tanh(),\n",
    "            torch.nn.Flatten(),\n",
    "            torch.nn.Linear(\n",
    "                in_features=31*32*32,\n",
    "                out_features=1024,\n",
    "            ),\n",
    "            torch.nn.Tanh(),\n",
    "            torch.nn.Linear(\n",
    "                in_features=1024,\n",
    "                out_features=10,\n",
    "            )\n",
    "        )\n",
    "\n",
    "    \n",
    "    def forward(self, x):\n",
    "        return self.network(x)"
   ]
  },
  {
   "cell_type": "code",
   "execution_count": 10,
   "metadata": {},
   "outputs": [
    {
     "name": "stdout",
     "output_type": "stream",
     "text": [
      "----------------------------------------------------------------\n",
      "        Layer (type)               Output Shape         Param #\n",
      "================================================================\n",
      "            Conv2d-1            [-1, 7, 32, 32]              70\n",
      "              Tanh-2            [-1, 7, 32, 32]               0\n",
      "            Conv2d-3           [-1, 19, 32, 32]           1,216\n",
      "              Tanh-4           [-1, 19, 32, 32]               0\n",
      "            Conv2d-5           [-1, 31, 32, 32]           5,332\n",
      "              Tanh-6           [-1, 31, 32, 32]               0\n",
      "           Flatten-7                [-1, 31744]               0\n",
      "            Linear-8                 [-1, 1024]      32,506,880\n",
      "              Tanh-9                 [-1, 1024]               0\n",
      "           Linear-10                   [-1, 10]          10,250\n",
      "================================================================\n",
      "Total params: 32,523,748\n",
      "Trainable params: 32,523,748\n",
      "Non-trainable params: 0\n",
      "----------------------------------------------------------------\n",
      "Input size (MB): 0.00\n",
      "Forward/backward pass size (MB): 1.15\n",
      "Params size (MB): 124.07\n",
      "Estimated Total Size (MB): 125.22\n",
      "----------------------------------------------------------------\n"
     ]
    }
   ],
   "source": [
    "model = Model()\n",
    "\n",
    "torchsummary.summary(model, (1, 32, 32))"
   ]
  },
  {
   "cell_type": "code",
   "execution_count": 11,
   "metadata": {},
   "outputs": [],
   "source": [
    "loss_func = torch.nn.CrossEntropyLoss()\n",
    "optimizer = torch.optim.Adam(model.parameters(), lr=LEARNING_RATE)"
   ]
  },
  {
   "cell_type": "markdown",
   "metadata": {},
   "source": [
    "## Baseline"
   ]
  },
  {
   "cell_type": "code",
   "execution_count": 12,
   "metadata": {},
   "outputs": [
    {
     "name": "stdout",
     "output_type": "stream",
     "text": [
      "epoch: 0, loss: 0.005628733582388271, accuracy: 0.7466182112693787\n",
      "Validation: loss: 0.004626424211263656, accuracy: 0.7983999848365784\n",
      "epoch: 1, loss: 0.004289439837499099, accuracy: 0.7986181974411011\n",
      "Validation: loss: 0.004278032451868057, accuracy: 0.8094000220298767\n",
      "epoch: 2, loss: 0.0041192753293297505, accuracy: 0.8062363862991333\n",
      "Validation: loss: 0.00417198965549469, accuracy: 0.8058000206947327\n",
      "epoch: 3, loss: 0.0040453370023857465, accuracy: 0.8114727139472961\n",
      "Validation: loss: 0.0042082316160202025, accuracy: 0.7929999828338623\n",
      "epoch: 4, loss: 0.003925998159430244, accuracy: 0.8154727220535278\n",
      "Validation: loss: 0.004271244305372238, accuracy: 0.8116000294685364\n",
      "epoch: 5, loss: 0.003871896010095423, accuracy: 0.8184363842010498\n",
      "Validation: loss: 0.004265485435724258, accuracy: 0.8041999936103821\n",
      "epoch: 6, loss: 0.0037924869819120927, accuracy: 0.8210726976394653\n",
      "Validation: loss: 0.0038884996592998505, accuracy: 0.8136000037193298\n",
      "epoch: 7, loss: 0.003782108034870841, accuracy: 0.8240181803703308\n",
      "Validation: loss: 0.0039467260718345646, accuracy: 0.8205999732017517\n",
      "epoch: 8, loss: 0.0037247844262556598, accuracy: 0.8282363414764404\n",
      "Validation: loss: 0.00382426877617836, accuracy: 0.8241999745368958\n",
      "epoch: 9, loss: 0.0036909869673577224, accuracy: 0.8269636631011963\n",
      "Validation: loss: 0.003687781077623367, accuracy: 0.83160001039505\n"
     ]
    }
   ],
   "source": [
    "accuracy_hist = []\n",
    "loss_hist = []\n",
    "val_accuracy_hist = []\n",
    "val_los_hist = []\n",
    "\n",
    "for epoch in range(N_EPOCHS):\n",
    "    training_cost = 0.0\n",
    "    training_correct = 0.0\n",
    "    validation_cost = 0.0\n",
    "    validation_correct = 0.0\n",
    "    for inputs, targets in train_loader:\n",
    "        optimizer.zero_grad()\n",
    "        predictions = model(inputs)\n",
    "        cost = loss_func(predictions, targets)\n",
    "        cost.backward()\n",
    "        optimizer.step()\n",
    "        training_cost += cost.item()\n",
    "        training_correct += (torch.argmax(predictions, dim=1) == targets).sum()\n",
    "    training_cost /= len(train_set)\n",
    "    training_correct /= len(train_set)\n",
    "    print(f'epoch: {epoch}, loss: {training_cost}, accuracy: {training_correct}')\n",
    "    accuracy_hist.append(training_correct)\n",
    "    loss_hist.append(training_cost)\n",
    "\n",
    "    with torch.no_grad():\n",
    "        for inputs, targets in val_loader:\n",
    "            predictions = model(inputs)\n",
    "            cost = loss_func(predictions, targets)\n",
    "            validation_cost += cost.item()\n",
    "            validation_correct += (torch.argmax(predictions, dim=1) == targets).sum()\n",
    "        validation_cost /= len(val_set)\n",
    "        validation_correct /= len(val_set)\n",
    "        print(f'Validation: loss: {validation_cost}, accuracy: {validation_correct}')\n",
    "        val_accuracy_hist.append(validation_correct)\n",
    "        val_los_hist.append(validation_cost)"
   ]
  },
  {
   "cell_type": "markdown",
   "metadata": {},
   "source": [
    "## Training Visualization"
   ]
  },
  {
   "cell_type": "code",
   "execution_count": 15,
   "metadata": {},
   "outputs": [
    {
     "data": {
      "image/png": "[encoded data removed]",
      "text/plain": [
       "<Figure size 1296x432 with 2 Axes>"
      ]
     },
     "metadata": {
      "needs_background": "light"
     },
     "output_type": "display_data"
    }
   ],
   "source": [
    "f = plt.figure(figsize=(18, 6))\n",
    "ax1 = f.add_subplot(121)\n",
    "ax2 = f.add_subplot(122)\n",
    "ax1.plot(accuracy_hist, label='Training')\n",
    "ax1.plot(val_accuracy_hist, label='Validation')\n",
    "ax1.title.set_text('Accuracy')\n",
    "ax1.legend()\n",
    "ax1.grid()\n",
    "ax2.plot(loss_hist, label='Training')\n",
    "ax2.plot(val_los_hist, label='Validation')\n",
    "ax2.title.set_text('Loss')\n",
    "ax2.legend()\n",
    "ax2.grid()"
   ]
  }
 ],
 "metadata": {
  "interpreter": {
   "hash": "a77e0c44eba510a7cc44ef7205295bb97273d712ef38e57931ce4147c03543f4"
  },
  "kernelspec": {
   "display_name": "Python 3.8.10 ('venv': venv)",
   "language": "python",
   "name": "python3"
  },
  "language_info": {
   "codemirror_mode": {
    "name": "ipython",
    "version": 3
   },
   "file_extension": ".py",
   "mimetype": "text/x-python",
   "name": "python",
   "nbconvert_exporter": "python",
   "pygments_lexer": "ipython3",
   "version": "3.8.10"
  },
  "orig_nbformat": 4
 },
 "nbformat": 4,
 "nbformat_minor": 2
}

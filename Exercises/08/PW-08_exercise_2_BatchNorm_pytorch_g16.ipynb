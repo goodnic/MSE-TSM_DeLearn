{
 "cells": [
  {
   "cell_type": "markdown",
   "metadata": {
    "id": "-207wqx7KS4E"
   },
   "source": [
    "**g16**\n",
    "- anderdav@students.zhaw.ch\n",
    "- goodnic1@students.zhaw.ch\n",
    "- janick.rueegger@students.fhnw.ch\n",
    "- neyerjoh@students.zhaw.ch"
   ]
  },
  {
   "cell_type": "markdown",
   "metadata": {},
   "source": [
    "# Exercise 2: Benefit of BatchNorm with CIFAR10 Classification"
   ]
  },
  {
   "cell_type": "code",
   "execution_count": 1,
   "metadata": {},
   "outputs": [],
   "source": [
    "from matplotlib import pyplot as plt\n",
    "from tqdm.notebook import tqdm\n",
    "from sklearn.metrics import confusion_matrix\n",
    "import torch\n",
    "from torch import nn, optim\n",
    "from torch.utils.data import DataLoader\n",
    "from torchvision import datasets\n",
    "from torchvision.transforms import ToTensor\n",
    "from torchinfo import summary\n",
    "import numpy as np"
   ]
  },
  {
   "cell_type": "code",
   "execution_count": 2,
   "metadata": {},
   "outputs": [
    {
     "name": "stdout",
     "output_type": "stream",
     "text": [
      "Files already downloaded and verified\n",
      "Files already downloaded and verified\n"
     ]
    }
   ],
   "source": [
    "Transform = ToTensor()\n",
    "\n",
    "train_data = datasets.CIFAR10(\n",
    "    root = \"../data\",\n",
    "    train = True,                         \n",
    "    transform = Transform, \n",
    "    download = True,            \n",
    ")\n",
    "\n",
    "test_data = datasets.CIFAR10(\n",
    "    root = \"../data\", \n",
    "    train = False, \n",
    "    transform = Transform,\n",
    "    download = True\n",
    ")"
   ]
  },
  {
   "cell_type": "code",
   "execution_count": 3,
   "metadata": {},
   "outputs": [],
   "source": [
    "batch_size = 128\n",
    "\n",
    "train_loader = DataLoader(train_data, batch_size=batch_size, shuffle=True)\n",
    "test_loader = DataLoader(test_data, batch_size=batch_size, shuffle=False)\n",
    "\n",
    "n_classes = len(train_data.classes)\n",
    "input_size = (train_loader.batch_size, *train_data[0][0].shape)"
   ]
  },
  {
   "cell_type": "code",
   "execution_count": 4,
   "metadata": {},
   "outputs": [],
   "source": [
    "def train(epoch, model, optimizer, criterion, data_loader, log_interval=200):\n",
    "    \n",
    "    model.train()\n",
    "    \n",
    "    total_train_loss = 0\n",
    "    total_correct = 0\n",
    "    \n",
    "    for batch_idx, (data, target) in enumerate(tqdm(data_loader, desc=f\"Training Epoch {epoch}\")):\n",
    "        \n",
    "        optimizer.zero_grad()\n",
    "        \n",
    "        output = model(data)\n",
    "        \n",
    "        loss = criterion(output, target)\n",
    "\n",
    "        loss.backward()\n",
    "        \n",
    "        optimizer.step()\n",
    "        \n",
    "        total_train_loss += loss.item()\n",
    "        \n",
    "        pred = output.argmax(dim=1)\n",
    "        \n",
    "        total_correct += torch.sum(pred == target).item()\n",
    "\n",
    "        if batch_idx % log_interval == 0:\n",
    "            print(\"Train Epoch: {} [{:5}/{:5} ({:2.0f}%)]\\tLoss: {:.6f}\".format(\n",
    "                epoch, batch_idx * len(data), len(data_loader.dataset),\n",
    "                100. * batch_idx / len(data_loader), loss.data.item()))\n",
    "\n",
    "    accuracy_train = total_correct / len(data_loader.dataset)\n",
    "\n",
    "    total_train_loss = total_train_loss / len(data_loader)\n",
    "\n",
    "    return {\n",
    "        \"loss\": total_train_loss,\n",
    "        \"accuracy\": accuracy_train,\n",
    "    }"
   ]
  },
  {
   "cell_type": "code",
   "execution_count": 5,
   "metadata": {},
   "outputs": [],
   "source": [
    "@torch.inference_mode()\n",
    "def validate(model, data_loader):\n",
    "   \n",
    "    model.eval()\n",
    "    \n",
    "    val_loss = 0\n",
    "    total_correct = 0\n",
    "    total_preds = []\n",
    "    total_targets = []\n",
    "    \n",
    "    for data, target in tqdm(data_loader, desc=\"Validation\"):\n",
    "        output = model(data)\n",
    "        val_loss += criterion(output, target).item()\n",
    "        \n",
    "        pred = output.argmax(dim=1)\n",
    "        total_correct += torch.sum(pred == target).item()\n",
    "        total_preds.append(pred.detach().cpu())\n",
    "        total_targets.append(target.cpu())\n",
    "\n",
    "    val_loss /= len(data_loader)\n",
    "    accuracy = total_correct / len(data_loader.dataset)\n",
    "    \n",
    "    print(\"Validation set: Average loss: {:.4f}, Accuracy: {:5}/{:5} ({:2.2f}%)\\n\".format(\n",
    "        val_loss, total_correct, len(data_loader.dataset), 100 * accuracy))\n",
    "    \n",
    "    return {\n",
    "        \"loss\": val_loss,\n",
    "        \"accuracy\": accuracy,\n",
    "        \"predictions\": torch.cat(total_preds),\n",
    "        \"targets\": torch.cat(total_targets),\n",
    "    }"
   ]
  },
  {
   "cell_type": "code",
   "execution_count": 6,
   "metadata": {},
   "outputs": [],
   "source": [
    "def train_eval_loop(optimizer, criterion, epochs=10):\n",
    "    train_losses = []\n",
    "    train_accuracies = []\n",
    "    val_losses = []\n",
    "    val_accuracies = []\n",
    "\n",
    "    for epoch in range(1, epochs + 1):\n",
    "        train_result = train(epoch, model, optimizer, criterion, train_loader)\n",
    "        train_losses.append(train_result[\"loss\"])\n",
    "        train_accuracies.append(train_result[\"accuracy\"])\n",
    "\n",
    "        val_result = validate(model, test_loader)\n",
    "        val_losses.append(val_result[\"loss\"])\n",
    "        val_accuracies.append(val_result[\"accuracy\"])\n",
    "    \n",
    "    return train_losses, train_accuracies, val_losses, val_accuracies"
   ]
  },
  {
   "cell_type": "code",
   "execution_count": 7,
   "metadata": {},
   "outputs": [],
   "source": [
    "def plot_performance(ax1, ax2, train_losses, train_accuracies, val_losses, val_accuracies, suffix=\"\"):\n",
    "    color = f\"C{len(ax1.lines) // 2}\"\n",
    "\n",
    "    ax1.set_title(\"loss\")\n",
    "    ax1.plot(train_losses, label=f\"{suffix} train\", linestyle=\"dashed\", color=color)\n",
    "    ax1.plot(val_losses, label=f\"{suffix} test\", color=color)\n",
    "    ax1.set_xlabel(\"epoch\")\n",
    "    ax1.legend()\n",
    "    ax1.grid()\n",
    "\n",
    "    ax2.set_title(\"accuracy\")\n",
    "    ax2.plot(train_accuracies, label=f\"{suffix} train\", linestyle=\"dashed\", color=color)\n",
    "    ax2.plot(val_accuracies, label=f\"{suffix} test\", color=color)\n",
    "    ax2.set_xlabel(\"epoch\")\n",
    "    ax2.legend()\n",
    "    ax2.grid()\n",
    "    \n",
    "def create_figure_and_plot_performance(results, suffix=\"\"):\n",
    "    f = plt.figure(figsize=(16,6))\n",
    "    ax1 = f.add_subplot(121)\n",
    "    ax2 = f.add_subplot(122)\n",
    "    plot_performance(ax1, ax2, *results, suffix)"
   ]
  },
  {
   "cell_type": "code",
   "execution_count": 8,
   "metadata": {},
   "outputs": [],
   "source": [
    "def get_model(activation_function, batchnorm=False, dropout=False):\n",
    "    model = nn.Sequential(\n",
    "        nn.Conv2d(\n",
    "            in_channels=3,\n",
    "            out_channels=32,\n",
    "            kernel_size=3,\n",
    "            padding=\"same\",\n",
    "            stride=1,\n",
    "        ),\n",
    "        nn.BatchNorm2d(32) if batchnorm else nn.Identity(),\n",
    "        activation_function(),\n",
    "        nn.MaxPool2d(2),\n",
    "        nn.Conv2d(\n",
    "            in_channels=32,\n",
    "            out_channels=64,\n",
    "            kernel_size=3,\n",
    "            padding=\"same\",\n",
    "            stride=1,\n",
    "        ),\n",
    "        nn.BatchNorm2d(64) if batchnorm else nn.Identity(),\n",
    "        activation_function(),\n",
    "        nn.MaxPool2d(2),\n",
    "        nn.Conv2d(\n",
    "            in_channels=64,\n",
    "            out_channels=128,\n",
    "            kernel_size=3,\n",
    "            padding=\"same\",\n",
    "            stride=1,\n",
    "        ),\n",
    "        nn.BatchNorm2d(128) if batchnorm else nn.Identity(),\n",
    "        activation_function(),\n",
    "        nn.MaxPool2d(2),\n",
    "        nn.Flatten(),\n",
    "        nn.Dropout(.2) if dropout else nn.Identity(),\n",
    "        nn.Linear(32*32 * 128 // 4 // 4 // 4, 64),\n",
    "        nn.BatchNorm1d(64) if batchnorm else nn.Identity(),\n",
    "        activation_function(),\n",
    "        nn.Dropout(.2) if dropout else nn.Identity(),\n",
    "        nn.Linear(64, n_classes),\n",
    "        # nn.Softmax(dim=0) # not needed when crossentropyloss is used\n",
    "    )\n",
    "    return model, optim.Adam(model.parameters())\n",
    "\n",
    "criterion = nn.CrossEntropyLoss()"
   ]
  },
  {
   "cell_type": "markdown",
   "metadata": {},
   "source": [
    "## a) base"
   ]
  },
  {
   "cell_type": "code",
   "execution_count": 9,
   "metadata": {},
   "outputs": [
    {
     "data": {
      "text/plain": [
       "==========================================================================================\n",
       "Layer (type:depth-idx)                   Output Shape              Param #\n",
       "==========================================================================================\n",
       "Sequential                               --                        --\n",
       "├─Conv2d: 1-1                            [128, 32, 32, 32]         896\n",
       "├─Identity: 1-2                          [128, 32, 32, 32]         --\n",
       "├─ReLU: 1-3                              [128, 32, 32, 32]         --\n",
       "├─MaxPool2d: 1-4                         [128, 32, 16, 16]         --\n",
       "├─Conv2d: 1-5                            [128, 64, 16, 16]         18,496\n",
       "├─Identity: 1-6                          [128, 64, 16, 16]         --\n",
       "├─ReLU: 1-7                              [128, 64, 16, 16]         --\n",
       "├─MaxPool2d: 1-8                         [128, 64, 8, 8]           --\n",
       "├─Conv2d: 1-9                            [128, 128, 8, 8]          73,856\n",
       "├─Identity: 1-10                         [128, 128, 8, 8]          --\n",
       "├─ReLU: 1-11                             [128, 128, 8, 8]          --\n",
       "├─MaxPool2d: 1-12                        [128, 128, 4, 4]          --\n",
       "├─Flatten: 1-13                          [128, 2048]               --\n",
       "├─Identity: 1-14                         [128, 2048]               --\n",
       "├─Linear: 1-15                           [128, 64]                 131,136\n",
       "├─Identity: 1-16                         [128, 64]                 --\n",
       "├─ReLU: 1-17                             [128, 64]                 --\n",
       "├─Identity: 1-18                         [128, 64]                 --\n",
       "├─Linear: 1-19                           [128, 10]                 650\n",
       "==========================================================================================\n",
       "Total params: 225,034\n",
       "Trainable params: 225,034\n",
       "Non-trainable params: 0\n",
       "Total mult-adds (G): 1.35\n",
       "==========================================================================================\n",
       "Input size (MB): 1.57\n",
       "Forward/backward pass size (MB): 58.80\n",
       "Params size (MB): 0.90\n",
       "Estimated Total Size (MB): 61.27\n",
       "=========================================================================================="
      ]
     },
     "execution_count": 9,
     "metadata": {},
     "output_type": "execute_result"
    }
   ],
   "source": [
    "model, optimizer = get_model(activation_function=nn.ReLU)\n",
    "summary(model, input_size=input_size)"
   ]
  },
  {
   "cell_type": "markdown",
   "metadata": {},
   "source": [
    "## b) relu"
   ]
  },
  {
   "cell_type": "code",
   "execution_count": 10,
   "metadata": {},
   "outputs": [
    {
     "data": {
      "application/vnd.jupyter.widget-view+json": {
       "model_id": "c0a269e7b04c4d2b9cf786c5022db064",
       "version_major": 2,
       "version_minor": 0
      },
      "text/plain": [
       "Training Epoch 1:   0%|          | 0/391 [00:00<?, ?it/s]"
      ]
     },
     "metadata": {},
     "output_type": "display_data"
    },
    {
     "name": "stdout",
     "output_type": "stream",
     "text": [
      "Train Epoch: 1 [    0/50000 ( 0%)]\tLoss: 2.306288\n",
      "Train Epoch: 1 [25600/50000 (51%)]\tLoss: 1.570907\n"
     ]
    },
    {
     "data": {
      "application/vnd.jupyter.widget-view+json": {
       "model_id": "131d691e851d4620be07c2d34d050c18",
       "version_major": 2,
       "version_minor": 0
      },
      "text/plain": [
       "Validation:   0%|          | 0/79 [00:00<?, ?it/s]"
      ]
     },
     "metadata": {},
     "output_type": "display_data"
    },
    {
     "name": "stdout",
     "output_type": "stream",
     "text": [
      "Validation set: Average loss: 1.3412, Accuracy:  5183/10000 (51.83%)\n",
      "\n"
     ]
    },
    {
     "data": {
      "application/vnd.jupyter.widget-view+json": {
       "model_id": "e072fddda0ea4679a1de5002be2f43e9",
       "version_major": 2,
       "version_minor": 0
      },
      "text/plain": [
       "Training Epoch 2:   0%|          | 0/391 [00:00<?, ?it/s]"
      ]
     },
     "metadata": {},
     "output_type": "display_data"
    },
    {
     "name": "stdout",
     "output_type": "stream",
     "text": [
      "Train Epoch: 2 [    0/50000 ( 0%)]\tLoss: 1.448188\n",
      "Train Epoch: 2 [25600/50000 (51%)]\tLoss: 1.293167\n"
     ]
    },
    {
     "data": {
      "application/vnd.jupyter.widget-view+json": {
       "model_id": "a78a3f1fdc3b484bb775ab96a06d8b08",
       "version_major": 2,
       "version_minor": 0
      },
      "text/plain": [
       "Validation:   0%|          | 0/79 [00:00<?, ?it/s]"
      ]
     },
     "metadata": {},
     "output_type": "display_data"
    },
    {
     "name": "stdout",
     "output_type": "stream",
     "text": [
      "Validation set: Average loss: 1.1619, Accuracy:  5880/10000 (58.80%)\n",
      "\n"
     ]
    },
    {
     "data": {
      "application/vnd.jupyter.widget-view+json": {
       "model_id": "1bebf99e82af42c08ec4f70dc70024fe",
       "version_major": 2,
       "version_minor": 0
      },
      "text/plain": [
       "Training Epoch 3:   0%|          | 0/391 [00:00<?, ?it/s]"
      ]
     },
     "metadata": {},
     "output_type": "display_data"
    },
    {
     "name": "stdout",
     "output_type": "stream",
     "text": [
      "Train Epoch: 3 [    0/50000 ( 0%)]\tLoss: 0.870675\n",
      "Train Epoch: 3 [25600/50000 (51%)]\tLoss: 1.196110\n"
     ]
    },
    {
     "data": {
      "application/vnd.jupyter.widget-view+json": {
       "model_id": "2bd516a6bb7a4ae7a98d359ab1edeb27",
       "version_major": 2,
       "version_minor": 0
      },
      "text/plain": [
       "Validation:   0%|          | 0/79 [00:00<?, ?it/s]"
      ]
     },
     "metadata": {},
     "output_type": "display_data"
    },
    {
     "name": "stdout",
     "output_type": "stream",
     "text": [
      "Validation set: Average loss: 1.0525, Accuracy:  6287/10000 (62.87%)\n",
      "\n"
     ]
    },
    {
     "data": {
      "application/vnd.jupyter.widget-view+json": {
       "model_id": "e1272f5e97e04b2db78afffe08797bfe",
       "version_major": 2,
       "version_minor": 0
      },
      "text/plain": [
       "Training Epoch 4:   0%|          | 0/391 [00:00<?, ?it/s]"
      ]
     },
     "metadata": {},
     "output_type": "display_data"
    },
    {
     "name": "stdout",
     "output_type": "stream",
     "text": [
      "Train Epoch: 4 [    0/50000 ( 0%)]\tLoss: 0.934931\n",
      "Train Epoch: 4 [25600/50000 (51%)]\tLoss: 0.920513\n"
     ]
    },
    {
     "data": {
      "application/vnd.jupyter.widget-view+json": {
       "model_id": "532200ffe2164eae9fa24d9fd473b87d",
       "version_major": 2,
       "version_minor": 0
      },
      "text/plain": [
       "Validation:   0%|          | 0/79 [00:00<?, ?it/s]"
      ]
     },
     "metadata": {},
     "output_type": "display_data"
    },
    {
     "name": "stdout",
     "output_type": "stream",
     "text": [
      "Validation set: Average loss: 0.9938, Accuracy:  6493/10000 (64.93%)\n",
      "\n"
     ]
    },
    {
     "data": {
      "application/vnd.jupyter.widget-view+json": {
       "model_id": "393dca6aadfa4163b38b3e8e465a1d88",
       "version_major": 2,
       "version_minor": 0
      },
      "text/plain": [
       "Training Epoch 5:   0%|          | 0/391 [00:00<?, ?it/s]"
      ]
     },
     "metadata": {},
     "output_type": "display_data"
    },
    {
     "name": "stdout",
     "output_type": "stream",
     "text": [
      "Train Epoch: 5 [    0/50000 ( 0%)]\tLoss: 1.033007\n",
      "Train Epoch: 5 [25600/50000 (51%)]\tLoss: 0.776558\n"
     ]
    },
    {
     "data": {
      "application/vnd.jupyter.widget-view+json": {
       "model_id": "c6e81048fd2a4badb27182ee4409342c",
       "version_major": 2,
       "version_minor": 0
      },
      "text/plain": [
       "Validation:   0%|          | 0/79 [00:00<?, ?it/s]"
      ]
     },
     "metadata": {},
     "output_type": "display_data"
    },
    {
     "name": "stdout",
     "output_type": "stream",
     "text": [
      "Validation set: Average loss: 0.9096, Accuracy:  6815/10000 (68.15%)\n",
      "\n"
     ]
    },
    {
     "data": {
      "application/vnd.jupyter.widget-view+json": {
       "model_id": "4ed7e8693e364c50a2fceef5cf0a93b8",
       "version_major": 2,
       "version_minor": 0
      },
      "text/plain": [
       "Training Epoch 6:   0%|          | 0/391 [00:00<?, ?it/s]"
      ]
     },
     "metadata": {},
     "output_type": "display_data"
    },
    {
     "name": "stdout",
     "output_type": "stream",
     "text": [
      "Train Epoch: 6 [    0/50000 ( 0%)]\tLoss: 0.704647\n",
      "Train Epoch: 6 [25600/50000 (51%)]\tLoss: 0.826326\n"
     ]
    },
    {
     "data": {
      "application/vnd.jupyter.widget-view+json": {
       "model_id": "cd591a907d7c44db91ab9595f1e6fbd2",
       "version_major": 2,
       "version_minor": 0
      },
      "text/plain": [
       "Validation:   0%|          | 0/79 [00:00<?, ?it/s]"
      ]
     },
     "metadata": {},
     "output_type": "display_data"
    },
    {
     "name": "stdout",
     "output_type": "stream",
     "text": [
      "Validation set: Average loss: 0.8595, Accuracy:  7051/10000 (70.51%)\n",
      "\n"
     ]
    },
    {
     "data": {
      "application/vnd.jupyter.widget-view+json": {
       "model_id": "41a5fc7da21a4974a9be490e80a596d4",
       "version_major": 2,
       "version_minor": 0
      },
      "text/plain": [
       "Training Epoch 7:   0%|          | 0/391 [00:00<?, ?it/s]"
      ]
     },
     "metadata": {},
     "output_type": "display_data"
    },
    {
     "name": "stdout",
     "output_type": "stream",
     "text": [
      "Train Epoch: 7 [    0/50000 ( 0%)]\tLoss: 0.573992\n",
      "Train Epoch: 7 [25600/50000 (51%)]\tLoss: 0.772998\n"
     ]
    },
    {
     "data": {
      "application/vnd.jupyter.widget-view+json": {
       "model_id": "9255df582dbd48828d18c96fb2fa4c1c",
       "version_major": 2,
       "version_minor": 0
      },
      "text/plain": [
       "Validation:   0%|          | 0/79 [00:00<?, ?it/s]"
      ]
     },
     "metadata": {},
     "output_type": "display_data"
    },
    {
     "name": "stdout",
     "output_type": "stream",
     "text": [
      "Validation set: Average loss: 0.8245, Accuracy:  7150/10000 (71.50%)\n",
      "\n"
     ]
    },
    {
     "data": {
      "application/vnd.jupyter.widget-view+json": {
       "model_id": "54f9709091b54396b46f0d4d7bfc8676",
       "version_major": 2,
       "version_minor": 0
      },
      "text/plain": [
       "Training Epoch 8:   0%|          | 0/391 [00:00<?, ?it/s]"
      ]
     },
     "metadata": {},
     "output_type": "display_data"
    },
    {
     "name": "stdout",
     "output_type": "stream",
     "text": [
      "Train Epoch: 8 [    0/50000 ( 0%)]\tLoss: 0.528811\n",
      "Train Epoch: 8 [25600/50000 (51%)]\tLoss: 0.531583\n"
     ]
    },
    {
     "data": {
      "application/vnd.jupyter.widget-view+json": {
       "model_id": "d32dfdf4ff3143df98e921ab182bbcf2",
       "version_major": 2,
       "version_minor": 0
      },
      "text/plain": [
       "Validation:   0%|          | 0/79 [00:00<?, ?it/s]"
      ]
     },
     "metadata": {},
     "output_type": "display_data"
    },
    {
     "name": "stdout",
     "output_type": "stream",
     "text": [
      "Validation set: Average loss: 0.8651, Accuracy:  7052/10000 (70.52%)\n",
      "\n"
     ]
    },
    {
     "data": {
      "application/vnd.jupyter.widget-view+json": {
       "model_id": "9cb4672689a24eb3b5572814a1f2899f",
       "version_major": 2,
       "version_minor": 0
      },
      "text/plain": [
       "Training Epoch 9:   0%|          | 0/391 [00:00<?, ?it/s]"
      ]
     },
     "metadata": {},
     "output_type": "display_data"
    },
    {
     "name": "stdout",
     "output_type": "stream",
     "text": [
      "Train Epoch: 9 [    0/50000 ( 0%)]\tLoss: 0.847138\n",
      "Train Epoch: 9 [25600/50000 (51%)]\tLoss: 0.668488\n"
     ]
    },
    {
     "data": {
      "application/vnd.jupyter.widget-view+json": {
       "model_id": "de4db71d7e554a80b5ede7d80fd06194",
       "version_major": 2,
       "version_minor": 0
      },
      "text/plain": [
       "Validation:   0%|          | 0/79 [00:00<?, ?it/s]"
      ]
     },
     "metadata": {},
     "output_type": "display_data"
    },
    {
     "name": "stdout",
     "output_type": "stream",
     "text": [
      "Validation set: Average loss: 0.7815, Accuracy:  7354/10000 (73.54%)\n",
      "\n"
     ]
    },
    {
     "data": {
      "application/vnd.jupyter.widget-view+json": {
       "model_id": "03600b3b02f7422aa2bb10247934745f",
       "version_major": 2,
       "version_minor": 0
      },
      "text/plain": [
       "Training Epoch 10:   0%|          | 0/391 [00:00<?, ?it/s]"
      ]
     },
     "metadata": {},
     "output_type": "display_data"
    },
    {
     "name": "stdout",
     "output_type": "stream",
     "text": [
      "Train Epoch: 10 [    0/50000 ( 0%)]\tLoss: 0.726341\n",
      "Train Epoch: 10 [25600/50000 (51%)]\tLoss: 0.676472\n"
     ]
    },
    {
     "data": {
      "application/vnd.jupyter.widget-view+json": {
       "model_id": "69f1da0c88794c3b81a03039824c6888",
       "version_major": 2,
       "version_minor": 0
      },
      "text/plain": [
       "Validation:   0%|          | 0/79 [00:00<?, ?it/s]"
      ]
     },
     "metadata": {},
     "output_type": "display_data"
    },
    {
     "name": "stdout",
     "output_type": "stream",
     "text": [
      "Validation set: Average loss: 0.8242, Accuracy:  7228/10000 (72.28%)\n",
      "\n"
     ]
    },
    {
     "data": {
      "image/png": "[encoded data removed]",
      "text/plain": [
       "<Figure size 1152x432 with 2 Axes>"
      ]
     },
     "metadata": {
      "needs_background": "light"
     },
     "output_type": "display_data"
    }
   ],
   "source": [
    "results_b = train_eval_loop(optimizer, criterion)\n",
    "create_figure_and_plot_performance(results_b)"
   ]
  },
  {
   "cell_type": "markdown",
   "metadata": {},
   "source": [
    "## c) tanh"
   ]
  },
  {
   "cell_type": "code",
   "execution_count": 11,
   "metadata": {},
   "outputs": [
    {
     "data": {
      "text/plain": [
       "==========================================================================================\n",
       "Layer (type:depth-idx)                   Output Shape              Param #\n",
       "==========================================================================================\n",
       "Sequential                               --                        --\n",
       "├─Conv2d: 1-1                            [128, 32, 32, 32]         896\n",
       "├─Identity: 1-2                          [128, 32, 32, 32]         --\n",
       "├─Tanh: 1-3                              [128, 32, 32, 32]         --\n",
       "├─MaxPool2d: 1-4                         [128, 32, 16, 16]         --\n",
       "├─Conv2d: 1-5                            [128, 64, 16, 16]         18,496\n",
       "├─Identity: 1-6                          [128, 64, 16, 16]         --\n",
       "├─Tanh: 1-7                              [128, 64, 16, 16]         --\n",
       "├─MaxPool2d: 1-8                         [128, 64, 8, 8]           --\n",
       "├─Conv2d: 1-9                            [128, 128, 8, 8]          73,856\n",
       "├─Identity: 1-10                         [128, 128, 8, 8]          --\n",
       "├─Tanh: 1-11                             [128, 128, 8, 8]          --\n",
       "├─MaxPool2d: 1-12                        [128, 128, 4, 4]          --\n",
       "├─Flatten: 1-13                          [128, 2048]               --\n",
       "├─Identity: 1-14                         [128, 2048]               --\n",
       "├─Linear: 1-15                           [128, 64]                 131,136\n",
       "├─Identity: 1-16                         [128, 64]                 --\n",
       "├─Tanh: 1-17                             [128, 64]                 --\n",
       "├─Identity: 1-18                         [128, 64]                 --\n",
       "├─Linear: 1-19                           [128, 10]                 650\n",
       "==========================================================================================\n",
       "Total params: 225,034\n",
       "Trainable params: 225,034\n",
       "Non-trainable params: 0\n",
       "Total mult-adds (G): 1.35\n",
       "==========================================================================================\n",
       "Input size (MB): 1.57\n",
       "Forward/backward pass size (MB): 58.80\n",
       "Params size (MB): 0.90\n",
       "Estimated Total Size (MB): 61.27\n",
       "=========================================================================================="
      ]
     },
     "execution_count": 11,
     "metadata": {},
     "output_type": "execute_result"
    }
   ],
   "source": [
    "model, optimizer = get_model(activation_function=nn.Tanh)\n",
    "summary(model, input_size=input_size)"
   ]
  },
  {
   "cell_type": "code",
   "execution_count": 12,
   "metadata": {},
   "outputs": [
    {
     "data": {
      "application/vnd.jupyter.widget-view+json": {
       "model_id": "667997a497094d3092e3066e9cd4659c",
       "version_major": 2,
       "version_minor": 0
      },
      "text/plain": [
       "Training Epoch 1:   0%|          | 0/391 [00:00<?, ?it/s]"
      ]
     },
     "metadata": {},
     "output_type": "display_data"
    },
    {
     "name": "stdout",
     "output_type": "stream",
     "text": [
      "Train Epoch: 1 [    0/50000 ( 0%)]\tLoss: 2.300945\n",
      "Train Epoch: 1 [25600/50000 (51%)]\tLoss: 1.621481\n"
     ]
    },
    {
     "data": {
      "application/vnd.jupyter.widget-view+json": {
       "model_id": "b0a735ab29d64e409983986ef8517985",
       "version_major": 2,
       "version_minor": 0
      },
      "text/plain": [
       "Validation:   0%|          | 0/79 [00:00<?, ?it/s]"
      ]
     },
     "metadata": {},
     "output_type": "display_data"
    },
    {
     "name": "stdout",
     "output_type": "stream",
     "text": [
      "Validation set: Average loss: 1.1773, Accuracy:  5893/10000 (58.93%)\n",
      "\n"
     ]
    },
    {
     "data": {
      "application/vnd.jupyter.widget-view+json": {
       "model_id": "f6f5409c82a64b2eb8e52e1967d887cc",
       "version_major": 2,
       "version_minor": 0
      },
      "text/plain": [
       "Training Epoch 2:   0%|          | 0/391 [00:00<?, ?it/s]"
      ]
     },
     "metadata": {},
     "output_type": "display_data"
    },
    {
     "name": "stdout",
     "output_type": "stream",
     "text": [
      "Train Epoch: 2 [    0/50000 ( 0%)]\tLoss: 1.081043\n",
      "Train Epoch: 2 [25600/50000 (51%)]\tLoss: 0.932051\n"
     ]
    },
    {
     "data": {
      "application/vnd.jupyter.widget-view+json": {
       "model_id": "81f58a1883794898a6a163c739a6eb30",
       "version_major": 2,
       "version_minor": 0
      },
      "text/plain": [
       "Validation:   0%|          | 0/79 [00:00<?, ?it/s]"
      ]
     },
     "metadata": {},
     "output_type": "display_data"
    },
    {
     "name": "stdout",
     "output_type": "stream",
     "text": [
      "Validation set: Average loss: 1.0179, Accuracy:  6457/10000 (64.57%)\n",
      "\n"
     ]
    },
    {
     "data": {
      "application/vnd.jupyter.widget-view+json": {
       "model_id": "c3d42a787d1344f981de9f621902753e",
       "version_major": 2,
       "version_minor": 0
      },
      "text/plain": [
       "Training Epoch 3:   0%|          | 0/391 [00:00<?, ?it/s]"
      ]
     },
     "metadata": {},
     "output_type": "display_data"
    },
    {
     "name": "stdout",
     "output_type": "stream",
     "text": [
      "Train Epoch: 3 [    0/50000 ( 0%)]\tLoss: 0.912220\n",
      "Train Epoch: 3 [25600/50000 (51%)]\tLoss: 0.960815\n"
     ]
    },
    {
     "data": {
      "application/vnd.jupyter.widget-view+json": {
       "model_id": "d89a7aa38658460ca10ab63e7a4df8cf",
       "version_major": 2,
       "version_minor": 0
      },
      "text/plain": [
       "Validation:   0%|          | 0/79 [00:00<?, ?it/s]"
      ]
     },
     "metadata": {},
     "output_type": "display_data"
    },
    {
     "name": "stdout",
     "output_type": "stream",
     "text": [
      "Validation set: Average loss: 0.9433, Accuracy:  6751/10000 (67.51%)\n",
      "\n"
     ]
    },
    {
     "data": {
      "application/vnd.jupyter.widget-view+json": {
       "model_id": "4d188177e7f644cc865a870010806cf5",
       "version_major": 2,
       "version_minor": 0
      },
      "text/plain": [
       "Training Epoch 4:   0%|          | 0/391 [00:00<?, ?it/s]"
      ]
     },
     "metadata": {},
     "output_type": "display_data"
    },
    {
     "name": "stdout",
     "output_type": "stream",
     "text": [
      "Train Epoch: 4 [    0/50000 ( 0%)]\tLoss: 0.848275\n",
      "Train Epoch: 4 [25600/50000 (51%)]\tLoss: 0.874799\n"
     ]
    },
    {
     "data": {
      "application/vnd.jupyter.widget-view+json": {
       "model_id": "32d6aa63040a4752a20d2902a7c315c6",
       "version_major": 2,
       "version_minor": 0
      },
      "text/plain": [
       "Validation:   0%|          | 0/79 [00:00<?, ?it/s]"
      ]
     },
     "metadata": {},
     "output_type": "display_data"
    },
    {
     "name": "stdout",
     "output_type": "stream",
     "text": [
      "Validation set: Average loss: 0.9159, Accuracy:  6823/10000 (68.23%)\n",
      "\n"
     ]
    },
    {
     "data": {
      "application/vnd.jupyter.widget-view+json": {
       "model_id": "512eaedafa374267b94d7dda32da2a3f",
       "version_major": 2,
       "version_minor": 0
      },
      "text/plain": [
       "Training Epoch 5:   0%|          | 0/391 [00:00<?, ?it/s]"
      ]
     },
     "metadata": {},
     "output_type": "display_data"
    },
    {
     "name": "stdout",
     "output_type": "stream",
     "text": [
      "Train Epoch: 5 [    0/50000 ( 0%)]\tLoss: 0.760384\n",
      "Train Epoch: 5 [25600/50000 (51%)]\tLoss: 0.771466\n"
     ]
    },
    {
     "data": {
      "application/vnd.jupyter.widget-view+json": {
       "model_id": "2046af06e4aa49bfaba85dfc02a0a737",
       "version_major": 2,
       "version_minor": 0
      },
      "text/plain": [
       "Validation:   0%|          | 0/79 [00:00<?, ?it/s]"
      ]
     },
     "metadata": {},
     "output_type": "display_data"
    },
    {
     "name": "stdout",
     "output_type": "stream",
     "text": [
      "Validation set: Average loss: 0.8952, Accuracy:  6924/10000 (69.24%)\n",
      "\n"
     ]
    },
    {
     "data": {
      "application/vnd.jupyter.widget-view+json": {
       "model_id": "cef402afb4b14c0f8c92884c49d6cd41",
       "version_major": 2,
       "version_minor": 0
      },
      "text/plain": [
       "Training Epoch 6:   0%|          | 0/391 [00:00<?, ?it/s]"
      ]
     },
     "metadata": {},
     "output_type": "display_data"
    },
    {
     "name": "stdout",
     "output_type": "stream",
     "text": [
      "Train Epoch: 6 [    0/50000 ( 0%)]\tLoss: 0.665409\n",
      "Train Epoch: 6 [25600/50000 (51%)]\tLoss: 0.683735\n"
     ]
    },
    {
     "data": {
      "application/vnd.jupyter.widget-view+json": {
       "model_id": "c0f0cdf26520428286b560f0fa12f566",
       "version_major": 2,
       "version_minor": 0
      },
      "text/plain": [
       "Validation:   0%|          | 0/79 [00:00<?, ?it/s]"
      ]
     },
     "metadata": {},
     "output_type": "display_data"
    },
    {
     "name": "stdout",
     "output_type": "stream",
     "text": [
      "Validation set: Average loss: 0.8564, Accuracy:  7095/10000 (70.95%)\n",
      "\n"
     ]
    },
    {
     "data": {
      "application/vnd.jupyter.widget-view+json": {
       "model_id": "5d960d81b9b646ec9441c36e8db50dcc",
       "version_major": 2,
       "version_minor": 0
      },
      "text/plain": [
       "Training Epoch 7:   0%|          | 0/391 [00:00<?, ?it/s]"
      ]
     },
     "metadata": {},
     "output_type": "display_data"
    },
    {
     "name": "stdout",
     "output_type": "stream",
     "text": [
      "Train Epoch: 7 [    0/50000 ( 0%)]\tLoss: 0.595122\n",
      "Train Epoch: 7 [25600/50000 (51%)]\tLoss: 0.489941\n"
     ]
    },
    {
     "data": {
      "application/vnd.jupyter.widget-view+json": {
       "model_id": "64822d0321a54fd8977eb899aed071e1",
       "version_major": 2,
       "version_minor": 0
      },
      "text/plain": [
       "Validation:   0%|          | 0/79 [00:00<?, ?it/s]"
      ]
     },
     "metadata": {},
     "output_type": "display_data"
    },
    {
     "name": "stdout",
     "output_type": "stream",
     "text": [
      "Validation set: Average loss: 0.8363, Accuracy:  7143/10000 (71.43%)\n",
      "\n"
     ]
    },
    {
     "data": {
      "application/vnd.jupyter.widget-view+json": {
       "model_id": "8ee2cafb363a41c999b47cfe5a083aa0",
       "version_major": 2,
       "version_minor": 0
      },
      "text/plain": [
       "Training Epoch 8:   0%|          | 0/391 [00:00<?, ?it/s]"
      ]
     },
     "metadata": {},
     "output_type": "display_data"
    },
    {
     "name": "stdout",
     "output_type": "stream",
     "text": [
      "Train Epoch: 8 [    0/50000 ( 0%)]\tLoss: 0.505117\n",
      "Train Epoch: 8 [25600/50000 (51%)]\tLoss: 0.515214\n"
     ]
    },
    {
     "data": {
      "application/vnd.jupyter.widget-view+json": {
       "model_id": "1c022b149be242f88712537f05fb555c",
       "version_major": 2,
       "version_minor": 0
      },
      "text/plain": [
       "Validation:   0%|          | 0/79 [00:00<?, ?it/s]"
      ]
     },
     "metadata": {},
     "output_type": "display_data"
    },
    {
     "name": "stdout",
     "output_type": "stream",
     "text": [
      "Validation set: Average loss: 0.8385, Accuracy:  7242/10000 (72.42%)\n",
      "\n"
     ]
    },
    {
     "data": {
      "application/vnd.jupyter.widget-view+json": {
       "model_id": "9b5f37e7624447379cf37968c37e7c66",
       "version_major": 2,
       "version_minor": 0
      },
      "text/plain": [
       "Training Epoch 9:   0%|          | 0/391 [00:00<?, ?it/s]"
      ]
     },
     "metadata": {},
     "output_type": "display_data"
    },
    {
     "name": "stdout",
     "output_type": "stream",
     "text": [
      "Train Epoch: 9 [    0/50000 ( 0%)]\tLoss: 0.482754\n",
      "Train Epoch: 9 [25600/50000 (51%)]\tLoss: 0.559194\n"
     ]
    },
    {
     "data": {
      "application/vnd.jupyter.widget-view+json": {
       "model_id": "02916c102c674ebbb9ea40ac70093dd0",
       "version_major": 2,
       "version_minor": 0
      },
      "text/plain": [
       "Validation:   0%|          | 0/79 [00:00<?, ?it/s]"
      ]
     },
     "metadata": {},
     "output_type": "display_data"
    },
    {
     "name": "stdout",
     "output_type": "stream",
     "text": [
      "Validation set: Average loss: 0.8649, Accuracy:  7175/10000 (71.75%)\n",
      "\n"
     ]
    },
    {
     "data": {
      "application/vnd.jupyter.widget-view+json": {
       "model_id": "e290e728eb3d47d9a576e2931b7ef713",
       "version_major": 2,
       "version_minor": 0
      },
      "text/plain": [
       "Training Epoch 10:   0%|          | 0/391 [00:00<?, ?it/s]"
      ]
     },
     "metadata": {},
     "output_type": "display_data"
    },
    {
     "name": "stdout",
     "output_type": "stream",
     "text": [
      "Train Epoch: 10 [    0/50000 ( 0%)]\tLoss: 0.434095\n",
      "Train Epoch: 10 [25600/50000 (51%)]\tLoss: 0.465580\n"
     ]
    },
    {
     "data": {
      "application/vnd.jupyter.widget-view+json": {
       "model_id": "13fcd13b4ace4773ad1a434325e75bcb",
       "version_major": 2,
       "version_minor": 0
      },
      "text/plain": [
       "Validation:   0%|          | 0/79 [00:00<?, ?it/s]"
      ]
     },
     "metadata": {},
     "output_type": "display_data"
    },
    {
     "name": "stdout",
     "output_type": "stream",
     "text": [
      "Validation set: Average loss: 0.8779, Accuracy:  7182/10000 (71.82%)\n",
      "\n"
     ]
    },
    {
     "data": {
      "image/png": "[encoded data removed]",
      "text/plain": [
       "<Figure size 1152x432 with 2 Axes>"
      ]
     },
     "metadata": {
      "needs_background": "light"
     },
     "output_type": "display_data"
    }
   ],
   "source": [
    "results_c = train_eval_loop(optimizer, criterion)\n",
    "create_figure_and_plot_performance(results_c)"
   ]
  },
  {
   "cell_type": "markdown",
   "metadata": {},
   "source": [
    "## d) batchnorm"
   ]
  },
  {
   "cell_type": "code",
   "execution_count": 13,
   "metadata": {},
   "outputs": [
    {
     "data": {
      "text/plain": [
       "==========================================================================================\n",
       "Layer (type:depth-idx)                   Output Shape              Param #\n",
       "==========================================================================================\n",
       "Sequential                               --                        --\n",
       "├─Conv2d: 1-1                            [128, 32, 32, 32]         896\n",
       "├─BatchNorm2d: 1-2                       [128, 32, 32, 32]         64\n",
       "├─ReLU: 1-3                              [128, 32, 32, 32]         --\n",
       "├─MaxPool2d: 1-4                         [128, 32, 16, 16]         --\n",
       "├─Conv2d: 1-5                            [128, 64, 16, 16]         18,496\n",
       "├─BatchNorm2d: 1-6                       [128, 64, 16, 16]         128\n",
       "├─ReLU: 1-7                              [128, 64, 16, 16]         --\n",
       "├─MaxPool2d: 1-8                         [128, 64, 8, 8]           --\n",
       "├─Conv2d: 1-9                            [128, 128, 8, 8]          73,856\n",
       "├─BatchNorm2d: 1-10                      [128, 128, 8, 8]          256\n",
       "├─ReLU: 1-11                             [128, 128, 8, 8]          --\n",
       "├─MaxPool2d: 1-12                        [128, 128, 4, 4]          --\n",
       "├─Flatten: 1-13                          [128, 2048]               --\n",
       "├─Identity: 1-14                         [128, 2048]               --\n",
       "├─Linear: 1-15                           [128, 64]                 131,136\n",
       "├─BatchNorm1d: 1-16                      [128, 64]                 128\n",
       "├─ReLU: 1-17                             [128, 64]                 --\n",
       "├─Identity: 1-18                         [128, 64]                 --\n",
       "├─Linear: 1-19                           [128, 10]                 650\n",
       "==========================================================================================\n",
       "Total params: 225,610\n",
       "Trainable params: 225,610\n",
       "Non-trainable params: 0\n",
       "Total mult-adds (G): 1.35\n",
       "==========================================================================================\n",
       "Input size (MB): 1.57\n",
       "Forward/backward pass size (MB): 117.58\n",
       "Params size (MB): 0.90\n",
       "Estimated Total Size (MB): 120.06\n",
       "=========================================================================================="
      ]
     },
     "execution_count": 13,
     "metadata": {},
     "output_type": "execute_result"
    }
   ],
   "source": [
    "model, optimizer = get_model(activation_function=nn.ReLU, batchnorm=True)\n",
    "summary(model, input_size=input_size)"
   ]
  },
  {
   "cell_type": "code",
   "execution_count": 14,
   "metadata": {},
   "outputs": [
    {
     "data": {
      "application/vnd.jupyter.widget-view+json": {
       "model_id": "10f5278f84624e77b8265a0fc33a04aa",
       "version_major": 2,
       "version_minor": 0
      },
      "text/plain": [
       "Training Epoch 1:   0%|          | 0/391 [00:00<?, ?it/s]"
      ]
     },
     "metadata": {},
     "output_type": "display_data"
    },
    {
     "name": "stdout",
     "output_type": "stream",
     "text": [
      "Train Epoch: 1 [    0/50000 ( 0%)]\tLoss: 2.403860\n",
      "Train Epoch: 1 [25600/50000 (51%)]\tLoss: 1.121209\n"
     ]
    },
    {
     "data": {
      "application/vnd.jupyter.widget-view+json": {
       "model_id": "56c7513f885c4d42bd418aeed00bb1c2",
       "version_major": 2,
       "version_minor": 0
      },
      "text/plain": [
       "Validation:   0%|          | 0/79 [00:00<?, ?it/s]"
      ]
     },
     "metadata": {},
     "output_type": "display_data"
    },
    {
     "name": "stdout",
     "output_type": "stream",
     "text": [
      "Validation set: Average loss: 1.1009, Accuracy:  6147/10000 (61.47%)\n",
      "\n"
     ]
    },
    {
     "data": {
      "application/vnd.jupyter.widget-view+json": {
       "model_id": "37a49b05b5f14a1ab3e275abf2eb6683",
       "version_major": 2,
       "version_minor": 0
      },
      "text/plain": [
       "Training Epoch 2:   0%|          | 0/391 [00:00<?, ?it/s]"
      ]
     },
     "metadata": {},
     "output_type": "display_data"
    },
    {
     "name": "stdout",
     "output_type": "stream",
     "text": [
      "Train Epoch: 2 [    0/50000 ( 0%)]\tLoss: 0.827625\n",
      "Train Epoch: 2 [25600/50000 (51%)]\tLoss: 0.744329\n"
     ]
    },
    {
     "data": {
      "application/vnd.jupyter.widget-view+json": {
       "model_id": "f65c379eede7468983aa2ecf19cc9cc6",
       "version_major": 2,
       "version_minor": 0
      },
      "text/plain": [
       "Validation:   0%|          | 0/79 [00:00<?, ?it/s]"
      ]
     },
     "metadata": {},
     "output_type": "display_data"
    },
    {
     "name": "stdout",
     "output_type": "stream",
     "text": [
      "Validation set: Average loss: 0.8887, Accuracy:  6868/10000 (68.68%)\n",
      "\n"
     ]
    },
    {
     "data": {
      "application/vnd.jupyter.widget-view+json": {
       "model_id": "4da4047e0dda40a99cdc56f664b8e176",
       "version_major": 2,
       "version_minor": 0
      },
      "text/plain": [
       "Training Epoch 3:   0%|          | 0/391 [00:00<?, ?it/s]"
      ]
     },
     "metadata": {},
     "output_type": "display_data"
    },
    {
     "name": "stdout",
     "output_type": "stream",
     "text": [
      "Train Epoch: 3 [    0/50000 ( 0%)]\tLoss: 0.619553\n",
      "Train Epoch: 3 [25600/50000 (51%)]\tLoss: 0.498031\n"
     ]
    },
    {
     "data": {
      "application/vnd.jupyter.widget-view+json": {
       "model_id": "c768f3290d7047a2a3c7e8b9db61b55f",
       "version_major": 2,
       "version_minor": 0
      },
      "text/plain": [
       "Validation:   0%|          | 0/79 [00:00<?, ?it/s]"
      ]
     },
     "metadata": {},
     "output_type": "display_data"
    },
    {
     "name": "stdout",
     "output_type": "stream",
     "text": [
      "Validation set: Average loss: 0.7674, Accuracy:  7335/10000 (73.35%)\n",
      "\n"
     ]
    },
    {
     "data": {
      "application/vnd.jupyter.widget-view+json": {
       "model_id": "e2396adab9e54eafa531e9520a9882b6",
       "version_major": 2,
       "version_minor": 0
      },
      "text/plain": [
       "Training Epoch 4:   0%|          | 0/391 [00:00<?, ?it/s]"
      ]
     },
     "metadata": {},
     "output_type": "display_data"
    },
    {
     "name": "stdout",
     "output_type": "stream",
     "text": [
      "Train Epoch: 4 [    0/50000 ( 0%)]\tLoss: 0.443954\n",
      "Train Epoch: 4 [25600/50000 (51%)]\tLoss: 0.496117\n"
     ]
    },
    {
     "data": {
      "application/vnd.jupyter.widget-view+json": {
       "model_id": "8e92bb3838d64c1685f820bfcb96cf4e",
       "version_major": 2,
       "version_minor": 0
      },
      "text/plain": [
       "Validation:   0%|          | 0/79 [00:00<?, ?it/s]"
      ]
     },
     "metadata": {},
     "output_type": "display_data"
    },
    {
     "name": "stdout",
     "output_type": "stream",
     "text": [
      "Validation set: Average loss: 0.7869, Accuracy:  7298/10000 (72.98%)\n",
      "\n"
     ]
    },
    {
     "data": {
      "application/vnd.jupyter.widget-view+json": {
       "model_id": "bfb25da1356b4681a3fb705d187542d6",
       "version_major": 2,
       "version_minor": 0
      },
      "text/plain": [
       "Training Epoch 5:   0%|          | 0/391 [00:00<?, ?it/s]"
      ]
     },
     "metadata": {},
     "output_type": "display_data"
    },
    {
     "name": "stdout",
     "output_type": "stream",
     "text": [
      "Train Epoch: 5 [    0/50000 ( 0%)]\tLoss: 0.520651\n",
      "Train Epoch: 5 [25600/50000 (51%)]\tLoss: 0.439480\n"
     ]
    },
    {
     "data": {
      "application/vnd.jupyter.widget-view+json": {
       "model_id": "7e18375166d44b7fa02361303c1aea89",
       "version_major": 2,
       "version_minor": 0
      },
      "text/plain": [
       "Validation:   0%|          | 0/79 [00:00<?, ?it/s]"
      ]
     },
     "metadata": {},
     "output_type": "display_data"
    },
    {
     "name": "stdout",
     "output_type": "stream",
     "text": [
      "Validation set: Average loss: 0.7042, Accuracy:  7614/10000 (76.14%)\n",
      "\n"
     ]
    },
    {
     "data": {
      "application/vnd.jupyter.widget-view+json": {
       "model_id": "2af0bff6a77e4e6f990fdaaaf1185a3f",
       "version_major": 2,
       "version_minor": 0
      },
      "text/plain": [
       "Training Epoch 6:   0%|          | 0/391 [00:00<?, ?it/s]"
      ]
     },
     "metadata": {},
     "output_type": "display_data"
    },
    {
     "name": "stdout",
     "output_type": "stream",
     "text": [
      "Train Epoch: 6 [    0/50000 ( 0%)]\tLoss: 0.253452\n",
      "Train Epoch: 6 [25600/50000 (51%)]\tLoss: 0.307789\n"
     ]
    },
    {
     "data": {
      "application/vnd.jupyter.widget-view+json": {
       "model_id": "b4af6581bca94603b07cbbaf40ff8757",
       "version_major": 2,
       "version_minor": 0
      },
      "text/plain": [
       "Validation:   0%|          | 0/79 [00:00<?, ?it/s]"
      ]
     },
     "metadata": {},
     "output_type": "display_data"
    },
    {
     "name": "stdout",
     "output_type": "stream",
     "text": [
      "Validation set: Average loss: 0.9792, Accuracy:  6933/10000 (69.33%)\n",
      "\n"
     ]
    },
    {
     "data": {
      "application/vnd.jupyter.widget-view+json": {
       "model_id": "f886db50ee9844098704807f0daca9b1",
       "version_major": 2,
       "version_minor": 0
      },
      "text/plain": [
       "Training Epoch 7:   0%|          | 0/391 [00:00<?, ?it/s]"
      ]
     },
     "metadata": {},
     "output_type": "display_data"
    },
    {
     "name": "stdout",
     "output_type": "stream",
     "text": [
      "Train Epoch: 7 [    0/50000 ( 0%)]\tLoss: 0.243581\n",
      "Train Epoch: 7 [25600/50000 (51%)]\tLoss: 0.266094\n"
     ]
    },
    {
     "data": {
      "application/vnd.jupyter.widget-view+json": {
       "model_id": "9be8c79309b14f1396b3a6a98706a3b9",
       "version_major": 2,
       "version_minor": 0
      },
      "text/plain": [
       "Validation:   0%|          | 0/79 [00:00<?, ?it/s]"
      ]
     },
     "metadata": {},
     "output_type": "display_data"
    },
    {
     "name": "stdout",
     "output_type": "stream",
     "text": [
      "Validation set: Average loss: 0.7607, Accuracy:  7603/10000 (76.03%)\n",
      "\n"
     ]
    },
    {
     "data": {
      "application/vnd.jupyter.widget-view+json": {
       "model_id": "82c7c52400b54284b3a57d5bfd61f711",
       "version_major": 2,
       "version_minor": 0
      },
      "text/plain": [
       "Training Epoch 8:   0%|          | 0/391 [00:00<?, ?it/s]"
      ]
     },
     "metadata": {},
     "output_type": "display_data"
    },
    {
     "name": "stdout",
     "output_type": "stream",
     "text": [
      "Train Epoch: 8 [    0/50000 ( 0%)]\tLoss: 0.209327\n",
      "Train Epoch: 8 [25600/50000 (51%)]\tLoss: 0.243925\n"
     ]
    },
    {
     "data": {
      "application/vnd.jupyter.widget-view+json": {
       "model_id": "9d0f2f7f8ae440199e7b37353d06ff26",
       "version_major": 2,
       "version_minor": 0
      },
      "text/plain": [
       "Validation:   0%|          | 0/79 [00:00<?, ?it/s]"
      ]
     },
     "metadata": {},
     "output_type": "display_data"
    },
    {
     "name": "stdout",
     "output_type": "stream",
     "text": [
      "Validation set: Average loss: 0.8530, Accuracy:  7503/10000 (75.03%)\n",
      "\n"
     ]
    },
    {
     "data": {
      "application/vnd.jupyter.widget-view+json": {
       "model_id": "e71daa91d29f4bd9b59afc01f2de1da6",
       "version_major": 2,
       "version_minor": 0
      },
      "text/plain": [
       "Training Epoch 9:   0%|          | 0/391 [00:00<?, ?it/s]"
      ]
     },
     "metadata": {},
     "output_type": "display_data"
    },
    {
     "name": "stdout",
     "output_type": "stream",
     "text": [
      "Train Epoch: 9 [    0/50000 ( 0%)]\tLoss: 0.143394\n",
      "Train Epoch: 9 [25600/50000 (51%)]\tLoss: 0.230457\n"
     ]
    },
    {
     "data": {
      "application/vnd.jupyter.widget-view+json": {
       "model_id": "9ac120c87bad463283c3b457de37bef7",
       "version_major": 2,
       "version_minor": 0
      },
      "text/plain": [
       "Validation:   0%|          | 0/79 [00:00<?, ?it/s]"
      ]
     },
     "metadata": {},
     "output_type": "display_data"
    },
    {
     "name": "stdout",
     "output_type": "stream",
     "text": [
      "Validation set: Average loss: 0.8983, Accuracy:  7549/10000 (75.49%)\n",
      "\n"
     ]
    },
    {
     "data": {
      "application/vnd.jupyter.widget-view+json": {
       "model_id": "1fb96019579746a0948a05fcc9b6f92d",
       "version_major": 2,
       "version_minor": 0
      },
      "text/plain": [
       "Training Epoch 10:   0%|          | 0/391 [00:00<?, ?it/s]"
      ]
     },
     "metadata": {},
     "output_type": "display_data"
    },
    {
     "name": "stdout",
     "output_type": "stream",
     "text": [
      "Train Epoch: 10 [    0/50000 ( 0%)]\tLoss: 0.105628\n",
      "Train Epoch: 10 [25600/50000 (51%)]\tLoss: 0.107798\n"
     ]
    },
    {
     "data": {
      "application/vnd.jupyter.widget-view+json": {
       "model_id": "d9f3c44945574724b41be2753e8ae1f0",
       "version_major": 2,
       "version_minor": 0
      },
      "text/plain": [
       "Validation:   0%|          | 0/79 [00:00<?, ?it/s]"
      ]
     },
     "metadata": {},
     "output_type": "display_data"
    },
    {
     "name": "stdout",
     "output_type": "stream",
     "text": [
      "Validation set: Average loss: 1.0720, Accuracy:  7265/10000 (72.65%)\n",
      "\n"
     ]
    },
    {
     "data": {
      "image/png": "[encoded data removed]",
      "text/plain": [
       "<Figure size 1152x432 with 2 Axes>"
      ]
     },
     "metadata": {
      "needs_background": "light"
     },
     "output_type": "display_data"
    }
   ],
   "source": [
    "results_d_relu = train_eval_loop(optimizer, criterion)\n",
    "create_figure_and_plot_performance(results_d_relu)"
   ]
  },
  {
   "cell_type": "code",
   "execution_count": 15,
   "metadata": {},
   "outputs": [
    {
     "data": {
      "text/plain": [
       "==========================================================================================\n",
       "Layer (type:depth-idx)                   Output Shape              Param #\n",
       "==========================================================================================\n",
       "Sequential                               --                        --\n",
       "├─Conv2d: 1-1                            [128, 32, 32, 32]         896\n",
       "├─BatchNorm2d: 1-2                       [128, 32, 32, 32]         64\n",
       "├─Tanh: 1-3                              [128, 32, 32, 32]         --\n",
       "├─MaxPool2d: 1-4                         [128, 32, 16, 16]         --\n",
       "├─Conv2d: 1-5                            [128, 64, 16, 16]         18,496\n",
       "├─BatchNorm2d: 1-6                       [128, 64, 16, 16]         128\n",
       "├─Tanh: 1-7                              [128, 64, 16, 16]         --\n",
       "├─MaxPool2d: 1-8                         [128, 64, 8, 8]           --\n",
       "├─Conv2d: 1-9                            [128, 128, 8, 8]          73,856\n",
       "├─BatchNorm2d: 1-10                      [128, 128, 8, 8]          256\n",
       "├─Tanh: 1-11                             [128, 128, 8, 8]          --\n",
       "├─MaxPool2d: 1-12                        [128, 128, 4, 4]          --\n",
       "├─Flatten: 1-13                          [128, 2048]               --\n",
       "├─Identity: 1-14                         [128, 2048]               --\n",
       "├─Linear: 1-15                           [128, 64]                 131,136\n",
       "├─BatchNorm1d: 1-16                      [128, 64]                 128\n",
       "├─Tanh: 1-17                             [128, 64]                 --\n",
       "├─Identity: 1-18                         [128, 64]                 --\n",
       "├─Linear: 1-19                           [128, 10]                 650\n",
       "==========================================================================================\n",
       "Total params: 225,610\n",
       "Trainable params: 225,610\n",
       "Non-trainable params: 0\n",
       "Total mult-adds (G): 1.35\n",
       "==========================================================================================\n",
       "Input size (MB): 1.57\n",
       "Forward/backward pass size (MB): 117.58\n",
       "Params size (MB): 0.90\n",
       "Estimated Total Size (MB): 120.06\n",
       "=========================================================================================="
      ]
     },
     "execution_count": 15,
     "metadata": {},
     "output_type": "execute_result"
    }
   ],
   "source": [
    "model, optimizer = get_model(activation_function=nn.Tanh, batchnorm=True)\n",
    "summary(model, input_size=input_size)"
   ]
  },
  {
   "cell_type": "code",
   "execution_count": 16,
   "metadata": {},
   "outputs": [
    {
     "data": {
      "application/vnd.jupyter.widget-view+json": {
       "model_id": "29c5ea8eb90443729d94922ba6c1f16e",
       "version_major": 2,
       "version_minor": 0
      },
      "text/plain": [
       "Training Epoch 1:   0%|          | 0/391 [00:00<?, ?it/s]"
      ]
     },
     "metadata": {},
     "output_type": "display_data"
    },
    {
     "name": "stdout",
     "output_type": "stream",
     "text": [
      "Train Epoch: 1 [    0/50000 ( 0%)]\tLoss: 2.376771\n",
      "Train Epoch: 1 [25600/50000 (51%)]\tLoss: 1.155148\n"
     ]
    },
    {
     "data": {
      "application/vnd.jupyter.widget-view+json": {
       "model_id": "eff0251b367642dd8ecc94403f087039",
       "version_major": 2,
       "version_minor": 0
      },
      "text/plain": [
       "Validation:   0%|          | 0/79 [00:00<?, ?it/s]"
      ]
     },
     "metadata": {},
     "output_type": "display_data"
    },
    {
     "name": "stdout",
     "output_type": "stream",
     "text": [
      "Validation set: Average loss: 1.2657, Accuracy:  5706/10000 (57.06%)\n",
      "\n"
     ]
    },
    {
     "data": {
      "application/vnd.jupyter.widget-view+json": {
       "model_id": "cd406edef59e4eafa3971ecd0501233d",
       "version_major": 2,
       "version_minor": 0
      },
      "text/plain": [
       "Training Epoch 2:   0%|          | 0/391 [00:00<?, ?it/s]"
      ]
     },
     "metadata": {},
     "output_type": "display_data"
    },
    {
     "name": "stdout",
     "output_type": "stream",
     "text": [
      "Train Epoch: 2 [    0/50000 ( 0%)]\tLoss: 1.029637\n",
      "Train Epoch: 2 [25600/50000 (51%)]\tLoss: 0.759838\n"
     ]
    },
    {
     "data": {
      "application/vnd.jupyter.widget-view+json": {
       "model_id": "4214cf74015940f0aca566205e2484ec",
       "version_major": 2,
       "version_minor": 0
      },
      "text/plain": [
       "Validation:   0%|          | 0/79 [00:00<?, ?it/s]"
      ]
     },
     "metadata": {},
     "output_type": "display_data"
    },
    {
     "name": "stdout",
     "output_type": "stream",
     "text": [
      "Validation set: Average loss: 0.9554, Accuracy:  6638/10000 (66.38%)\n",
      "\n"
     ]
    },
    {
     "data": {
      "application/vnd.jupyter.widget-view+json": {
       "model_id": "c66f66e919db4eb3968325c6a0349853",
       "version_major": 2,
       "version_minor": 0
      },
      "text/plain": [
       "Training Epoch 3:   0%|          | 0/391 [00:00<?, ?it/s]"
      ]
     },
     "metadata": {},
     "output_type": "display_data"
    },
    {
     "name": "stdout",
     "output_type": "stream",
     "text": [
      "Train Epoch: 3 [    0/50000 ( 0%)]\tLoss: 0.633369\n",
      "Train Epoch: 3 [25600/50000 (51%)]\tLoss: 0.834621\n"
     ]
    },
    {
     "data": {
      "application/vnd.jupyter.widget-view+json": {
       "model_id": "769bbfc9799e496aa981dc8b2f5bc84b",
       "version_major": 2,
       "version_minor": 0
      },
      "text/plain": [
       "Validation:   0%|          | 0/79 [00:00<?, ?it/s]"
      ]
     },
     "metadata": {},
     "output_type": "display_data"
    },
    {
     "name": "stdout",
     "output_type": "stream",
     "text": [
      "Validation set: Average loss: 0.8990, Accuracy:  6895/10000 (68.95%)\n",
      "\n"
     ]
    },
    {
     "data": {
      "application/vnd.jupyter.widget-view+json": {
       "model_id": "b2db26393dcb47868a2c6c2c74c65267",
       "version_major": 2,
       "version_minor": 0
      },
      "text/plain": [
       "Training Epoch 4:   0%|          | 0/391 [00:00<?, ?it/s]"
      ]
     },
     "metadata": {},
     "output_type": "display_data"
    },
    {
     "name": "stdout",
     "output_type": "stream",
     "text": [
      "Train Epoch: 4 [    0/50000 ( 0%)]\tLoss: 0.634092\n",
      "Train Epoch: 4 [25600/50000 (51%)]\tLoss: 0.665993\n"
     ]
    },
    {
     "data": {
      "application/vnd.jupyter.widget-view+json": {
       "model_id": "a861696adcbc43fa8dd51bff051aa63f",
       "version_major": 2,
       "version_minor": 0
      },
      "text/plain": [
       "Validation:   0%|          | 0/79 [00:00<?, ?it/s]"
      ]
     },
     "metadata": {},
     "output_type": "display_data"
    },
    {
     "name": "stdout",
     "output_type": "stream",
     "text": [
      "Validation set: Average loss: 0.8509, Accuracy:  7104/10000 (71.04%)\n",
      "\n"
     ]
    },
    {
     "data": {
      "application/vnd.jupyter.widget-view+json": {
       "model_id": "1c2ddcbf8e19428baa209f10283a512e",
       "version_major": 2,
       "version_minor": 0
      },
      "text/plain": [
       "Training Epoch 5:   0%|          | 0/391 [00:00<?, ?it/s]"
      ]
     },
     "metadata": {},
     "output_type": "display_data"
    },
    {
     "name": "stdout",
     "output_type": "stream",
     "text": [
      "Train Epoch: 5 [    0/50000 ( 0%)]\tLoss: 0.513426\n",
      "Train Epoch: 5 [25600/50000 (51%)]\tLoss: 0.606067\n"
     ]
    },
    {
     "data": {
      "application/vnd.jupyter.widget-view+json": {
       "model_id": "af9cdfcd646d40da94f52e8c5c889429",
       "version_major": 2,
       "version_minor": 0
      },
      "text/plain": [
       "Validation:   0%|          | 0/79 [00:00<?, ?it/s]"
      ]
     },
     "metadata": {},
     "output_type": "display_data"
    },
    {
     "name": "stdout",
     "output_type": "stream",
     "text": [
      "Validation set: Average loss: 0.8584, Accuracy:  7071/10000 (70.71%)\n",
      "\n"
     ]
    },
    {
     "data": {
      "application/vnd.jupyter.widget-view+json": {
       "model_id": "0ddaab20d1194abdadaf6abeda0dec0e",
       "version_major": 2,
       "version_minor": 0
      },
      "text/plain": [
       "Training Epoch 6:   0%|          | 0/391 [00:00<?, ?it/s]"
      ]
     },
     "metadata": {},
     "output_type": "display_data"
    },
    {
     "name": "stdout",
     "output_type": "stream",
     "text": [
      "Train Epoch: 6 [    0/50000 ( 0%)]\tLoss: 0.325038\n",
      "Train Epoch: 6 [25600/50000 (51%)]\tLoss: 0.447880\n"
     ]
    },
    {
     "data": {
      "application/vnd.jupyter.widget-view+json": {
       "model_id": "a9c69b554a784ef0bb30d05d00d982e2",
       "version_major": 2,
       "version_minor": 0
      },
      "text/plain": [
       "Validation:   0%|          | 0/79 [00:00<?, ?it/s]"
      ]
     },
     "metadata": {},
     "output_type": "display_data"
    },
    {
     "name": "stdout",
     "output_type": "stream",
     "text": [
      "Validation set: Average loss: 0.9552, Accuracy:  6886/10000 (68.86%)\n",
      "\n"
     ]
    },
    {
     "data": {
      "application/vnd.jupyter.widget-view+json": {
       "model_id": "32ffbdc50a9e4d408261876474ba75da",
       "version_major": 2,
       "version_minor": 0
      },
      "text/plain": [
       "Training Epoch 7:   0%|          | 0/391 [00:00<?, ?it/s]"
      ]
     },
     "metadata": {},
     "output_type": "display_data"
    },
    {
     "name": "stdout",
     "output_type": "stream",
     "text": [
      "Train Epoch: 7 [    0/50000 ( 0%)]\tLoss: 0.464315\n",
      "Train Epoch: 7 [25600/50000 (51%)]\tLoss: 0.443462\n"
     ]
    },
    {
     "data": {
      "application/vnd.jupyter.widget-view+json": {
       "model_id": "8e869bc838174256a61e49b8d3b214b8",
       "version_major": 2,
       "version_minor": 0
      },
      "text/plain": [
       "Validation:   0%|          | 0/79 [00:00<?, ?it/s]"
      ]
     },
     "metadata": {},
     "output_type": "display_data"
    },
    {
     "name": "stdout",
     "output_type": "stream",
     "text": [
      "Validation set: Average loss: 0.9604, Accuracy:  6953/10000 (69.53%)\n",
      "\n"
     ]
    },
    {
     "data": {
      "application/vnd.jupyter.widget-view+json": {
       "model_id": "964e6975076b4b238be0e60a89ff7c59",
       "version_major": 2,
       "version_minor": 0
      },
      "text/plain": [
       "Training Epoch 8:   0%|          | 0/391 [00:00<?, ?it/s]"
      ]
     },
     "metadata": {},
     "output_type": "display_data"
    },
    {
     "name": "stdout",
     "output_type": "stream",
     "text": [
      "Train Epoch: 8 [    0/50000 ( 0%)]\tLoss: 0.293301\n",
      "Train Epoch: 8 [25600/50000 (51%)]\tLoss: 0.347551\n"
     ]
    },
    {
     "data": {
      "application/vnd.jupyter.widget-view+json": {
       "model_id": "ff250202ee454b36bc1679b98949ea19",
       "version_major": 2,
       "version_minor": 0
      },
      "text/plain": [
       "Validation:   0%|          | 0/79 [00:00<?, ?it/s]"
      ]
     },
     "metadata": {},
     "output_type": "display_data"
    },
    {
     "name": "stdout",
     "output_type": "stream",
     "text": [
      "Validation set: Average loss: 0.9257, Accuracy:  7069/10000 (70.69%)\n",
      "\n"
     ]
    },
    {
     "data": {
      "application/vnd.jupyter.widget-view+json": {
       "model_id": "5559cd3b341b4dbb919a7f216728e623",
       "version_major": 2,
       "version_minor": 0
      },
      "text/plain": [
       "Training Epoch 9:   0%|          | 0/391 [00:00<?, ?it/s]"
      ]
     },
     "metadata": {},
     "output_type": "display_data"
    },
    {
     "name": "stdout",
     "output_type": "stream",
     "text": [
      "Train Epoch: 9 [    0/50000 ( 0%)]\tLoss: 0.263513\n",
      "Train Epoch: 9 [25600/50000 (51%)]\tLoss: 0.293711\n"
     ]
    },
    {
     "data": {
      "application/vnd.jupyter.widget-view+json": {
       "model_id": "e9ef07cd40ea4ceba13159cfbb4ce915",
       "version_major": 2,
       "version_minor": 0
      },
      "text/plain": [
       "Validation:   0%|          | 0/79 [00:00<?, ?it/s]"
      ]
     },
     "metadata": {},
     "output_type": "display_data"
    },
    {
     "name": "stdout",
     "output_type": "stream",
     "text": [
      "Validation set: Average loss: 0.9837, Accuracy:  7069/10000 (70.69%)\n",
      "\n"
     ]
    },
    {
     "data": {
      "application/vnd.jupyter.widget-view+json": {
       "model_id": "ea33b09ddb86470f9419c0e0d11a11a7",
       "version_major": 2,
       "version_minor": 0
      },
      "text/plain": [
       "Training Epoch 10:   0%|          | 0/391 [00:00<?, ?it/s]"
      ]
     },
     "metadata": {},
     "output_type": "display_data"
    },
    {
     "name": "stdout",
     "output_type": "stream",
     "text": [
      "Train Epoch: 10 [    0/50000 ( 0%)]\tLoss: 0.211492\n",
      "Train Epoch: 10 [25600/50000 (51%)]\tLoss: 0.229307\n"
     ]
    },
    {
     "data": {
      "application/vnd.jupyter.widget-view+json": {
       "model_id": "a7efd9fa4b2e4fabb0b6f633935d6c56",
       "version_major": 2,
       "version_minor": 0
      },
      "text/plain": [
       "Validation:   0%|          | 0/79 [00:00<?, ?it/s]"
      ]
     },
     "metadata": {},
     "output_type": "display_data"
    },
    {
     "name": "stdout",
     "output_type": "stream",
     "text": [
      "Validation set: Average loss: 1.0164, Accuracy:  7080/10000 (70.80%)\n",
      "\n"
     ]
    },
    {
     "data": {
      "image/png": "[encoded data removed]",
      "text/plain": [
       "<Figure size 1152x432 with 2 Axes>"
      ]
     },
     "metadata": {
      "needs_background": "light"
     },
     "output_type": "display_data"
    }
   ],
   "source": [
    "results_d_tanh = train_eval_loop(optimizer, criterion)\n",
    "create_figure_and_plot_performance(results_d_tanh)"
   ]
  },
  {
   "cell_type": "markdown",
   "metadata": {},
   "source": [
    "## e) dropout"
   ]
  },
  {
   "cell_type": "code",
   "execution_count": 17,
   "metadata": {},
   "outputs": [
    {
     "data": {
      "text/plain": [
       "==========================================================================================\n",
       "Layer (type:depth-idx)                   Output Shape              Param #\n",
       "==========================================================================================\n",
       "Sequential                               --                        --\n",
       "├─Conv2d: 1-1                            [128, 32, 32, 32]         896\n",
       "├─Identity: 1-2                          [128, 32, 32, 32]         --\n",
       "├─Tanh: 1-3                              [128, 32, 32, 32]         --\n",
       "├─MaxPool2d: 1-4                         [128, 32, 16, 16]         --\n",
       "├─Conv2d: 1-5                            [128, 64, 16, 16]         18,496\n",
       "├─Identity: 1-6                          [128, 64, 16, 16]         --\n",
       "├─Tanh: 1-7                              [128, 64, 16, 16]         --\n",
       "├─MaxPool2d: 1-8                         [128, 64, 8, 8]           --\n",
       "├─Conv2d: 1-9                            [128, 128, 8, 8]          73,856\n",
       "├─Identity: 1-10                         [128, 128, 8, 8]          --\n",
       "├─Tanh: 1-11                             [128, 128, 8, 8]          --\n",
       "├─MaxPool2d: 1-12                        [128, 128, 4, 4]          --\n",
       "├─Flatten: 1-13                          [128, 2048]               --\n",
       "├─Dropout: 1-14                          [128, 2048]               --\n",
       "├─Linear: 1-15                           [128, 64]                 131,136\n",
       "├─Identity: 1-16                         [128, 64]                 --\n",
       "├─Tanh: 1-17                             [128, 64]                 --\n",
       "├─Dropout: 1-18                          [128, 64]                 --\n",
       "├─Linear: 1-19                           [128, 10]                 650\n",
       "==========================================================================================\n",
       "Total params: 225,034\n",
       "Trainable params: 225,034\n",
       "Non-trainable params: 0\n",
       "Total mult-adds (G): 1.35\n",
       "==========================================================================================\n",
       "Input size (MB): 1.57\n",
       "Forward/backward pass size (MB): 58.80\n",
       "Params size (MB): 0.90\n",
       "Estimated Total Size (MB): 61.27\n",
       "=========================================================================================="
      ]
     },
     "execution_count": 17,
     "metadata": {},
     "output_type": "execute_result"
    }
   ],
   "source": [
    "model, optimizer = get_model(activation_function=nn.Tanh, dropout=True, batchnorm=False)\n",
    "summary(model, input_size=input_size)"
   ]
  },
  {
   "cell_type": "code",
   "execution_count": 19,
   "metadata": {},
   "outputs": [
    {
     "data": {
      "image/png": "[encoded data removed]",
      "text/plain": [
       "<Figure size 1152x432 with 2 Axes>"
      ]
     },
     "metadata": {
      "needs_background": "light"
     },
     "output_type": "display_data"
    }
   ],
   "source": [
    "results_e_no_batchnorm = train_eval_loop(optimizer, criterion, epochs=20)\n",
    "create_figure_and_plot_performance(results_e_no_batchnorm)"
   ]
  },
  {
   "cell_type": "code",
   "execution_count": 20,
   "metadata": {},
   "outputs": [
    {
     "data": {
      "text/plain": [
       "==========================================================================================\n",
       "Layer (type:depth-idx)                   Output Shape              Param #\n",
       "==========================================================================================\n",
       "Sequential                               --                        --\n",
       "├─Conv2d: 1-1                            [128, 32, 32, 32]         896\n",
       "├─BatchNorm2d: 1-2                       [128, 32, 32, 32]         64\n",
       "├─Tanh: 1-3                              [128, 32, 32, 32]         --\n",
       "├─MaxPool2d: 1-4                         [128, 32, 16, 16]         --\n",
       "├─Conv2d: 1-5                            [128, 64, 16, 16]         18,496\n",
       "├─BatchNorm2d: 1-6                       [128, 64, 16, 16]         128\n",
       "├─Tanh: 1-7                              [128, 64, 16, 16]         --\n",
       "├─MaxPool2d: 1-8                         [128, 64, 8, 8]           --\n",
       "├─Conv2d: 1-9                            [128, 128, 8, 8]          73,856\n",
       "├─BatchNorm2d: 1-10                      [128, 128, 8, 8]          256\n",
       "├─Tanh: 1-11                             [128, 128, 8, 8]          --\n",
       "├─MaxPool2d: 1-12                        [128, 128, 4, 4]          --\n",
       "├─Flatten: 1-13                          [128, 2048]               --\n",
       "├─Dropout: 1-14                          [128, 2048]               --\n",
       "├─Linear: 1-15                           [128, 64]                 131,136\n",
       "├─BatchNorm1d: 1-16                      [128, 64]                 128\n",
       "├─Tanh: 1-17                             [128, 64]                 --\n",
       "├─Dropout: 1-18                          [128, 64]                 --\n",
       "├─Linear: 1-19                           [128, 10]                 650\n",
       "==========================================================================================\n",
       "Total params: 225,610\n",
       "Trainable params: 225,610\n",
       "Non-trainable params: 0\n",
       "Total mult-adds (G): 1.35\n",
       "==========================================================================================\n",
       "Input size (MB): 1.57\n",
       "Forward/backward pass size (MB): 117.58\n",
       "Params size (MB): 0.90\n",
       "Estimated Total Size (MB): 120.06\n",
       "=========================================================================================="
      ]
     },
     "execution_count": 20,
     "metadata": {},
     "output_type": "execute_result"
    }
   ],
   "source": [
    "model, optimizer = get_model(activation_function=nn.Tanh, dropout=True, batchnorm=True)\n",
    "summary(model, input_size=input_size)"
   ]
  },
  {
   "cell_type": "code",
   "execution_count": 21,
   "metadata": {},
   "outputs": [
    {
     "data": {
      "application/vnd.jupyter.widget-view+json": {
       "model_id": "5559cb841e9e43729ed6962027511d80",
       "version_major": 2,
       "version_minor": 0
      },
      "text/plain": [
       "Training Epoch 1:   0%|          | 0/391 [00:00<?, ?it/s]"
      ]
     },
     "metadata": {},
     "output_type": "display_data"
    },
    {
     "name": "stdout",
     "output_type": "stream",
     "text": [
      "Train Epoch: 1 [    0/50000 ( 0%)]\tLoss: 2.379048\n",
      "Train Epoch: 1 [25600/50000 (51%)]\tLoss: 1.284415\n"
     ]
    },
    {
     "data": {
      "application/vnd.jupyter.widget-view+json": {
       "model_id": "87760471848f4c9c9d4e43b3d8636a58",
       "version_major": 2,
       "version_minor": 0
      },
      "text/plain": [
       "Validation:   0%|          | 0/79 [00:00<?, ?it/s]"
      ]
     },
     "metadata": {},
     "output_type": "display_data"
    },
    {
     "name": "stdout",
     "output_type": "stream",
     "text": [
      "Validation set: Average loss: 1.0649, Accuracy:  6248/10000 (62.48%)\n",
      "\n"
     ]
    },
    {
     "data": {
      "application/vnd.jupyter.widget-view+json": {
       "model_id": "5ec1cd02b56f4f84a3ed1ebf50179e27",
       "version_major": 2,
       "version_minor": 0
      },
      "text/plain": [
       "Training Epoch 2:   0%|          | 0/391 [00:00<?, ?it/s]"
      ]
     },
     "metadata": {},
     "output_type": "display_data"
    },
    {
     "name": "stdout",
     "output_type": "stream",
     "text": [
      "Train Epoch: 2 [    0/50000 ( 0%)]\tLoss: 0.943096\n",
      "Train Epoch: 2 [25600/50000 (51%)]\tLoss: 1.134343\n"
     ]
    },
    {
     "data": {
      "application/vnd.jupyter.widget-view+json": {
       "model_id": "c9ac17758230491b9e8ee1c32be84dff",
       "version_major": 2,
       "version_minor": 0
      },
      "text/plain": [
       "Validation:   0%|          | 0/79 [00:00<?, ?it/s]"
      ]
     },
     "metadata": {},
     "output_type": "display_data"
    },
    {
     "name": "stdout",
     "output_type": "stream",
     "text": [
      "Validation set: Average loss: 1.0237, Accuracy:  6371/10000 (63.71%)\n",
      "\n"
     ]
    },
    {
     "data": {
      "application/vnd.jupyter.widget-view+json": {
       "model_id": "a54bb1b4d6b548a2bdb4ea8775584a93",
       "version_major": 2,
       "version_minor": 0
      },
      "text/plain": [
       "Training Epoch 3:   0%|          | 0/391 [00:00<?, ?it/s]"
      ]
     },
     "metadata": {},
     "output_type": "display_data"
    },
    {
     "name": "stdout",
     "output_type": "stream",
     "text": [
      "Train Epoch: 3 [    0/50000 ( 0%)]\tLoss: 0.949627\n",
      "Train Epoch: 3 [25600/50000 (51%)]\tLoss: 0.830168\n"
     ]
    },
    {
     "data": {
      "application/vnd.jupyter.widget-view+json": {
       "model_id": "e5015bab11bc46b0a77d26ae7273e635",
       "version_major": 2,
       "version_minor": 0
      },
      "text/plain": [
       "Validation:   0%|          | 0/79 [00:00<?, ?it/s]"
      ]
     },
     "metadata": {},
     "output_type": "display_data"
    },
    {
     "name": "stdout",
     "output_type": "stream",
     "text": [
      "Validation set: Average loss: 0.8827, Accuracy:  6910/10000 (69.10%)\n",
      "\n"
     ]
    },
    {
     "data": {
      "application/vnd.jupyter.widget-view+json": {
       "model_id": "7ca50fd0a0ce49e5a8003e442e9e3168",
       "version_major": 2,
       "version_minor": 0
      },
      "text/plain": [
       "Training Epoch 4:   0%|          | 0/391 [00:00<?, ?it/s]"
      ]
     },
     "metadata": {},
     "output_type": "display_data"
    },
    {
     "name": "stdout",
     "output_type": "stream",
     "text": [
      "Train Epoch: 4 [    0/50000 ( 0%)]\tLoss: 0.819199\n",
      "Train Epoch: 4 [25600/50000 (51%)]\tLoss: 0.787131\n"
     ]
    },
    {
     "data": {
      "application/vnd.jupyter.widget-view+json": {
       "model_id": "3a5ab1813d1d480cb32df239de74579e",
       "version_major": 2,
       "version_minor": 0
      },
      "text/plain": [
       "Validation:   0%|          | 0/79 [00:00<?, ?it/s]"
      ]
     },
     "metadata": {},
     "output_type": "display_data"
    },
    {
     "name": "stdout",
     "output_type": "stream",
     "text": [
      "Validation set: Average loss: 0.8621, Accuracy:  6972/10000 (69.72%)\n",
      "\n"
     ]
    },
    {
     "data": {
      "application/vnd.jupyter.widget-view+json": {
       "model_id": "0633549716b5455aab4c8d7b6c7b176c",
       "version_major": 2,
       "version_minor": 0
      },
      "text/plain": [
       "Training Epoch 5:   0%|          | 0/391 [00:00<?, ?it/s]"
      ]
     },
     "metadata": {},
     "output_type": "display_data"
    },
    {
     "name": "stdout",
     "output_type": "stream",
     "text": [
      "Train Epoch: 5 [    0/50000 ( 0%)]\tLoss: 0.801178\n",
      "Train Epoch: 5 [25600/50000 (51%)]\tLoss: 0.747884\n"
     ]
    },
    {
     "data": {
      "application/vnd.jupyter.widget-view+json": {
       "model_id": "e90046bdadf244f5956b7c0ecb1b1938",
       "version_major": 2,
       "version_minor": 0
      },
      "text/plain": [
       "Validation:   0%|          | 0/79 [00:00<?, ?it/s]"
      ]
     },
     "metadata": {},
     "output_type": "display_data"
    },
    {
     "name": "stdout",
     "output_type": "stream",
     "text": [
      "Validation set: Average loss: 0.9362, Accuracy:  6717/10000 (67.17%)\n",
      "\n"
     ]
    },
    {
     "data": {
      "application/vnd.jupyter.widget-view+json": {
       "model_id": "320e57a1c11143e781a1877b7cd15ec3",
       "version_major": 2,
       "version_minor": 0
      },
      "text/plain": [
       "Training Epoch 6:   0%|          | 0/391 [00:00<?, ?it/s]"
      ]
     },
     "metadata": {},
     "output_type": "display_data"
    },
    {
     "name": "stdout",
     "output_type": "stream",
     "text": [
      "Train Epoch: 6 [    0/50000 ( 0%)]\tLoss: 0.661470\n",
      "Train Epoch: 6 [25600/50000 (51%)]\tLoss: 0.699447\n"
     ]
    },
    {
     "data": {
      "application/vnd.jupyter.widget-view+json": {
       "model_id": "b45fbd6976cf4dc8ba70abdf9caa78e2",
       "version_major": 2,
       "version_minor": 0
      },
      "text/plain": [
       "Validation:   0%|          | 0/79 [00:00<?, ?it/s]"
      ]
     },
     "metadata": {},
     "output_type": "display_data"
    },
    {
     "name": "stdout",
     "output_type": "stream",
     "text": [
      "Validation set: Average loss: 0.8223, Accuracy:  7161/10000 (71.61%)\n",
      "\n"
     ]
    },
    {
     "data": {
      "application/vnd.jupyter.widget-view+json": {
       "model_id": "b751c6269d6f44c39f12885ed3539d81",
       "version_major": 2,
       "version_minor": 0
      },
      "text/plain": [
       "Training Epoch 7:   0%|          | 0/391 [00:00<?, ?it/s]"
      ]
     },
     "metadata": {},
     "output_type": "display_data"
    },
    {
     "name": "stdout",
     "output_type": "stream",
     "text": [
      "Train Epoch: 7 [    0/50000 ( 0%)]\tLoss: 0.639976\n",
      "Train Epoch: 7 [25600/50000 (51%)]\tLoss: 0.658354\n"
     ]
    },
    {
     "data": {
      "application/vnd.jupyter.widget-view+json": {
       "model_id": "bdfc28bcaabd4a86bb6d68ad9ecb3fb5",
       "version_major": 2,
       "version_minor": 0
      },
      "text/plain": [
       "Validation:   0%|          | 0/79 [00:00<?, ?it/s]"
      ]
     },
     "metadata": {},
     "output_type": "display_data"
    },
    {
     "name": "stdout",
     "output_type": "stream",
     "text": [
      "Validation set: Average loss: 0.8561, Accuracy:  7061/10000 (70.61%)\n",
      "\n"
     ]
    },
    {
     "data": {
      "application/vnd.jupyter.widget-view+json": {
       "model_id": "eeaf30ba2c044efd82d12ae5151ab9d2",
       "version_major": 2,
       "version_minor": 0
      },
      "text/plain": [
       "Training Epoch 8:   0%|          | 0/391 [00:00<?, ?it/s]"
      ]
     },
     "metadata": {},
     "output_type": "display_data"
    },
    {
     "name": "stdout",
     "output_type": "stream",
     "text": [
      "Train Epoch: 8 [    0/50000 ( 0%)]\tLoss: 0.570028\n",
      "Train Epoch: 8 [25600/50000 (51%)]\tLoss: 0.638499\n"
     ]
    },
    {
     "data": {
      "application/vnd.jupyter.widget-view+json": {
       "model_id": "148bdbc2901d4ab7844f203ab09d9864",
       "version_major": 2,
       "version_minor": 0
      },
      "text/plain": [
       "Validation:   0%|          | 0/79 [00:00<?, ?it/s]"
      ]
     },
     "metadata": {},
     "output_type": "display_data"
    },
    {
     "name": "stdout",
     "output_type": "stream",
     "text": [
      "Validation set: Average loss: 0.9710, Accuracy:  6683/10000 (66.83%)\n",
      "\n"
     ]
    },
    {
     "data": {
      "application/vnd.jupyter.widget-view+json": {
       "model_id": "e689bda937c848478d069fd22c8a0237",
       "version_major": 2,
       "version_minor": 0
      },
      "text/plain": [
       "Training Epoch 9:   0%|          | 0/391 [00:00<?, ?it/s]"
      ]
     },
     "metadata": {},
     "output_type": "display_data"
    },
    {
     "name": "stdout",
     "output_type": "stream",
     "text": [
      "Train Epoch: 9 [    0/50000 ( 0%)]\tLoss: 0.471305\n",
      "Train Epoch: 9 [25600/50000 (51%)]\tLoss: 0.645905\n"
     ]
    },
    {
     "data": {
      "application/vnd.jupyter.widget-view+json": {
       "model_id": "ec803ba7e8754de49a5a0efc3f04e51e",
       "version_major": 2,
       "version_minor": 0
      },
      "text/plain": [
       "Validation:   0%|          | 0/79 [00:00<?, ?it/s]"
      ]
     },
     "metadata": {},
     "output_type": "display_data"
    },
    {
     "name": "stdout",
     "output_type": "stream",
     "text": [
      "Validation set: Average loss: 0.8322, Accuracy:  7139/10000 (71.39%)\n",
      "\n"
     ]
    },
    {
     "data": {
      "application/vnd.jupyter.widget-view+json": {
       "model_id": "f80a0e8c9f1b484cad7fac1c25e863bf",
       "version_major": 2,
       "version_minor": 0
      },
      "text/plain": [
       "Training Epoch 10:   0%|          | 0/391 [00:00<?, ?it/s]"
      ]
     },
     "metadata": {},
     "output_type": "display_data"
    },
    {
     "name": "stdout",
     "output_type": "stream",
     "text": [
      "Train Epoch: 10 [    0/50000 ( 0%)]\tLoss: 0.499621\n",
      "Train Epoch: 10 [25600/50000 (51%)]\tLoss: 0.664950\n"
     ]
    },
    {
     "data": {
      "application/vnd.jupyter.widget-view+json": {
       "model_id": "ea7d243cec5b4918b0b3ea93c132b8f1",
       "version_major": 2,
       "version_minor": 0
      },
      "text/plain": [
       "Validation:   0%|          | 0/79 [00:00<?, ?it/s]"
      ]
     },
     "metadata": {},
     "output_type": "display_data"
    },
    {
     "name": "stdout",
     "output_type": "stream",
     "text": [
      "Validation set: Average loss: 0.7954, Accuracy:  7288/10000 (72.88%)\n",
      "\n"
     ]
    },
    {
     "data": {
      "application/vnd.jupyter.widget-view+json": {
       "model_id": "9c87335493954aeaac480b7baaabda96",
       "version_major": 2,
       "version_minor": 0
      },
      "text/plain": [
       "Training Epoch 11:   0%|          | 0/391 [00:00<?, ?it/s]"
      ]
     },
     "metadata": {},
     "output_type": "display_data"
    },
    {
     "name": "stdout",
     "output_type": "stream",
     "text": [
      "Train Epoch: 11 [    0/50000 ( 0%)]\tLoss: 0.430290\n",
      "Train Epoch: 11 [25600/50000 (51%)]\tLoss: 0.505553\n"
     ]
    },
    {
     "data": {
      "application/vnd.jupyter.widget-view+json": {
       "model_id": "03b90c48e49e49acad18c374f8d80e81",
       "version_major": 2,
       "version_minor": 0
      },
      "text/plain": [
       "Validation:   0%|          | 0/79 [00:00<?, ?it/s]"
      ]
     },
     "metadata": {},
     "output_type": "display_data"
    },
    {
     "name": "stdout",
     "output_type": "stream",
     "text": [
      "Validation set: Average loss: 0.7633, Accuracy:  7408/10000 (74.08%)\n",
      "\n"
     ]
    },
    {
     "data": {
      "application/vnd.jupyter.widget-view+json": {
       "model_id": "91b3af65cb42414d8ca0c52a1d5fdb18",
       "version_major": 2,
       "version_minor": 0
      },
      "text/plain": [
       "Training Epoch 12:   0%|          | 0/391 [00:00<?, ?it/s]"
      ]
     },
     "metadata": {},
     "output_type": "display_data"
    },
    {
     "name": "stdout",
     "output_type": "stream",
     "text": [
      "Train Epoch: 12 [    0/50000 ( 0%)]\tLoss: 0.494879\n",
      "Train Epoch: 12 [25600/50000 (51%)]\tLoss: 0.526382\n"
     ]
    },
    {
     "data": {
      "application/vnd.jupyter.widget-view+json": {
       "model_id": "e7bac50db2cd464ca3099167c87c7a68",
       "version_major": 2,
       "version_minor": 0
      },
      "text/plain": [
       "Validation:   0%|          | 0/79 [00:00<?, ?it/s]"
      ]
     },
     "metadata": {},
     "output_type": "display_data"
    },
    {
     "name": "stdout",
     "output_type": "stream",
     "text": [
      "Validation set: Average loss: 0.7640, Accuracy:  7414/10000 (74.14%)\n",
      "\n"
     ]
    },
    {
     "data": {
      "application/vnd.jupyter.widget-view+json": {
       "model_id": "6afa34ab51c840d3b00f8e72fd497590",
       "version_major": 2,
       "version_minor": 0
      },
      "text/plain": [
       "Training Epoch 13:   0%|          | 0/391 [00:00<?, ?it/s]"
      ]
     },
     "metadata": {},
     "output_type": "display_data"
    },
    {
     "name": "stdout",
     "output_type": "stream",
     "text": [
      "Train Epoch: 13 [    0/50000 ( 0%)]\tLoss: 0.497248\n",
      "Train Epoch: 13 [25600/50000 (51%)]\tLoss: 0.425083\n"
     ]
    },
    {
     "data": {
      "application/vnd.jupyter.widget-view+json": {
       "model_id": "99a5b3782d8e4ed4b5ba8cec0ce06475",
       "version_major": 2,
       "version_minor": 0
      },
      "text/plain": [
       "Validation:   0%|          | 0/79 [00:00<?, ?it/s]"
      ]
     },
     "metadata": {},
     "output_type": "display_data"
    },
    {
     "name": "stdout",
     "output_type": "stream",
     "text": [
      "Validation set: Average loss: 0.8297, Accuracy:  7236/10000 (72.36%)\n",
      "\n"
     ]
    },
    {
     "data": {
      "application/vnd.jupyter.widget-view+json": {
       "model_id": "8bb7c75551eb4dc9a696d02010aa751e",
       "version_major": 2,
       "version_minor": 0
      },
      "text/plain": [
       "Training Epoch 14:   0%|          | 0/391 [00:00<?, ?it/s]"
      ]
     },
     "metadata": {},
     "output_type": "display_data"
    },
    {
     "name": "stdout",
     "output_type": "stream",
     "text": [
      "Train Epoch: 14 [    0/50000 ( 0%)]\tLoss: 0.432041\n",
      "Train Epoch: 14 [25600/50000 (51%)]\tLoss: 0.436695\n"
     ]
    },
    {
     "data": {
      "application/vnd.jupyter.widget-view+json": {
       "model_id": "b47c6208d57c453d93278adfed9402f4",
       "version_major": 2,
       "version_minor": 0
      },
      "text/plain": [
       "Validation:   0%|          | 0/79 [00:00<?, ?it/s]"
      ]
     },
     "metadata": {},
     "output_type": "display_data"
    },
    {
     "name": "stdout",
     "output_type": "stream",
     "text": [
      "Validation set: Average loss: 0.8332, Accuracy:  7278/10000 (72.78%)\n",
      "\n"
     ]
    },
    {
     "data": {
      "application/vnd.jupyter.widget-view+json": {
       "model_id": "e6011ea2aaeb4cb99b063b8b509353d2",
       "version_major": 2,
       "version_minor": 0
      },
      "text/plain": [
       "Training Epoch 15:   0%|          | 0/391 [00:00<?, ?it/s]"
      ]
     },
     "metadata": {},
     "output_type": "display_data"
    },
    {
     "name": "stdout",
     "output_type": "stream",
     "text": [
      "Train Epoch: 15 [    0/50000 ( 0%)]\tLoss: 0.461403\n",
      "Train Epoch: 15 [25600/50000 (51%)]\tLoss: 0.539939\n"
     ]
    },
    {
     "data": {
      "application/vnd.jupyter.widget-view+json": {
       "model_id": "83c5326f81bd4e9ebfffaa53de505649",
       "version_major": 2,
       "version_minor": 0
      },
      "text/plain": [
       "Validation:   0%|          | 0/79 [00:00<?, ?it/s]"
      ]
     },
     "metadata": {},
     "output_type": "display_data"
    },
    {
     "name": "stdout",
     "output_type": "stream",
     "text": [
      "Validation set: Average loss: 1.0256, Accuracy:  6779/10000 (67.79%)\n",
      "\n"
     ]
    },
    {
     "data": {
      "application/vnd.jupyter.widget-view+json": {
       "model_id": "a53395979a81475eb2a1652c660a5693",
       "version_major": 2,
       "version_minor": 0
      },
      "text/plain": [
       "Training Epoch 16:   0%|          | 0/391 [00:00<?, ?it/s]"
      ]
     },
     "metadata": {},
     "output_type": "display_data"
    },
    {
     "name": "stdout",
     "output_type": "stream",
     "text": [
      "Train Epoch: 16 [    0/50000 ( 0%)]\tLoss: 0.316248\n",
      "Train Epoch: 16 [25600/50000 (51%)]\tLoss: 0.401763\n"
     ]
    },
    {
     "data": {
      "application/vnd.jupyter.widget-view+json": {
       "model_id": "2297c99ff539495cb7d178ac86bc9c25",
       "version_major": 2,
       "version_minor": 0
      },
      "text/plain": [
       "Validation:   0%|          | 0/79 [00:00<?, ?it/s]"
      ]
     },
     "metadata": {},
     "output_type": "display_data"
    },
    {
     "name": "stdout",
     "output_type": "stream",
     "text": [
      "Validation set: Average loss: 0.8334, Accuracy:  7350/10000 (73.50%)\n",
      "\n"
     ]
    },
    {
     "data": {
      "application/vnd.jupyter.widget-view+json": {
       "model_id": "65542e63bdb24ae699b66c87f87e55a4",
       "version_major": 2,
       "version_minor": 0
      },
      "text/plain": [
       "Training Epoch 17:   0%|          | 0/391 [00:00<?, ?it/s]"
      ]
     },
     "metadata": {},
     "output_type": "display_data"
    },
    {
     "name": "stdout",
     "output_type": "stream",
     "text": [
      "Train Epoch: 17 [    0/50000 ( 0%)]\tLoss: 0.427989\n",
      "Train Epoch: 17 [25600/50000 (51%)]\tLoss: 0.522970\n"
     ]
    },
    {
     "data": {
      "application/vnd.jupyter.widget-view+json": {
       "model_id": "035c1cab7ea547f6845998a99b7410aa",
       "version_major": 2,
       "version_minor": 0
      },
      "text/plain": [
       "Validation:   0%|          | 0/79 [00:00<?, ?it/s]"
      ]
     },
     "metadata": {},
     "output_type": "display_data"
    },
    {
     "name": "stdout",
     "output_type": "stream",
     "text": [
      "Validation set: Average loss: 0.8338, Accuracy:  7386/10000 (73.86%)\n",
      "\n"
     ]
    },
    {
     "data": {
      "application/vnd.jupyter.widget-view+json": {
       "model_id": "7b71323a5cc74ce7b6b6663e78fe35e9",
       "version_major": 2,
       "version_minor": 0
      },
      "text/plain": [
       "Training Epoch 18:   0%|          | 0/391 [00:00<?, ?it/s]"
      ]
     },
     "metadata": {},
     "output_type": "display_data"
    },
    {
     "name": "stdout",
     "output_type": "stream",
     "text": [
      "Train Epoch: 18 [    0/50000 ( 0%)]\tLoss: 0.501072\n",
      "Train Epoch: 18 [25600/50000 (51%)]\tLoss: 0.485506\n"
     ]
    },
    {
     "data": {
      "application/vnd.jupyter.widget-view+json": {
       "model_id": "714822b6ce254bc58217fabc371024a4",
       "version_major": 2,
       "version_minor": 0
      },
      "text/plain": [
       "Validation:   0%|          | 0/79 [00:00<?, ?it/s]"
      ]
     },
     "metadata": {},
     "output_type": "display_data"
    },
    {
     "name": "stdout",
     "output_type": "stream",
     "text": [
      "Validation set: Average loss: 0.8388, Accuracy:  7386/10000 (73.86%)\n",
      "\n"
     ]
    },
    {
     "data": {
      "application/vnd.jupyter.widget-view+json": {
       "model_id": "966182c9c245412c925f0d2d19e048e4",
       "version_major": 2,
       "version_minor": 0
      },
      "text/plain": [
       "Training Epoch 19:   0%|          | 0/391 [00:00<?, ?it/s]"
      ]
     },
     "metadata": {},
     "output_type": "display_data"
    },
    {
     "name": "stdout",
     "output_type": "stream",
     "text": [
      "Train Epoch: 19 [    0/50000 ( 0%)]\tLoss: 0.364804\n",
      "Train Epoch: 19 [25600/50000 (51%)]\tLoss: 0.425185\n"
     ]
    },
    {
     "data": {
      "application/vnd.jupyter.widget-view+json": {
       "model_id": "3b6dcad46c504331996e70167651b1d3",
       "version_major": 2,
       "version_minor": 0
      },
      "text/plain": [
       "Validation:   0%|          | 0/79 [00:00<?, ?it/s]"
      ]
     },
     "metadata": {},
     "output_type": "display_data"
    },
    {
     "name": "stdout",
     "output_type": "stream",
     "text": [
      "Validation set: Average loss: 0.8952, Accuracy:  7257/10000 (72.57%)\n",
      "\n"
     ]
    },
    {
     "data": {
      "application/vnd.jupyter.widget-view+json": {
       "model_id": "3f4da29cbc3146bb933da13595e8c5a3",
       "version_major": 2,
       "version_minor": 0
      },
      "text/plain": [
       "Training Epoch 20:   0%|          | 0/391 [00:00<?, ?it/s]"
      ]
     },
     "metadata": {},
     "output_type": "display_data"
    },
    {
     "name": "stdout",
     "output_type": "stream",
     "text": [
      "Train Epoch: 20 [    0/50000 ( 0%)]\tLoss: 0.281167\n",
      "Train Epoch: 20 [25600/50000 (51%)]\tLoss: 0.336997\n"
     ]
    },
    {
     "data": {
      "application/vnd.jupyter.widget-view+json": {
       "model_id": "8273248f8ce144868958551687db9c20",
       "version_major": 2,
       "version_minor": 0
      },
      "text/plain": [
       "Validation:   0%|          | 0/79 [00:00<?, ?it/s]"
      ]
     },
     "metadata": {},
     "output_type": "display_data"
    },
    {
     "name": "stdout",
     "output_type": "stream",
     "text": [
      "Validation set: Average loss: 0.8433, Accuracy:  7403/10000 (74.03%)\n",
      "\n"
     ]
    },
    {
     "data": {
      "image/png": "[encoded data removed]",
      "text/plain": [
       "<Figure size 1152x432 with 2 Axes>"
      ]
     },
     "metadata": {
      "needs_background": "light"
     },
     "output_type": "display_data"
    }
   ],
   "source": [
    "results_e_batchnorm = train_eval_loop(optimizer, criterion, epochs=20)\n",
    "create_figure_and_plot_performance(results_e_batchnorm)"
   ]
  },
  {
   "cell_type": "markdown",
   "metadata": {},
   "source": [
    "## f) comparison"
   ]
  },
  {
   "cell_type": "code",
   "execution_count": 27,
   "metadata": {},
   "outputs": [
    {
     "data": {
      "image/png": "[encoded data removed]",
      "text/plain": [
       "<Figure size 1152x432 with 2 Axes>"
      ]
     },
     "metadata": {
      "needs_background": "light"
     },
     "output_type": "display_data"
    },
    {
     "data": {
      "image/png": "[encoded data removed]",
      "text/plain": [
       "<Figure size 1152x432 with 2 Axes>"
      ]
     },
     "metadata": {
      "needs_background": "light"
     },
     "output_type": "display_data"
    },
    {
     "data": {
      "image/png": "[encoded data removed]",
      "text/plain": [
       "<Figure size 1152x432 with 2 Axes>"
      ]
     },
     "metadata": {
      "needs_background": "light"
     },
     "output_type": "display_data"
    }
   ],
   "source": [
    "plot_data = [\n",
    "    (\"relu vs tanh\",\n",
    "     \"relu\", results_b,\n",
    "     \"tanh\", results_c),\n",
    "    (\"relu vs tanh with batchnorm\",\n",
    "     \"batchnorm relu\", results_d_relu,\n",
    "     \"batchnorm tanh\", results_d_tanh),\n",
    "    (\"dropout with and without batchnorm\",\n",
    "     \"dropout\", results_e_no_batchnorm,\n",
    "     \"dropout and batchnorm\", results_e_batchnorm)\n",
    "]\n",
    "\n",
    "for pd in plot_data:\n",
    "    f = plt.figure(figsize=(16,6))\n",
    "    plt.suptitle(pd[0])\n",
    "    ax1 = f.add_subplot(121)\n",
    "    ax1.set_ylim(.2, 1.6)\n",
    "    ax1.set_xlim(0, 20)\n",
    "    ax1.grid()\n",
    "    ax2 = f.add_subplot(122)\n",
    "    ax2.set_ylim(.4, 1)\n",
    "    ax2.set_xlim(0, 19)\n",
    "    ax2.grid()\n",
    "    plot_performance(ax1, ax2, *pd[2], pd[1])\n",
    "    plot_performance(ax1, ax2, *pd[4], pd[3])"
   ]
  },
  {
   "cell_type": "code",
   "execution_count": null,
   "metadata": {},
   "outputs": [],
   "source": []
  }
 ],
 "metadata": {
  "colab": {
   "collapsed_sections": [
    "Y5N7LBMyKbTy",
    "gRlDvqykKbPL",
    "jgZF2uaXMALx",
    "NjFjHIqFNSlH"
   ],
   "name": "TemplateDeepLearning.ipynb",
   "provenance": []
  },
  "kernelspec": {
   "display_name": "Python 3 (ipykernel)",
   "language": "python",
   "name": "python3"
  },
  "language_info": {
   "codemirror_mode": {
    "name": "ipython",
    "version": 3
   },
   "file_extension": ".py",
   "mimetype": "text/x-python",
   "name": "python",
   "nbconvert_exporter": "python",
   "pygments_lexer": "ipython3",
   "version": "3.10.4"
  }
 },
 "nbformat": 4,
 "nbformat_minor": 1
}

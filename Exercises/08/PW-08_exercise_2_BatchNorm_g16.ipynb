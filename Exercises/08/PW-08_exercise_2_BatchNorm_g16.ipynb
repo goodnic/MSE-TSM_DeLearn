{
 "cells": [
  {
   "cell_type": "markdown",
   "metadata": {
    "id": "-207wqx7KS4E"
   },
   "source": [
    "**g16**\n",
    "- anderdav@students.zhaw.ch\n",
    "- goodnic1@students.zhaw.ch\n",
    "- janick.rueegger@students.fhnw.ch\n",
    "- neyerjoh@students.zhaw.ch"
   ]
  },
  {
   "cell_type": "markdown",
   "metadata": {},
   "source": [
    "# Exercise 2: Benefit of BatchNorm with CIFAR10 Classification"
   ]
  },
  {
   "cell_type": "code",
   "execution_count": 1,
   "metadata": {},
   "outputs": [],
   "source": [
    "from matplotlib import pyplot as plt\n",
    "from tqdm.notebook import tqdm\n",
    "from sklearn.metrics import confusion_matrix\n",
    "import torch\n",
    "from torch import nn, optim\n",
    "from torch.utils.data import DataLoader\n",
    "from torchvision import datasets\n",
    "from torchvision.transforms import ToTensor\n",
    "from torchinfo import summary\n",
    "import numpy as np"
   ]
  },
  {
   "cell_type": "code",
   "execution_count": 2,
   "metadata": {},
   "outputs": [
    {
     "name": "stdout",
     "output_type": "stream",
     "text": [
      "Files already downloaded and verified\n",
      "Files already downloaded and verified\n"
     ]
    }
   ],
   "source": [
    "Transform = ToTensor()\n",
    "\n",
    "train_data = datasets.CIFAR10(\n",
    "    root = \"../data\",\n",
    "    train = True,                         \n",
    "    transform = Transform, \n",
    "    download = True,            \n",
    ")\n",
    "\n",
    "test_data = datasets.CIFAR10(\n",
    "    root = \"../data\", \n",
    "    train = False, \n",
    "    transform = Transform,\n",
    "    download = True\n",
    ")"
   ]
  },
  {
   "cell_type": "code",
   "execution_count": 3,
   "metadata": {},
   "outputs": [],
   "source": [
    "batch_size = 128\n",
    "\n",
    "train_loader = DataLoader(train_data, batch_size=batch_size, shuffle=True)\n",
    "test_loader = DataLoader(test_data, batch_size=batch_size, shuffle=False)\n",
    "\n",
    "n_classes = len(train_data.classes)\n",
    "input_size = (train_loader.batch_size, *train_data[0][0].shape)"
   ]
  },
  {
   "cell_type": "code",
   "execution_count": 4,
   "metadata": {},
   "outputs": [],
   "source": [
    "def train(epoch, model, optimizer, criterion, data_loader, log_interval=200):\n",
    "    \n",
    "    model.train()\n",
    "    \n",
    "    total_train_loss = 0\n",
    "    total_correct = 0\n",
    "    \n",
    "    for batch_idx, (data, target) in enumerate(tqdm(data_loader, desc=f\"Training Epoch {epoch}\")):\n",
    "        \n",
    "        optimizer.zero_grad()\n",
    "        \n",
    "        output = model(data)\n",
    "        \n",
    "        loss = criterion(output, target)\n",
    "\n",
    "        loss.backward()\n",
    "        \n",
    "        optimizer.step()\n",
    "        \n",
    "        total_train_loss += loss.item()\n",
    "        \n",
    "        pred = output.argmax(dim=1)\n",
    "        \n",
    "        total_correct += torch.sum(pred == target).item()\n",
    "\n",
    "        if batch_idx % log_interval == 0:\n",
    "            print(\"Train Epoch: {} [{:5}/{:5} ({:2.0f}%)]\\tLoss: {:.6f}\".format(\n",
    "                epoch, batch_idx * len(data), len(data_loader.dataset),\n",
    "                100. * batch_idx / len(data_loader), loss.data.item()))\n",
    "\n",
    "    accuracy_train = total_correct / len(data_loader.dataset)\n",
    "\n",
    "    total_train_loss = total_train_loss / len(data_loader)\n",
    "\n",
    "    return {\n",
    "        \"loss\": total_train_loss,\n",
    "        \"accuracy\": accuracy_train,\n",
    "    }"
   ]
  },
  {
   "cell_type": "code",
   "execution_count": 5,
   "metadata": {},
   "outputs": [],
   "source": [
    "@torch.inference_mode()\n",
    "def validate(model, data_loader):\n",
    "   \n",
    "    model.eval()\n",
    "    \n",
    "    val_loss = 0\n",
    "    total_correct = 0\n",
    "    total_preds = []\n",
    "    total_targets = []\n",
    "    \n",
    "    for data, target in tqdm(data_loader, desc=\"Validation\"):\n",
    "        output = model(data)\n",
    "        val_loss += criterion(output, target).item()\n",
    "        \n",
    "        pred = output.argmax(dim=1)\n",
    "        total_correct += torch.sum(pred == target).item()\n",
    "        total_preds.append(pred.detach().cpu())\n",
    "        total_targets.append(target.cpu())\n",
    "\n",
    "    val_loss /= len(data_loader)\n",
    "    accuracy = total_correct / len(data_loader.dataset)\n",
    "    \n",
    "    print(\"Validation set: Average loss: {:.4f}, Accuracy: {:5}/{:5} ({:2.2f}%)\\n\".format(\n",
    "        val_loss, total_correct, len(data_loader.dataset), 100 * accuracy))\n",
    "    \n",
    "    return {\n",
    "        \"loss\": val_loss,\n",
    "        \"accuracy\": accuracy,\n",
    "        \"predictions\": torch.cat(total_preds),\n",
    "        \"targets\": torch.cat(total_targets),\n",
    "    }"
   ]
  },
  {
   "cell_type": "code",
   "execution_count": null,
   "metadata": {},
   "outputs": [],
   "source": [
    "def train_eval_loop(optimizer, criterion, epochs=7):\n",
    "    train_losses = []\n",
    "    train_accuracies = []\n",
    "    val_losses = []\n",
    "    val_accuracies = []\n",
    "\n",
    "    for epoch in range(1, epochs + 1):\n",
    "        train_result = train(epoch, model, optimizer, criterion, train_loader)\n",
    "        train_losses.append(train_result[\"loss\"])\n",
    "        train_accuracies.append(train_result[\"accuracy\"])\n",
    "\n",
    "        val_result = validate(model, test_loader)\n",
    "        val_losses.append(val_result[\"loss\"])\n",
    "        val_accuracies.append(val_result[\"accuracy\"])\n",
    "    \n",
    "    return train_losses, train_accuracies, val_losses, val_accuracies"
   ]
  },
  {
   "cell_type": "code",
   "execution_count": null,
   "metadata": {},
   "outputs": [],
   "source": [
    "def plot_performance(train_losses, train_accuracies, val_losses, val_accuracies):\n",
    "    f = plt.figure(figsize=(12,6))\n",
    "    ax1 = f.add_subplot(121)\n",
    "    ax2 = f.add_subplot(122)\n",
    "\n",
    "    ax1.plot(train_losses, label=\"Training loss\")\n",
    "    ax1.plot(val_losses, label=\"Testing loss\")\n",
    "    plt.xlabel(\"epoch\")\n",
    "    ax1.legend()\n",
    "    ax1.grid()\n",
    "\n",
    "    ax2.plot(train_accuracies, label=\"Training acc\")\n",
    "    ax2.plot(val_accuracies, label=\"Test acc\")\n",
    "    plt.xlabel(\"epoch\")\n",
    "    ax2.legend()\n",
    "    ax2.grid()"
   ]
  },
  {
   "cell_type": "code",
   "execution_count": null,
   "metadata": {},
   "outputs": [],
   "source": [
    "def get_model(activation_function, batchnorm=False, dropout=False):\n",
    "    model = nn.Sequential(\n",
    "        nn.Conv2d(\n",
    "            in_channels=3,\n",
    "            out_channels=32,\n",
    "            kernel_size=3,\n",
    "            padding=\"same\",\n",
    "            stride=1,\n",
    "        ),\n",
    "        nn.BatchNorm2d(32) if batchnorm else nn.Identity(),\n",
    "        activation_function(),\n",
    "        nn.MaxPool2d(2),\n",
    "        nn.Conv2d(\n",
    "            in_channels=32,\n",
    "            out_channels=64,\n",
    "            kernel_size=3,\n",
    "            padding=\"same\",\n",
    "            stride=1,\n",
    "        ),\n",
    "        nn.BatchNorm2d(64) if batchnorm else nn.Identity(),\n",
    "        activation_function(),\n",
    "        nn.MaxPool2d(2),\n",
    "        nn.Conv2d(\n",
    "            in_channels=64,\n",
    "            out_channels=128,\n",
    "            kernel_size=3,\n",
    "            padding=\"same\",\n",
    "            stride=1,\n",
    "        ),\n",
    "        nn.BatchNorm2d(128) if batchnorm else nn.Identity(),\n",
    "        activation_function(),\n",
    "        nn.MaxPool2d(2),\n",
    "        nn.Flatten(),\n",
    "        nn.Dropout(.2) if dropout else nn.Identity(),\n",
    "        nn.Linear(32*32 * 128 // 4 // 4 // 4, 64),\n",
    "        nn.BatchNorm1d(64) if batchnorm else nn.Identity(),\n",
    "        activation_function(),\n",
    "        nn.Dropout(.2) if dropout else nn.Identity(),\n",
    "        nn.Linear(64, n_classes),\n",
    "        #nn.BatchNorm1d(n_classes) if batchnorm else nn.Identity(), #??\n",
    "        # nn.Softmax(dim=0) # not needed when crossentropyloss is used\n",
    "    )\n",
    "    return model, optim.Adam(model.parameters())\n",
    "\n",
    "criterion = nn.CrossEntropyLoss()"
   ]
  },
  {
   "cell_type": "markdown",
   "metadata": {},
   "source": [
    "## a) base"
   ]
  },
  {
   "cell_type": "code",
   "execution_count": 9,
   "metadata": {},
   "outputs": [
    {
     "data": {
      "text/plain": [
       "==========================================================================================\n",
       "Layer (type:depth-idx)                   Output Shape              Param #\n",
       "==========================================================================================\n",
       "Sequential                               --                        --\n",
       "├─Conv2d: 1-1                            [128, 32, 32, 32]         896\n",
       "├─Identity: 1-2                          [128, 32, 32, 32]         --\n",
       "├─ReLU: 1-3                              [128, 32, 32, 32]         --\n",
       "├─MaxPool2d: 1-4                         [128, 32, 16, 16]         --\n",
       "├─Conv2d: 1-5                            [128, 64, 16, 16]         18,496\n",
       "├─Identity: 1-6                          [128, 64, 16, 16]         --\n",
       "├─ReLU: 1-7                              [128, 64, 16, 16]         --\n",
       "├─MaxPool2d: 1-8                         [128, 64, 8, 8]           --\n",
       "├─Conv2d: 1-9                            [128, 128, 8, 8]          73,856\n",
       "├─Identity: 1-10                         [128, 128, 8, 8]          --\n",
       "├─ReLU: 1-11                             [128, 128, 8, 8]          --\n",
       "├─MaxPool2d: 1-12                        [128, 128, 4, 4]          --\n",
       "├─Flatten: 1-13                          [128, 2048]               --\n",
       "├─Identity: 1-14                         [128, 2048]               --\n",
       "├─Linear: 1-15                           [128, 64]                 131,136\n",
       "├─Identity: 1-16                         [128, 64]                 --\n",
       "├─ReLU: 1-17                             [128, 64]                 --\n",
       "├─Identity: 1-18                         [128, 64]                 --\n",
       "├─Linear: 1-19                           [128, 10]                 650\n",
       "==========================================================================================\n",
       "Total params: 225,034\n",
       "Trainable params: 225,034\n",
       "Non-trainable params: 0\n",
       "Total mult-adds (G): 1.35\n",
       "==========================================================================================\n",
       "Input size (MB): 1.57\n",
       "Forward/backward pass size (MB): 58.80\n",
       "Params size (MB): 0.90\n",
       "Estimated Total Size (MB): 61.27\n",
       "=========================================================================================="
      ]
     },
     "execution_count": 9,
     "metadata": {},
     "output_type": "execute_result"
    }
   ],
   "source": [
    "model, optimizer = get_model(activation_function=nn.ReLU)\n",
    "summary(model, input_size=input_size)"
   ]
  },
  {
   "cell_type": "markdown",
   "metadata": {},
   "source": [
    "## b) relu"
   ]
  },
  {
   "cell_type": "code",
   "execution_count": 10,
   "metadata": {},
   "outputs": [
    {
     "data": {
      "application/vnd.jupyter.widget-view+json": {
       "model_id": "a92e8c131787472ba57b21def53d046c",
       "version_major": 2,
       "version_minor": 0
      },
      "text/plain": [
       "Training Epoch 1:   0%|          | 0/391 [00:00<?, ?it/s]"
      ]
     },
     "metadata": {},
     "output_type": "display_data"
    },
    {
     "name": "stdout",
     "output_type": "stream",
     "text": [
      "Train Epoch: 1 [    0/50000 ( 0%)]\tLoss: 2.306485\n",
      "Train Epoch: 1 [25600/50000 (51%)]\tLoss: 1.623779\n"
     ]
    },
    {
     "data": {
      "application/vnd.jupyter.widget-view+json": {
       "model_id": "32e717ffcab64afd8547535fd215a6e8",
       "version_major": 2,
       "version_minor": 0
      },
      "text/plain": [
       "Validation:   0%|          | 0/79 [00:00<?, ?it/s]"
      ]
     },
     "metadata": {},
     "output_type": "display_data"
    },
    {
     "name": "stdout",
     "output_type": "stream",
     "text": [
      "Validation set: Average loss: 1.4310, Accuracy:  4842/10000 (48.42%)\n",
      "\n"
     ]
    },
    {
     "data": {
      "application/vnd.jupyter.widget-view+json": {
       "model_id": "a2e6b5e8e57445949256f33a250004dc",
       "version_major": 2,
       "version_minor": 0
      },
      "text/plain": [
       "Training Epoch 2:   0%|          | 0/391 [00:00<?, ?it/s]"
      ]
     },
     "metadata": {},
     "output_type": "display_data"
    },
    {
     "name": "stdout",
     "output_type": "stream",
     "text": [
      "Train Epoch: 2 [    0/50000 ( 0%)]\tLoss: 1.428466\n",
      "Train Epoch: 2 [25600/50000 (51%)]\tLoss: 1.230399\n"
     ]
    },
    {
     "data": {
      "application/vnd.jupyter.widget-view+json": {
       "model_id": "dcd8cd0e1c594e5494eae2d9b88fe04c",
       "version_major": 2,
       "version_minor": 0
      },
      "text/plain": [
       "Validation:   0%|          | 0/79 [00:00<?, ?it/s]"
      ]
     },
     "metadata": {},
     "output_type": "display_data"
    },
    {
     "name": "stdout",
     "output_type": "stream",
     "text": [
      "Validation set: Average loss: 1.2509, Accuracy:  5493/10000 (54.93%)\n",
      "\n"
     ]
    },
    {
     "data": {
      "application/vnd.jupyter.widget-view+json": {
       "model_id": "a0e27e897f9e454a9602e0b6cc9177f2",
       "version_major": 2,
       "version_minor": 0
      },
      "text/plain": [
       "Training Epoch 3:   0%|          | 0/391 [00:00<?, ?it/s]"
      ]
     },
     "metadata": {},
     "output_type": "display_data"
    },
    {
     "name": "stdout",
     "output_type": "stream",
     "text": [
      "Train Epoch: 3 [    0/50000 ( 0%)]\tLoss: 1.172634\n",
      "Train Epoch: 3 [25600/50000 (51%)]\tLoss: 1.221417\n"
     ]
    },
    {
     "data": {
      "application/vnd.jupyter.widget-view+json": {
       "model_id": "0f599299b84649e38125f80c137ee616",
       "version_major": 2,
       "version_minor": 0
      },
      "text/plain": [
       "Validation:   0%|          | 0/79 [00:00<?, ?it/s]"
      ]
     },
     "metadata": {},
     "output_type": "display_data"
    },
    {
     "name": "stdout",
     "output_type": "stream",
     "text": [
      "Validation set: Average loss: 1.1247, Accuracy:  5935/10000 (59.35%)\n",
      "\n"
     ]
    },
    {
     "data": {
      "application/vnd.jupyter.widget-view+json": {
       "model_id": "50a86e7a863e494598d8b9658976d6e4",
       "version_major": 2,
       "version_minor": 0
      },
      "text/plain": [
       "Training Epoch 4:   0%|          | 0/391 [00:00<?, ?it/s]"
      ]
     },
     "metadata": {},
     "output_type": "display_data"
    },
    {
     "name": "stdout",
     "output_type": "stream",
     "text": [
      "Train Epoch: 4 [    0/50000 ( 0%)]\tLoss: 1.172230\n",
      "Train Epoch: 4 [25600/50000 (51%)]\tLoss: 1.002753\n"
     ]
    },
    {
     "data": {
      "application/vnd.jupyter.widget-view+json": {
       "model_id": "c9d1d01e24094b0a87845b671ae23312",
       "version_major": 2,
       "version_minor": 0
      },
      "text/plain": [
       "Validation:   0%|          | 0/79 [00:00<?, ?it/s]"
      ]
     },
     "metadata": {},
     "output_type": "display_data"
    },
    {
     "name": "stdout",
     "output_type": "stream",
     "text": [
      "Validation set: Average loss: 1.0406, Accuracy:  6300/10000 (63.00%)\n",
      "\n"
     ]
    },
    {
     "data": {
      "application/vnd.jupyter.widget-view+json": {
       "model_id": "0ce6cfad528846f0bd00361690b0fa58",
       "version_major": 2,
       "version_minor": 0
      },
      "text/plain": [
       "Training Epoch 5:   0%|          | 0/391 [00:00<?, ?it/s]"
      ]
     },
     "metadata": {},
     "output_type": "display_data"
    },
    {
     "name": "stdout",
     "output_type": "stream",
     "text": [
      "Train Epoch: 5 [    0/50000 ( 0%)]\tLoss: 0.984220\n",
      "Train Epoch: 5 [25600/50000 (51%)]\tLoss: 0.897124\n"
     ]
    },
    {
     "data": {
      "application/vnd.jupyter.widget-view+json": {
       "model_id": "e67c217dde764b56891ecea2fa44528c",
       "version_major": 2,
       "version_minor": 0
      },
      "text/plain": [
       "Validation:   0%|          | 0/79 [00:00<?, ?it/s]"
      ]
     },
     "metadata": {},
     "output_type": "display_data"
    },
    {
     "name": "stdout",
     "output_type": "stream",
     "text": [
      "Validation set: Average loss: 0.9504, Accuracy:  6667/10000 (66.67%)\n",
      "\n"
     ]
    },
    {
     "data": {
      "application/vnd.jupyter.widget-view+json": {
       "model_id": "abf35b88a3104e9aad9d053465023a4c",
       "version_major": 2,
       "version_minor": 0
      },
      "text/plain": [
       "Training Epoch 6:   0%|          | 0/391 [00:00<?, ?it/s]"
      ]
     },
     "metadata": {},
     "output_type": "display_data"
    },
    {
     "name": "stdout",
     "output_type": "stream",
     "text": [
      "Train Epoch: 6 [    0/50000 ( 0%)]\tLoss: 0.950526\n",
      "Train Epoch: 6 [25600/50000 (51%)]\tLoss: 0.944699\n"
     ]
    },
    {
     "data": {
      "application/vnd.jupyter.widget-view+json": {
       "model_id": "d807fdf1bac4409b905222324b1c2da5",
       "version_major": 2,
       "version_minor": 0
      },
      "text/plain": [
       "Validation:   0%|          | 0/79 [00:00<?, ?it/s]"
      ]
     },
     "metadata": {},
     "output_type": "display_data"
    },
    {
     "name": "stdout",
     "output_type": "stream",
     "text": [
      "Validation set: Average loss: 0.8972, Accuracy:  6837/10000 (68.37%)\n",
      "\n"
     ]
    },
    {
     "data": {
      "application/vnd.jupyter.widget-view+json": {
       "model_id": "c00dc3221349405597896619716cf36a",
       "version_major": 2,
       "version_minor": 0
      },
      "text/plain": [
       "Training Epoch 7:   0%|          | 0/391 [00:00<?, ?it/s]"
      ]
     },
     "metadata": {},
     "output_type": "display_data"
    },
    {
     "name": "stdout",
     "output_type": "stream",
     "text": [
      "Train Epoch: 7 [    0/50000 ( 0%)]\tLoss: 0.751781\n",
      "Train Epoch: 7 [25600/50000 (51%)]\tLoss: 0.820461\n"
     ]
    },
    {
     "data": {
      "application/vnd.jupyter.widget-view+json": {
       "model_id": "8679774aad9e457bbd533a3718df2bed",
       "version_major": 2,
       "version_minor": 0
      },
      "text/plain": [
       "Validation:   0%|          | 0/79 [00:00<?, ?it/s]"
      ]
     },
     "metadata": {},
     "output_type": "display_data"
    },
    {
     "name": "stdout",
     "output_type": "stream",
     "text": [
      "Validation set: Average loss: 0.8772, Accuracy:  6942/10000 (69.42%)\n",
      "\n"
     ]
    },
    {
     "data": {
      "image/png": "[encoded data removed]",
      "text/plain": [
       "<Figure size 864x432 with 2 Axes>"
      ]
     },
     "metadata": {
      "needs_background": "light"
     },
     "output_type": "display_data"
    }
   ],
   "source": [
    "results_b = train_eval_loop(optimizer, criterion)\n",
    "plot_performance(*results_b)"
   ]
  },
  {
   "cell_type": "markdown",
   "metadata": {},
   "source": [
    "## c) tanh"
   ]
  },
  {
   "cell_type": "code",
   "execution_count": 11,
   "metadata": {},
   "outputs": [
    {
     "data": {
      "text/plain": [
       "==========================================================================================\n",
       "Layer (type:depth-idx)                   Output Shape              Param #\n",
       "==========================================================================================\n",
       "Sequential                               --                        --\n",
       "├─Conv2d: 1-1                            [128, 32, 32, 32]         896\n",
       "├─Identity: 1-2                          [128, 32, 32, 32]         --\n",
       "├─Tanh: 1-3                              [128, 32, 32, 32]         --\n",
       "├─MaxPool2d: 1-4                         [128, 32, 16, 16]         --\n",
       "├─Conv2d: 1-5                            [128, 64, 16, 16]         18,496\n",
       "├─Identity: 1-6                          [128, 64, 16, 16]         --\n",
       "├─Tanh: 1-7                              [128, 64, 16, 16]         --\n",
       "├─MaxPool2d: 1-8                         [128, 64, 8, 8]           --\n",
       "├─Conv2d: 1-9                            [128, 128, 8, 8]          73,856\n",
       "├─Identity: 1-10                         [128, 128, 8, 8]          --\n",
       "├─Tanh: 1-11                             [128, 128, 8, 8]          --\n",
       "├─MaxPool2d: 1-12                        [128, 128, 4, 4]          --\n",
       "├─Flatten: 1-13                          [128, 2048]               --\n",
       "├─Identity: 1-14                         [128, 2048]               --\n",
       "├─Linear: 1-15                           [128, 64]                 131,136\n",
       "├─Identity: 1-16                         [128, 64]                 --\n",
       "├─Tanh: 1-17                             [128, 64]                 --\n",
       "├─Identity: 1-18                         [128, 64]                 --\n",
       "├─Linear: 1-19                           [128, 10]                 650\n",
       "==========================================================================================\n",
       "Total params: 225,034\n",
       "Trainable params: 225,034\n",
       "Non-trainable params: 0\n",
       "Total mult-adds (G): 1.35\n",
       "==========================================================================================\n",
       "Input size (MB): 1.57\n",
       "Forward/backward pass size (MB): 58.80\n",
       "Params size (MB): 0.90\n",
       "Estimated Total Size (MB): 61.27\n",
       "=========================================================================================="
      ]
     },
     "execution_count": 11,
     "metadata": {},
     "output_type": "execute_result"
    }
   ],
   "source": [
    "model, optimizer = get_model(activation_function=nn.Tanh)\n",
    "summary(model, input_size=input_size)"
   ]
  },
  {
   "cell_type": "code",
   "execution_count": 12,
   "metadata": {},
   "outputs": [
    {
     "data": {
      "application/vnd.jupyter.widget-view+json": {
       "model_id": "2cf2eb90744b439a9dd2f8114f7bf4e7",
       "version_major": 2,
       "version_minor": 0
      },
      "text/plain": [
       "Training Epoch 1:   0%|          | 0/391 [00:00<?, ?it/s]"
      ]
     },
     "metadata": {},
     "output_type": "display_data"
    },
    {
     "name": "stdout",
     "output_type": "stream",
     "text": [
      "Train Epoch: 1 [    0/50000 ( 0%)]\tLoss: 2.304910\n",
      "Train Epoch: 1 [25600/50000 (51%)]\tLoss: 1.335939\n"
     ]
    },
    {
     "data": {
      "application/vnd.jupyter.widget-view+json": {
       "model_id": "743a119bbbaa4e7a95d929af442ab4b9",
       "version_major": 2,
       "version_minor": 0
      },
      "text/plain": [
       "Validation:   0%|          | 0/79 [00:00<?, ?it/s]"
      ]
     },
     "metadata": {},
     "output_type": "display_data"
    },
    {
     "name": "stdout",
     "output_type": "stream",
     "text": [
      "Validation set: Average loss: 1.1907, Accuracy:  5790/10000 (57.90%)\n",
      "\n"
     ]
    },
    {
     "data": {
      "application/vnd.jupyter.widget-view+json": {
       "model_id": "29489e23eabf485a9912a1c61ccf9b48",
       "version_major": 2,
       "version_minor": 0
      },
      "text/plain": [
       "Training Epoch 2:   0%|          | 0/391 [00:00<?, ?it/s]"
      ]
     },
     "metadata": {},
     "output_type": "display_data"
    },
    {
     "name": "stdout",
     "output_type": "stream",
     "text": [
      "Train Epoch: 2 [    0/50000 ( 0%)]\tLoss: 1.065759\n",
      "Train Epoch: 2 [25600/50000 (51%)]\tLoss: 1.148102\n"
     ]
    },
    {
     "data": {
      "application/vnd.jupyter.widget-view+json": {
       "model_id": "507ad41ca23148678098930bb3044537",
       "version_major": 2,
       "version_minor": 0
      },
      "text/plain": [
       "Validation:   0%|          | 0/79 [00:00<?, ?it/s]"
      ]
     },
     "metadata": {},
     "output_type": "display_data"
    },
    {
     "name": "stdout",
     "output_type": "stream",
     "text": [
      "Validation set: Average loss: 1.0128, Accuracy:  6366/10000 (63.66%)\n",
      "\n"
     ]
    },
    {
     "data": {
      "application/vnd.jupyter.widget-view+json": {
       "model_id": "0278b81ce6ba43aaaabf706eaf2afcbc",
       "version_major": 2,
       "version_minor": 0
      },
      "text/plain": [
       "Training Epoch 3:   0%|          | 0/391 [00:00<?, ?it/s]"
      ]
     },
     "metadata": {},
     "output_type": "display_data"
    },
    {
     "name": "stdout",
     "output_type": "stream",
     "text": [
      "Train Epoch: 3 [    0/50000 ( 0%)]\tLoss: 0.883469\n",
      "Train Epoch: 3 [25600/50000 (51%)]\tLoss: 1.108487\n"
     ]
    },
    {
     "data": {
      "application/vnd.jupyter.widget-view+json": {
       "model_id": "e40d81f8ffe9442286edafdd00f68760",
       "version_major": 2,
       "version_minor": 0
      },
      "text/plain": [
       "Validation:   0%|          | 0/79 [00:00<?, ?it/s]"
      ]
     },
     "metadata": {},
     "output_type": "display_data"
    },
    {
     "name": "stdout",
     "output_type": "stream",
     "text": [
      "Validation set: Average loss: 0.9668, Accuracy:  6578/10000 (65.78%)\n",
      "\n"
     ]
    },
    {
     "data": {
      "application/vnd.jupyter.widget-view+json": {
       "model_id": "a58d4ce527374954954cdd10adea1014",
       "version_major": 2,
       "version_minor": 0
      },
      "text/plain": [
       "Training Epoch 4:   0%|          | 0/391 [00:00<?, ?it/s]"
      ]
     },
     "metadata": {},
     "output_type": "display_data"
    },
    {
     "name": "stdout",
     "output_type": "stream",
     "text": [
      "Train Epoch: 4 [    0/50000 ( 0%)]\tLoss: 0.830630\n",
      "Train Epoch: 4 [25600/50000 (51%)]\tLoss: 0.880629\n"
     ]
    },
    {
     "data": {
      "application/vnd.jupyter.widget-view+json": {
       "model_id": "ee35d151ab6a4161a718f158c728bc0f",
       "version_major": 2,
       "version_minor": 0
      },
      "text/plain": [
       "Validation:   0%|          | 0/79 [00:00<?, ?it/s]"
      ]
     },
     "metadata": {},
     "output_type": "display_data"
    },
    {
     "name": "stdout",
     "output_type": "stream",
     "text": [
      "Validation set: Average loss: 0.8771, Accuracy:  6994/10000 (69.94%)\n",
      "\n"
     ]
    },
    {
     "data": {
      "application/vnd.jupyter.widget-view+json": {
       "model_id": "2432beb26a594e56bb186a53c2b4373e",
       "version_major": 2,
       "version_minor": 0
      },
      "text/plain": [
       "Training Epoch 5:   0%|          | 0/391 [00:00<?, ?it/s]"
      ]
     },
     "metadata": {},
     "output_type": "display_data"
    },
    {
     "name": "stdout",
     "output_type": "stream",
     "text": [
      "Train Epoch: 5 [    0/50000 ( 0%)]\tLoss: 0.717149\n",
      "Train Epoch: 5 [25600/50000 (51%)]\tLoss: 0.751756\n"
     ]
    },
    {
     "data": {
      "application/vnd.jupyter.widget-view+json": {
       "model_id": "ff68629276d746848be8040f79648048",
       "version_major": 2,
       "version_minor": 0
      },
      "text/plain": [
       "Validation:   0%|          | 0/79 [00:00<?, ?it/s]"
      ]
     },
     "metadata": {},
     "output_type": "display_data"
    },
    {
     "name": "stdout",
     "output_type": "stream",
     "text": [
      "Validation set: Average loss: 0.8671, Accuracy:  7054/10000 (70.54%)\n",
      "\n"
     ]
    },
    {
     "data": {
      "application/vnd.jupyter.widget-view+json": {
       "model_id": "6c235ab691aa4469a1327c1ff2df94ec",
       "version_major": 2,
       "version_minor": 0
      },
      "text/plain": [
       "Training Epoch 6:   0%|          | 0/391 [00:00<?, ?it/s]"
      ]
     },
     "metadata": {},
     "output_type": "display_data"
    },
    {
     "name": "stdout",
     "output_type": "stream",
     "text": [
      "Train Epoch: 6 [    0/50000 ( 0%)]\tLoss: 0.545409\n",
      "Train Epoch: 6 [25600/50000 (51%)]\tLoss: 0.638160\n"
     ]
    },
    {
     "data": {
      "application/vnd.jupyter.widget-view+json": {
       "model_id": "f3602d406aa446c08411f4d1907012eb",
       "version_major": 2,
       "version_minor": 0
      },
      "text/plain": [
       "Validation:   0%|          | 0/79 [00:00<?, ?it/s]"
      ]
     },
     "metadata": {},
     "output_type": "display_data"
    },
    {
     "name": "stdout",
     "output_type": "stream",
     "text": [
      "Validation set: Average loss: 0.8153, Accuracy:  7228/10000 (72.28%)\n",
      "\n"
     ]
    },
    {
     "data": {
      "application/vnd.jupyter.widget-view+json": {
       "model_id": "f3a61b6b5b7948baab9a6f012c745f58",
       "version_major": 2,
       "version_minor": 0
      },
      "text/plain": [
       "Training Epoch 7:   0%|          | 0/391 [00:00<?, ?it/s]"
      ]
     },
     "metadata": {},
     "output_type": "display_data"
    },
    {
     "name": "stdout",
     "output_type": "stream",
     "text": [
      "Train Epoch: 7 [    0/50000 ( 0%)]\tLoss: 0.464356\n",
      "Train Epoch: 7 [25600/50000 (51%)]\tLoss: 0.486970\n"
     ]
    },
    {
     "data": {
      "application/vnd.jupyter.widget-view+json": {
       "model_id": "85f68f154a0e4958858655b75785fd17",
       "version_major": 2,
       "version_minor": 0
      },
      "text/plain": [
       "Validation:   0%|          | 0/79 [00:00<?, ?it/s]"
      ]
     },
     "metadata": {},
     "output_type": "display_data"
    },
    {
     "name": "stdout",
     "output_type": "stream",
     "text": [
      "Validation set: Average loss: 0.8329, Accuracy:  7196/10000 (71.96%)\n",
      "\n"
     ]
    },
    {
     "data": {
      "image/png": "[encoded data removed]",
      "text/plain": [
       "<Figure size 864x432 with 2 Axes>"
      ]
     },
     "metadata": {
      "needs_background": "light"
     },
     "output_type": "display_data"
    }
   ],
   "source": [
    "results_c = train_eval_loop(optimizer, criterion)\n",
    "plot_performance(*results_c)"
   ]
  },
  {
   "cell_type": "markdown",
   "metadata": {},
   "source": [
    "## d) batchnorm"
   ]
  },
  {
   "cell_type": "code",
   "execution_count": null,
   "metadata": {},
   "outputs": [],
   "source": [
    "model, optimizer = get_model(activation_function=nn.ReLU, batchnorm=True)\n",
    "summary(model, input_size=input_size)"
   ]
  },
  {
   "cell_type": "code",
   "execution_count": null,
   "metadata": {},
   "outputs": [],
   "source": [
    "results_d_relu = train_eval_loop(optimizer, criterion)\n",
    "plot_performance(*results_d_relu)"
   ]
  },
  {
   "cell_type": "code",
   "execution_count": null,
   "metadata": {},
   "outputs": [],
   "source": [
    "model, optimizer = get_model(activation_function=nn.Tanh, batchnorm=True)\n",
    "summary(model, input_size=input_size)"
   ]
  },
  {
   "cell_type": "code",
   "execution_count": null,
   "metadata": {},
   "outputs": [],
   "source": [
    "results_d_tanh = train_eval_loop(optimizer, criterion)\n",
    "plot_performance(*results_d_tanh)"
   ]
  },
  {
   "cell_type": "markdown",
   "metadata": {},
   "source": [
    "## e) dropout"
   ]
  },
  {
   "cell_type": "code",
   "execution_count": null,
   "metadata": {},
   "outputs": [],
   "source": [
    "model, optimizer = get_model(activation_function=nn.Tanh, dropout=True, batchnorm=False)\n",
    "summary(model, input_size=input_size)"
   ]
  },
  {
   "cell_type": "code",
   "execution_count": null,
   "metadata": {},
   "outputs": [],
   "source": [
    "results_d_tanh = train_eval_loop(optimizer, criterion)\n",
    "plot_performance(*results_d_tanh)"
   ]
  },
  {
   "cell_type": "code",
   "execution_count": null,
   "metadata": {},
   "outputs": [],
   "source": [
    "model, optimizer = get_model(activation_function=nn.Tanh, dropout=True, batchnorm=True)\n",
    "summary(model, input_size=input_size)"
   ]
  },
  {
   "cell_type": "code",
   "execution_count": null,
   "metadata": {},
   "outputs": [],
   "source": [
    "results_d_tanh = train_eval_loop(optimizer, criterion)\n",
    "plot_performance(*results_d_tanh)"
   ]
  },
  {
   "cell_type": "markdown",
   "metadata": {},
   "source": [
    "## f) comparison"
   ]
  },
  {
   "cell_type": "code",
   "execution_count": null,
   "metadata": {},
   "outputs": [],
   "source": []
  }
 ],
 "metadata": {
  "colab": {
   "collapsed_sections": [
    "Y5N7LBMyKbTy",
    "gRlDvqykKbPL",
    "jgZF2uaXMALx",
    "NjFjHIqFNSlH"
   ],
   "name": "TemplateDeepLearning.ipynb",
   "provenance": []
  },
  "kernelspec": {
   "display_name": "Python 3 (ipykernel)",
   "language": "python",
   "name": "python3"
  },
  "language_info": {
   "codemirror_mode": {
    "name": "ipython",
    "version": 3
   },
   "file_extension": ".py",
   "mimetype": "text/x-python",
   "name": "python",
   "nbconvert_exporter": "python",
   "pygments_lexer": "ipython3",
   "version": "3.10.4"
  }
 },
 "nbformat": 4,
 "nbformat_minor": 1
}
